{
 "cells": [
  {
   "cell_type": "code",
   "execution_count": 1,
   "metadata": {},
   "outputs": [],
   "source": [
    "# import PyQt6.QtCore\n",
    "import os\n",
    "os.environ[\"QT_API\"] = \"pyqt5\"\n",
    "import matplotlib.pyplot as plt\n",
    "\n",
    "# Use qt backend for matplotlab to use interactive mne plots\n",
    "%matplotlib qt\n",
    "\n",
    "import mne \n",
    "import analysis.processing\n",
    "import pandas as pd\n",
    "import csv \n",
    "import os\n",
    "import tools.helpers\n",
    "from config import Config\n",
    "configObj = Config()\n",
    "configss = configObj.getConfigSnapshot()\n",
    "\n",
    "\n",
    "mne.set_log_level(verbose='WARNING', return_old_level=False, add_frames=None)"
   ]
  },
  {
   "cell_type": "code",
   "execution_count": 42,
   "metadata": {},
   "outputs": [
    {
     "name": "stdout",
     "output_type": "stream",
     "text": [
      "c:\\Users\\erangad\\Desktop\\Research\\reading_task\\psychopy_experiment\\conditions\\conditions.xlsx\n"
     ]
    }
   ],
   "source": [
    "PIDtoCondDict = tools.helpers.getPIDtoCondDict()"
   ]
  },
  {
   "cell_type": "code",
   "execution_count": 46,
   "metadata": {},
   "outputs": [],
   "source": [
    "# read group evokeds\n",
    "\n",
    "oddball_list_0 = []\n",
    "control_list_0 = []\n",
    "oddball_list_1 = []\n",
    "control_list_1 = []\n",
    "\n",
    "\n",
    "for pnum in (1,2,4):\n",
    "    block_num =  'D0'\n",
    "\n",
    "    raw = analysis.processing.loadSegmentedData(pnum, block_num)\n",
    "\n",
    "    raw.set_eeg_reference(ref_channels=['3RD'])\n",
    "\n",
    "\n",
    "    epochs, event_dict = analysis.processing.eventEpochdata(raw)\n",
    "\n",
    "    oddball = epochs[\"auditory/onset/stimulus/non_freq\"]\n",
    "    control = epochs[\"auditory/onset/stimulus/freq\"]\n",
    "\n",
    "    \n",
    "    oddball_list_0.append(oddball.average())\n",
    "    control_list_0.append(control.average())\n",
    "\n",
    "#PZ ~ 7Z\n",
    "    \n",
    "\n",
    "\n",
    "for pnum in (1,2,4):\n",
    "    block_num =  'D1'\n",
    "\n",
    "    raw = analysis.processing.loadSegmentedData(pnum, block_num)\n",
    "\n",
    "    raw.set_eeg_reference(ref_channels=['3RD'])\n",
    "\n",
    "\n",
    "    epochs, event_dict = analysis.processing.eventEpochdata(raw)\n",
    "\n",
    "    oddball = epochs[\"auditory/onset/stimulus/non_freq\"]\n",
    "    control = epochs[\"auditory/onset/stimulus/freq\"]\n",
    "\n",
    "    \n",
    "    oddball_list_1.append(oddball.average())\n",
    "    control_list_1.append(control.average())\n",
    "\n",
    "#PZ ~ 7Z    \n",
    "\n",
    "evokeds = dict(Oddball_first_set=oddball_list_0, Oddball_last_set=oddball_list_1)\n",
    "fig  =  mne.viz.plot_compare_evokeds(evokeds, picks=['7Z'], styles = {\"Oddball_first_set\": {\"color\" :'blue'}, \"Oddball_last_set\":{\"color\": 'black'}})"
   ]
  },
  {
   "cell_type": "code",
   "execution_count": 30,
   "metadata": {},
   "outputs": [
    {
     "ename": "ValueError",
     "evalue": "max() arg is an empty sequence",
     "output_type": "error",
     "traceback": [
      "\u001b[1;31m---------------------------------------------------------------------------\u001b[0m",
      "\u001b[1;31mValueError\u001b[0m                                Traceback (most recent call last)",
      "\u001b[1;32mc:\\Users\\erangad\\Desktop\\Research\\reading_task\\src\\erp_analysis.ipynb Cell 4\u001b[0m line \u001b[0;36m2\n\u001b[0;32m     <a href='vscode-notebook-cell:/c%3A/Users/erangad/Desktop/Research/reading_task/src/erp_analysis.ipynb#X15sZmlsZQ%3D%3D?line=21'>22</a>\u001b[0m baseline_correction_l \u001b[39m=\u001b[39m configss[\u001b[39m'\u001b[39m\u001b[39mbaseline_correction_l\u001b[39m\u001b[39m'\u001b[39m] \\\n\u001b[0;32m     <a href='vscode-notebook-cell:/c%3A/Users/erangad/Desktop/Research/reading_task/src/erp_analysis.ipynb#X15sZmlsZQ%3D%3D?line=22'>23</a>\u001b[0m     \u001b[39mif\u001b[39;00m configss[\u001b[39m'\u001b[39m\u001b[39mbaseline_correction_l\u001b[39m\u001b[39m'\u001b[39m] \u001b[39mis\u001b[39;00m \u001b[39mnot\u001b[39;00m \u001b[39mNone\u001b[39;00m \u001b[39melse\u001b[39;00m \u001b[39mNone\u001b[39;00m \n\u001b[0;32m     <a href='vscode-notebook-cell:/c%3A/Users/erangad/Desktop/Research/reading_task/src/erp_analysis.ipynb#X15sZmlsZQ%3D%3D?line=24'>25</a>\u001b[0m baseline_correction_h \u001b[39m=\u001b[39m configss[\u001b[39m'\u001b[39m\u001b[39mbaseline_correction_h\u001b[39m\u001b[39m'\u001b[39m] \\\n\u001b[0;32m     <a href='vscode-notebook-cell:/c%3A/Users/erangad/Desktop/Research/reading_task/src/erp_analysis.ipynb#X15sZmlsZQ%3D%3D?line=25'>26</a>\u001b[0m     \u001b[39mif\u001b[39;00m configss[\u001b[39m'\u001b[39m\u001b[39mbaseline_correction_h\u001b[39m\u001b[39m'\u001b[39m] \u001b[39mis\u001b[39;00m \u001b[39mnot\u001b[39;00m \u001b[39mNone\u001b[39;00m \u001b[39melse\u001b[39;00m \u001b[39mNone\u001b[39;00m\n\u001b[1;32m---> <a href='vscode-notebook-cell:/c%3A/Users/erangad/Desktop/Research/reading_task/src/erp_analysis.ipynb#X15sZmlsZQ%3D%3D?line=27'>28</a>\u001b[0m epochs \u001b[39m=\u001b[39m mne\u001b[39m.\u001b[39;49mEpochs(raw, events_from_annot, \n\u001b[0;32m     <a href='vscode-notebook-cell:/c%3A/Users/erangad/Desktop/Research/reading_task/src/erp_analysis.ipynb#X15sZmlsZQ%3D%3D?line=28'>29</a>\u001b[0m                     event_id\u001b[39m=\u001b[39;49mepoch_event_dict, tmin\u001b[39m=\u001b[39;49mtmin, tmax\u001b[39m=\u001b[39;49mtmax,\n\u001b[0;32m     <a href='vscode-notebook-cell:/c%3A/Users/erangad/Desktop/Research/reading_task/src/erp_analysis.ipynb#X15sZmlsZQ%3D%3D?line=29'>30</a>\u001b[0m                         preload\u001b[39m=\u001b[39;49m\u001b[39mTrue\u001b[39;49;00m, \n\u001b[0;32m     <a href='vscode-notebook-cell:/c%3A/Users/erangad/Desktop/Research/reading_task/src/erp_analysis.ipynb#X15sZmlsZQ%3D%3D?line=30'>31</a>\u001b[0m                     baseline\u001b[39m=\u001b[39;49m(\n\u001b[0;32m     <a href='vscode-notebook-cell:/c%3A/Users/erangad/Desktop/Research/reading_task/src/erp_analysis.ipynb#X15sZmlsZQ%3D%3D?line=31'>32</a>\u001b[0m                         baseline_correction_l,\n\u001b[0;32m     <a href='vscode-notebook-cell:/c%3A/Users/erangad/Desktop/Research/reading_task/src/erp_analysis.ipynb#X15sZmlsZQ%3D%3D?line=32'>33</a>\u001b[0m                             baseline_correction_h))\n\u001b[0;32m     <a href='vscode-notebook-cell:/c%3A/Users/erangad/Desktop/Research/reading_task/src/erp_analysis.ipynb#X15sZmlsZQ%3D%3D?line=34'>35</a>\u001b[0m \u001b[39m# clean_epochs =  removeArtifacts(raw, epochs)\u001b[39;00m\n",
      "File \u001b[1;32m<decorator-gen-226>:12\u001b[0m, in \u001b[0;36m__init__\u001b[1;34m(self, raw, events, event_id, tmin, tmax, baseline, picks, preload, reject, flat, proj, decim, reject_tmin, reject_tmax, detrend, on_missing, reject_by_annotation, metadata, event_repeated, verbose)\u001b[0m\n",
      "File \u001b[1;32mc:\\Users\\erangad\\AppData\\Local\\anaconda3\\envs\\env\\lib\\site-packages\\mne\\epochs.py:3571\u001b[0m, in \u001b[0;36mEpochs.__init__\u001b[1;34m(self, raw, events, event_id, tmin, tmax, baseline, picks, preload, reject, flat, proj, decim, reject_tmin, reject_tmax, detrend, on_missing, reject_by_annotation, metadata, event_repeated, verbose)\u001b[0m\n\u001b[0;32m   3566\u001b[0m     events, event_id, annotations \u001b[39m=\u001b[39m _events_from_annotations(\n\u001b[0;32m   3567\u001b[0m         raw, events, event_id, annotations, on_missing\n\u001b[0;32m   3568\u001b[0m     )\n\u001b[0;32m   3570\u001b[0m \u001b[39m# call BaseEpochs constructor\u001b[39;00m\n\u001b[1;32m-> 3571\u001b[0m \u001b[39msuper\u001b[39;49m()\u001b[39m.\u001b[39;49m\u001b[39m__init__\u001b[39;49m(\n\u001b[0;32m   3572\u001b[0m     info,\n\u001b[0;32m   3573\u001b[0m     \u001b[39mNone\u001b[39;49;00m,\n\u001b[0;32m   3574\u001b[0m     events,\n\u001b[0;32m   3575\u001b[0m     event_id,\n\u001b[0;32m   3576\u001b[0m     tmin,\n\u001b[0;32m   3577\u001b[0m     tmax,\n\u001b[0;32m   3578\u001b[0m     metadata\u001b[39m=\u001b[39;49mmetadata,\n\u001b[0;32m   3579\u001b[0m     baseline\u001b[39m=\u001b[39;49mbaseline,\n\u001b[0;32m   3580\u001b[0m     raw\u001b[39m=\u001b[39;49mraw,\n\u001b[0;32m   3581\u001b[0m     picks\u001b[39m=\u001b[39;49mpicks,\n\u001b[0;32m   3582\u001b[0m     reject\u001b[39m=\u001b[39;49mreject,\n\u001b[0;32m   3583\u001b[0m     flat\u001b[39m=\u001b[39;49mflat,\n\u001b[0;32m   3584\u001b[0m     decim\u001b[39m=\u001b[39;49mdecim,\n\u001b[0;32m   3585\u001b[0m     reject_tmin\u001b[39m=\u001b[39;49mreject_tmin,\n\u001b[0;32m   3586\u001b[0m     reject_tmax\u001b[39m=\u001b[39;49mreject_tmax,\n\u001b[0;32m   3587\u001b[0m     detrend\u001b[39m=\u001b[39;49mdetrend,\n\u001b[0;32m   3588\u001b[0m     proj\u001b[39m=\u001b[39;49mproj,\n\u001b[0;32m   3589\u001b[0m     on_missing\u001b[39m=\u001b[39;49mon_missing,\n\u001b[0;32m   3590\u001b[0m     preload_at_end\u001b[39m=\u001b[39;49mpreload,\n\u001b[0;32m   3591\u001b[0m     event_repeated\u001b[39m=\u001b[39;49mevent_repeated,\n\u001b[0;32m   3592\u001b[0m     verbose\u001b[39m=\u001b[39;49mverbose,\n\u001b[0;32m   3593\u001b[0m     raw_sfreq\u001b[39m=\u001b[39;49mraw_sfreq,\n\u001b[0;32m   3594\u001b[0m     annotations\u001b[39m=\u001b[39;49mannotations,\n\u001b[0;32m   3595\u001b[0m )\n",
      "File \u001b[1;32m<decorator-gen-210>:12\u001b[0m, in \u001b[0;36m__init__\u001b[1;34m(self, info, data, events, event_id, tmin, tmax, baseline, raw, picks, reject, flat, decim, reject_tmin, reject_tmax, detrend, proj, on_missing, preload_at_end, selection, drop_log, filename, metadata, event_repeated, raw_sfreq, annotations, verbose)\u001b[0m\n",
      "File \u001b[1;32mc:\\Users\\erangad\\AppData\\Local\\anaconda3\\envs\\env\\lib\\site-packages\\mne\\epochs.py:522\u001b[0m, in \u001b[0;36mBaseEpochs.__init__\u001b[1;34m(***failed resolving arguments***)\u001b[0m\n\u001b[0;32m    518\u001b[0m \u001b[39mself\u001b[39m\u001b[39m.\u001b[39mselection \u001b[39m=\u001b[39m selection\n\u001b[0;32m    519\u001b[0m \u001b[39mif\u001b[39;00m drop_log \u001b[39mis\u001b[39;00m \u001b[39mNone\u001b[39;00m:\n\u001b[0;32m    520\u001b[0m     \u001b[39mself\u001b[39m\u001b[39m.\u001b[39mdrop_log \u001b[39m=\u001b[39m \u001b[39mtuple\u001b[39m(\n\u001b[0;32m    521\u001b[0m         () \u001b[39mif\u001b[39;00m k \u001b[39min\u001b[39;00m \u001b[39mself\u001b[39m\u001b[39m.\u001b[39mselection \u001b[39melse\u001b[39;00m (\u001b[39m\"\u001b[39m\u001b[39mIGNORED\u001b[39m\u001b[39m\"\u001b[39m,)\n\u001b[1;32m--> 522\u001b[0m         \u001b[39mfor\u001b[39;00m k \u001b[39min\u001b[39;00m \u001b[39mrange\u001b[39m(\u001b[39mmax\u001b[39m(\u001b[39mlen\u001b[39m(\u001b[39mself\u001b[39m\u001b[39m.\u001b[39mevents), \u001b[39mmax\u001b[39;49m(\u001b[39mself\u001b[39;49m\u001b[39m.\u001b[39;49mselection) \u001b[39m+\u001b[39m \u001b[39m1\u001b[39m))\n\u001b[0;32m    523\u001b[0m     )\n\u001b[0;32m    524\u001b[0m \u001b[39melse\u001b[39;00m:\n\u001b[0;32m    525\u001b[0m     \u001b[39mself\u001b[39m\u001b[39m.\u001b[39mdrop_log \u001b[39m=\u001b[39m drop_log\n",
      "\u001b[1;31mValueError\u001b[0m: max() arg is an empty sequence"
     ]
    }
   ],
   "source": [
    "events_from_annot, event_dict =  mne.events_from_annotations(raw)\n",
    "\n",
    "stimcodes =  tools.helpers.getOVStimCodes()\n",
    "stimGroups = tools.helpers.getStimGroups()\n",
    "\n",
    "inv_stimCodesMap =  { v: k for k, v in stimcodes.items()}\n",
    "inv_stimGroupsMap = { v: k for k, v in stimGroups.items() }\n",
    "\n",
    "\n",
    "modified_event_dict =  { inv_stimGroupsMap[inv_stimCodesMap[int(k)]] :\n",
    "                        v for k,v in event_dict.items() \n",
    "                        if inv_stimCodesMap[int(k)] in inv_stimGroupsMap}\n",
    "\n",
    "\n",
    "epoch_event_dict =  {k:v for k, v in modified_event_dict.items() if 'freq' in k}     \n",
    "\n",
    "tmin = configss['epoch_tmin'] if configss['epoch_tmin'] is not None else None \n",
    "tmax = configss['epoch_tmax'] if configss['epoch_tmax'] is not None else None\n",
    "\n",
    "\n",
    "\n",
    "baseline_correction_l = configss['baseline_correction_l'] \\\n",
    "    if configss['baseline_correction_l'] is not None else None \n",
    "\n",
    "baseline_correction_h = configss['baseline_correction_h'] \\\n",
    "    if configss['baseline_correction_h'] is not None else None\n",
    "\n",
    "epochs = mne.Epochs(raw, events_from_annot, \n",
    "                    event_id=epoch_event_dict, tmin=tmin, tmax=tmax,\n",
    "                        preload=True, \n",
    "                    baseline=(\n",
    "                        baseline_correction_l,\n",
    "                            baseline_correction_h))\n",
    "\n",
    "# clean_epochs =  removeArtifacts(raw, epochs)\n"
   ]
  },
  {
   "cell_type": "code",
   "execution_count": 31,
   "metadata": {},
   "outputs": [
    {
     "data": {
      "text/plain": [
       "array([[218279,      0,      1],\n",
       "       [243079,      0,      2]])"
      ]
     },
     "execution_count": 31,
     "metadata": {},
     "output_type": "execute_result"
    }
   ],
   "source": [
    "events_from_annot"
   ]
  },
  {
   "cell_type": "code",
   "execution_count": 27,
   "metadata": {},
   "outputs": [
    {
     "data": {
      "text/plain": [
       "{'33028': 1}"
      ]
     },
     "execution_count": 27,
     "metadata": {},
     "output_type": "execute_result"
    }
   ],
   "source": [
    "event_dict"
   ]
  },
  {
   "cell_type": "code",
   "execution_count": 24,
   "metadata": {},
   "outputs": [],
   "source": [
    "modified_event_dict =  { inv_stimGroupsMap[inv_stimCodesMap[int(k)]] :\n",
    "                        v for k,v in event_dict.items() \n",
    "                        if inv_stimCodesMap[int(k)] in inv_stimGroupsMap}"
   ]
  },
  {
   "cell_type": "code",
   "execution_count": 25,
   "metadata": {},
   "outputs": [
    {
     "data": {
      "text/plain": [
       "{'timing/attentive/stop': 1}"
      ]
     },
     "execution_count": 25,
     "metadata": {},
     "output_type": "execute_result"
    }
   ],
   "source": [
    "modified_event_dict"
   ]
  },
  {
   "cell_type": "code",
   "execution_count": 26,
   "metadata": {},
   "outputs": [
    {
     "data": {
      "text/plain": [
       "{'OVTK_StimulationId_ExperimentStart': 32769,\n",
       " 'OVTK_StimulationId_ExperimentStop': 32770,\n",
       " 'OVTK_StimulationId_SegmentStart': 32771,\n",
       " 'OVTK_StimulationId_SegmentStop': 32772,\n",
       " 'OVTK_StimulationId_TrialStart': 32773,\n",
       " 'OVTK_StimulationId_TrialStop': 32774,\n",
       " 'OVTK_StimulationId_BaselineStart': 32775,\n",
       " 'OVTK_StimulationId_BaselineStop': 32776,\n",
       " 'OVTK_StimulationId_RestStart': 32777,\n",
       " 'OVTK_StimulationId_RestStop': 32778,\n",
       " 'OVTK_StimulationId_VisualStimulationStart': 32779,\n",
       " 'OVTK_StimulationId_VisualStimulationStop': 32780,\n",
       " 'OVTK_StimulationId_VisualSteadyStateStimulationStart': 32784,\n",
       " 'OVTK_StimulationId_VisualSteadyStateStimulationStop': 32785,\n",
       " 'OVTK_StimulationId_Button1_Pressed': 32786,\n",
       " 'OVTK_StimulationId_Button1_Released': 32787,\n",
       " 'OVTK_StimulationId_Button2_Pressed': 32788,\n",
       " 'OVTK_StimulationId_Button2_Released': 32789,\n",
       " 'OVTK_StimulationId_Button3_Pressed': 32790,\n",
       " 'OVTK_StimulationId_Button3_Released': 32791,\n",
       " 'OVTK_StimulationId_Button4_Pressed': 32792,\n",
       " 'OVTK_StimulationId_Button4_Released': 32793,\n",
       " 'OVTK_StimulationId_Label_00': 33024,\n",
       " 'OVTK_StimulationId_Label_01': 33025,\n",
       " 'OVTK_StimulationId_Label_02': 33026,\n",
       " 'OVTK_StimulationId_Label_03': 33027,\n",
       " 'OVTK_StimulationId_Label_04': 33028,\n",
       " 'OVTK_StimulationId_Label_05': 33029,\n",
       " 'OVTK_StimulationId_Label_06': 33030,\n",
       " 'OVTK_StimulationId_Label_07': 33031,\n",
       " 'OVTK_StimulationId_Label_08': 33032,\n",
       " 'OVTK_StimulationId_Label_09': 33033,\n",
       " 'OVTK_StimulationId_Label_0A': 33034,\n",
       " 'OVTK_StimulationId_Label_0B': 33035,\n",
       " 'OVTK_StimulationId_Label_0C': 33036,\n",
       " 'OVTK_StimulationId_Label_0D': 33037,\n",
       " 'OVTK_StimulationId_Label_0E': 33038,\n",
       " 'OVTK_StimulationId_Label_0F': 33039,\n",
       " 'OVTK_StimulationId_Label_10': 33040,\n",
       " 'OVTK_StimulationId_Label_11': 33041,\n",
       " 'OVTK_StimulationId_Label_12': 33042,\n",
       " 'OVTK_StimulationId_Label_13': 33043,\n",
       " 'OVTK_StimulationId_Label_14': 33044,\n",
       " 'OVTK_StimulationId_Label_15': 33045,\n",
       " 'OVTK_StimulationId_Label_16': 33046,\n",
       " 'OVTK_StimulationId_Label_17': 33047,\n",
       " 'OVTK_StimulationId_Label_18': 33048,\n",
       " 'OVTK_StimulationId_Label_19': 33049,\n",
       " 'OVTK_StimulationId_Label_1A': 33050,\n",
       " 'OVTK_StimulationId_Label_1B': 33051,\n",
       " 'OVTK_StimulationId_Label_1C': 33052,\n",
       " 'OVTK_StimulationId_Label_1D': 33053,\n",
       " 'OVTK_StimulationId_Label_1E': 33054,\n",
       " 'OVTK_StimulationId_Label_1F': 33055,\n",
       " 'OVTK_StimulationId_Label_20': 33056,\n",
       " 'OVTK_StimulationId_Label_21': 33057,\n",
       " 'OVTK_StimulationId_Label_22': 33058,\n",
       " 'OVTK_StimulationId_Label_23': 33059,\n",
       " 'OVTK_StimulationId_Label_24': 33060,\n",
       " 'OVTK_StimulationId_Label_25': 33061,\n",
       " 'OVTK_StimulationId_Label_26': 33062,\n",
       " 'OVTK_StimulationId_Label_27': 33063,\n",
       " 'OVTK_StimulationId_Label_28': 33064,\n",
       " 'OVTK_StimulationId_Label_29': 33065,\n",
       " 'OVTK_StimulationId_Label_2A': 33066,\n",
       " 'OVTK_StimulationId_Label_2B': 33067,\n",
       " 'OVTK_StimulationId_Label_2C': 33068,\n",
       " 'OVTK_StimulationId_Label_2D': 33069,\n",
       " 'OVTK_StimulationId_Label_2E': 33070,\n",
       " 'OVTK_StimulationId_Label_2F': 33071,\n",
       " 'OVTK_StimulationId_Label_30': 33072,\n",
       " 'OVTK_StimulationId_Label_31': 33073,\n",
       " 'OVTK_StimulationId_Label_32': 33074,\n",
       " 'OVTK_StimulationId_Label_33': 33075,\n",
       " 'OVTK_StimulationId_Label_34': 33076,\n",
       " 'OVTK_StimulationId_Label_35': 33077,\n",
       " 'OVTK_StimulationId_Label_36': 33078,\n",
       " 'OVTK_StimulationId_Label_37': 33079,\n",
       " 'OVTK_StimulationId_Label_38': 33080,\n",
       " 'OVTK_StimulationId_Label_39': 33081,\n",
       " 'OVTK_StimulationId_Label_3A': 33082,\n",
       " 'OVTK_StimulationId_Label_3B': 33083,\n",
       " 'OVTK_StimulationId_Label_3C': 33084,\n",
       " 'OVTK_StimulationId_Label_3D': 33085,\n",
       " 'OVTK_StimulationId_Label_3E': 33086,\n",
       " 'OVTK_StimulationId_Label_3F': 33087,\n",
       " 'OVTK_StimulationId_Label_40': 33088,\n",
       " 'OVTK_StimulationId_Label_41': 33089,\n",
       " 'OVTK_StimulationId_Label_42': 33090,\n",
       " 'OVTK_StimulationId_Label_43': 33091,\n",
       " 'OVTK_StimulationId_Label_44': 33092,\n",
       " 'OVTK_StimulationId_Label_45': 33093,\n",
       " 'OVTK_StimulationId_Label_46': 33094,\n",
       " 'OVTK_StimulationId_Label_47': 33095,\n",
       " 'OVTK_StimulationId_Label_48': 33096,\n",
       " 'OVTK_StimulationId_Label_49': 33097,\n",
       " 'OVTK_StimulationId_Label_4A': 33098,\n",
       " 'OVTK_StimulationId_Label_4B': 33099,\n",
       " 'OVTK_StimulationId_Label_4C': 33100,\n",
       " 'OVTK_StimulationId_Label_4D': 33101,\n",
       " 'OVTK_StimulationId_Label_4E': 33102,\n",
       " 'OVTK_StimulationId_Label_4F': 33103,\n",
       " 'OVTK_StimulationId_Label_50': 33104,\n",
       " 'OVTK_StimulationId_Label_51': 33105,\n",
       " 'OVTK_StimulationId_Label_52': 33106,\n",
       " 'OVTK_StimulationId_Label_53': 33107,\n",
       " 'OVTK_StimulationId_Label_54': 33108,\n",
       " 'OVTK_StimulationId_Label_55': 33109,\n",
       " 'OVTK_StimulationId_Label_56': 33110,\n",
       " 'OVTK_StimulationId_Label_57': 33111,\n",
       " 'OVTK_StimulationId_Label_58': 33112,\n",
       " 'OVTK_StimulationId_Label_59': 33113,\n",
       " 'OVTK_StimulationId_Label_5A': 33114,\n",
       " 'OVTK_StimulationId_Label_5B': 33115,\n",
       " 'OVTK_StimulationId_Label_5C': 33116,\n",
       " 'OVTK_StimulationId_Label_5D': 33117,\n",
       " 'OVTK_StimulationId_Label_5E': 33118,\n",
       " 'OVTK_StimulationId_Label_5F': 33119,\n",
       " 'OVTK_StimulationId_Label_60': 33120,\n",
       " 'OVTK_StimulationId_Label_61': 33121,\n",
       " 'OVTK_StimulationId_Label_62': 33122,\n",
       " 'OVTK_StimulationId_Label_63': 33123,\n",
       " 'OVTK_StimulationId_Label_64': 33124,\n",
       " 'OVTK_StimulationId_Label_65': 33125,\n",
       " 'OVTK_StimulationId_Label_66': 33126,\n",
       " 'OVTK_StimulationId_Label_67': 33127,\n",
       " 'OVTK_StimulationId_Label_68': 33128,\n",
       " 'OVTK_StimulationId_Label_69': 33129,\n",
       " 'OVTK_StimulationId_Label_6A': 33130,\n",
       " 'OVTK_StimulationId_Label_6B': 33131,\n",
       " 'OVTK_StimulationId_Label_6C': 33132,\n",
       " 'OVTK_StimulationId_Label_6D': 33133,\n",
       " 'OVTK_StimulationId_Label_6E': 33134,\n",
       " 'OVTK_StimulationId_Label_6F': 33135,\n",
       " 'OVTK_StimulationId_Label_70': 33136,\n",
       " 'OVTK_StimulationId_Label_71': 33137,\n",
       " 'OVTK_StimulationId_Label_72': 33138,\n",
       " 'OVTK_StimulationId_Label_73': 33139,\n",
       " 'OVTK_StimulationId_Label_74': 33140,\n",
       " 'OVTK_StimulationId_Label_75': 33141,\n",
       " 'OVTK_StimulationId_Label_76': 33142,\n",
       " 'OVTK_StimulationId_Label_77': 33143,\n",
       " 'OVTK_StimulationId_Label_78': 33144,\n",
       " 'OVTK_StimulationId_Label_79': 33145,\n",
       " 'OVTK_StimulationId_Label_7A': 33146,\n",
       " 'OVTK_StimulationId_Label_7B': 33147,\n",
       " 'OVTK_StimulationId_Label_7C': 33148,\n",
       " 'OVTK_StimulationId_Label_7D': 33149,\n",
       " 'OVTK_StimulationId_Label_7E': 33150,\n",
       " 'OVTK_StimulationId_Label_7F': 33151,\n",
       " 'OVTK_StimulationId_Label_80': 33152,\n",
       " 'OVTK_StimulationId_Label_81': 33153,\n",
       " 'OVTK_StimulationId_Label_82': 33154,\n",
       " 'OVTK_StimulationId_Label_83': 33155,\n",
       " 'OVTK_StimulationId_Label_84': 33156,\n",
       " 'OVTK_StimulationId_Label_85': 33157,\n",
       " 'OVTK_StimulationId_Label_86': 33158,\n",
       " 'OVTK_StimulationId_Label_87': 33159,\n",
       " 'OVTK_StimulationId_Label_88': 33160,\n",
       " 'OVTK_StimulationId_Label_89': 33161,\n",
       " 'OVTK_StimulationId_Label_8A': 33162,\n",
       " 'OVTK_StimulationId_Label_8B': 33163,\n",
       " 'OVTK_StimulationId_Label_8C': 33164,\n",
       " 'OVTK_StimulationId_Label_8D': 33165,\n",
       " 'OVTK_StimulationId_Label_8E': 33166,\n",
       " 'OVTK_StimulationId_Label_8F': 33167,\n",
       " 'OVTK_StimulationId_Label_90': 33168,\n",
       " 'OVTK_StimulationId_Label_91': 33169,\n",
       " 'OVTK_StimulationId_Label_92': 33170,\n",
       " 'OVTK_StimulationId_Label_93': 33171,\n",
       " 'OVTK_StimulationId_Label_94': 33172,\n",
       " 'OVTK_StimulationId_Label_95': 33173,\n",
       " 'OVTK_StimulationId_Label_96': 33174,\n",
       " 'OVTK_StimulationId_Label_97': 33175,\n",
       " 'OVTK_StimulationId_Label_98': 33176,\n",
       " 'OVTK_StimulationId_Label_99': 33177,\n",
       " 'OVTK_StimulationId_Label_9A': 33178,\n",
       " 'OVTK_StimulationId_Label_9B': 33179,\n",
       " 'OVTK_StimulationId_Label_9C': 33180,\n",
       " 'OVTK_StimulationId_Label_9D': 33181,\n",
       " 'OVTK_StimulationId_Label_9E': 33182,\n",
       " 'OVTK_StimulationId_Label_9F': 33183,\n",
       " 'OVTK_StimulationId_Label_A0': 33184,\n",
       " 'OVTK_StimulationId_Label_A1': 33185,\n",
       " 'OVTK_StimulationId_Label_A2': 33186,\n",
       " 'OVTK_StimulationId_Label_A3': 33187,\n",
       " 'OVTK_StimulationId_Label_A4': 33188,\n",
       " 'OVTK_StimulationId_Label_A5': 33189,\n",
       " 'OVTK_StimulationId_Label_A6': 33190,\n",
       " 'OVTK_StimulationId_Label_A7': 33191,\n",
       " 'OVTK_StimulationId_Label_A8': 33192,\n",
       " 'OVTK_StimulationId_Label_A9': 33193,\n",
       " 'OVTK_StimulationId_Label_AA': 33194,\n",
       " 'OVTK_StimulationId_Label_AB': 33195,\n",
       " 'OVTK_StimulationId_Label_AC': 33196,\n",
       " 'OVTK_StimulationId_Label_AD': 33197,\n",
       " 'OVTK_StimulationId_Label_AE': 33198,\n",
       " 'OVTK_StimulationId_Label_AF': 33199,\n",
       " 'OVTK_StimulationId_Label_B0': 33200,\n",
       " 'OVTK_StimulationId_Label_B1': 33201,\n",
       " 'OVTK_StimulationId_Label_B2': 33202,\n",
       " 'OVTK_StimulationId_Label_B3': 33203,\n",
       " 'OVTK_StimulationId_Label_B4': 33204,\n",
       " 'OVTK_StimulationId_Label_B5': 33205,\n",
       " 'OVTK_StimulationId_Label_B6': 33206,\n",
       " 'OVTK_StimulationId_Label_B7': 33207,\n",
       " 'OVTK_StimulationId_Label_B8': 33208,\n",
       " 'OVTK_StimulationId_Label_B9': 33209,\n",
       " 'OVTK_StimulationId_Label_BA': 33210,\n",
       " 'OVTK_StimulationId_Label_BB': 33211,\n",
       " 'OVTK_StimulationId_Label_BC': 33212,\n",
       " 'OVTK_StimulationId_Label_BD': 33213,\n",
       " 'OVTK_StimulationId_Label_BE': 33214,\n",
       " 'OVTK_StimulationId_Label_BF': 33215,\n",
       " 'OVTK_StimulationId_Label_C0': 33216,\n",
       " 'OVTK_StimulationId_Label_C1': 33217,\n",
       " 'OVTK_StimulationId_Label_C2': 33218,\n",
       " 'OVTK_StimulationId_Label_C3': 33219,\n",
       " 'OVTK_StimulationId_Label_C4': 33220,\n",
       " 'OVTK_StimulationId_Label_C5': 33221,\n",
       " 'OVTK_StimulationId_Label_C6': 33222,\n",
       " 'OVTK_StimulationId_Label_C7': 33223,\n",
       " 'OVTK_StimulationId_Label_C8': 33224,\n",
       " 'OVTK_StimulationId_Label_C9': 33225,\n",
       " 'OVTK_StimulationId_Label_CA': 33226,\n",
       " 'OVTK_StimulationId_Label_CB': 33227,\n",
       " 'OVTK_StimulationId_Label_CC': 33228,\n",
       " 'OVTK_StimulationId_Label_CD': 33229,\n",
       " 'OVTK_StimulationId_Label_CE': 33230,\n",
       " 'OVTK_StimulationId_Label_CF': 33231,\n",
       " 'OVTK_StimulationId_Label_D0': 33232,\n",
       " 'OVTK_StimulationId_Label_D1': 33233,\n",
       " 'OVTK_StimulationId_Label_D2': 33234,\n",
       " 'OVTK_StimulationId_Label_D3': 33235,\n",
       " 'OVTK_StimulationId_Label_D4': 33236,\n",
       " 'OVTK_StimulationId_Label_D5': 33237,\n",
       " 'OVTK_StimulationId_Label_D6': 33238,\n",
       " 'OVTK_StimulationId_Label_D7': 33239,\n",
       " 'OVTK_StimulationId_Label_D8': 33240,\n",
       " 'OVTK_StimulationId_Label_D9': 33241,\n",
       " 'OVTK_StimulationId_Label_DA': 33242,\n",
       " 'OVTK_StimulationId_Label_DB': 33243,\n",
       " 'OVTK_StimulationId_Label_DC': 33244,\n",
       " 'OVTK_StimulationId_Label_DD': 33245,\n",
       " 'OVTK_StimulationId_Label_DE': 33246,\n",
       " 'OVTK_StimulationId_Label_DF': 33247,\n",
       " 'OVTK_StimulationId_Label_E0': 33248,\n",
       " 'OVTK_StimulationId_Label_E1': 33249,\n",
       " 'OVTK_StimulationId_Label_E2': 33250,\n",
       " 'OVTK_StimulationId_Label_E3': 33251,\n",
       " 'OVTK_StimulationId_Label_E4': 33252,\n",
       " 'OVTK_StimulationId_Label_E5': 33253,\n",
       " 'OVTK_StimulationId_Label_E6': 33254,\n",
       " 'OVTK_StimulationId_Label_E7': 33255,\n",
       " 'OVTK_StimulationId_Label_E8': 33256,\n",
       " 'OVTK_StimulationId_Label_E9': 33257,\n",
       " 'OVTK_StimulationId_Label_EA': 33258,\n",
       " 'OVTK_StimulationId_Label_EB': 33259,\n",
       " 'OVTK_StimulationId_Label_EC': 33260,\n",
       " 'OVTK_StimulationId_Label_ED': 33261,\n",
       " 'OVTK_StimulationId_Label_EE': 33262,\n",
       " 'OVTK_StimulationId_Label_EF': 33263,\n",
       " 'OVTK_StimulationId_Label_F0': 33264,\n",
       " 'OVTK_StimulationId_Label_F1': 33265,\n",
       " 'OVTK_StimulationId_Label_F2': 33266,\n",
       " 'OVTK_StimulationId_Label_F3': 33267,\n",
       " 'OVTK_StimulationId_Label_F4': 33268,\n",
       " 'OVTK_StimulationId_Label_F5': 33269,\n",
       " 'OVTK_StimulationId_Label_F6': 33270,\n",
       " 'OVTK_StimulationId_Label_F7': 33271,\n",
       " 'OVTK_StimulationId_Label_F8': 33272,\n",
       " 'OVTK_StimulationId_Label_F9': 33273,\n",
       " 'OVTK_StimulationId_Label_FA': 33274,\n",
       " 'OVTK_StimulationId_Label_FB': 33275,\n",
       " 'OVTK_StimulationId_Label_FC': 33276,\n",
       " 'OVTK_StimulationId_Label_FD': 33277,\n",
       " 'OVTK_StimulationId_Label_FE': 33278,\n",
       " 'OVTK_StimulationId_Label_FF': 33279,\n",
       " 'OVTK_StimulationId_Number_00': 0,\n",
       " 'OVTK_StimulationId_Number_01': 1,\n",
       " 'OVTK_StimulationId_Number_02': 2,\n",
       " 'OVTK_StimulationId_Number_03': 3,\n",
       " 'OVTK_StimulationId_Number_04': 4,\n",
       " 'OVTK_StimulationId_Number_05': 5,\n",
       " 'OVTK_StimulationId_Number_06': 6,\n",
       " 'OVTK_StimulationId_Number_07': 7,\n",
       " 'OVTK_StimulationId_Number_08': 8,\n",
       " 'OVTK_StimulationId_Number_09': 9,\n",
       " 'OVTK_StimulationId_Number_0A': 10,\n",
       " 'OVTK_StimulationId_Number_0B': 11,\n",
       " 'OVTK_StimulationId_Number_0C': 12,\n",
       " 'OVTK_StimulationId_Number_0D': 13,\n",
       " 'OVTK_StimulationId_Number_0E': 14,\n",
       " 'OVTK_StimulationId_Number_0F': 15,\n",
       " 'OVTK_StimulationId_Number_10': 16,\n",
       " 'OVTK_StimulationId_Number_11': 17,\n",
       " 'OVTK_StimulationId_Number_12': 18,\n",
       " 'OVTK_StimulationId_Number_13': 19,\n",
       " 'OVTK_StimulationId_Number_14': 20,\n",
       " 'OVTK_StimulationId_Number_15': 21,\n",
       " 'OVTK_StimulationId_Number_16': 22,\n",
       " 'OVTK_StimulationId_Number_17': 23,\n",
       " 'OVTK_StimulationId_Number_18': 24,\n",
       " 'OVTK_StimulationId_Number_19': 25,\n",
       " 'OVTK_StimulationId_Number_1A': 26,\n",
       " 'OVTK_StimulationId_Number_1B': 27,\n",
       " 'OVTK_StimulationId_Number_1C': 28,\n",
       " 'OVTK_StimulationId_Number_1D': 29,\n",
       " 'OVTK_StimulationId_Number_1E': 30,\n",
       " 'OVTK_StimulationId_Number_1F': 31,\n",
       " 'OVTK_StimulationId_Train': 33281,\n",
       " 'OVTK_StimulationId_Beep': 33282,\n",
       " 'OVTK_StimulationId_DoubleBeep': 33283,\n",
       " 'OVTK_StimulationId_EndOfFile': 33284,\n",
       " 'OVTK_StimulationId_Target': 33285,\n",
       " 'OVTK_StimulationId_NonTarget': 33286,\n",
       " 'OVTK_StimulationId_TrainCompleted': 33287,\n",
       " 'OVTK_StimulationId_Reset': 33288,\n",
       " 'OVTK_StimulationId_ThresholdPassed_Positive': 33289,\n",
       " 'OVTK_StimulationId_ThresholdPassed_Negative': 33296,\n",
       " 'OVTK_StimulationId_NoArtifact': 33537,\n",
       " 'OVTK_StimulationId_Artifact': 33538,\n",
       " 'OVTK_StimulationId_RemovedSamples': 33552,\n",
       " 'OVTK_StimulationId_AddedSamplesBegin': 33553,\n",
       " 'OVTK_StimulationId_AddedSamplesEnd': 33554,\n",
       " 'OVTK_GDF_Artifact_EOG_Large': 257,\n",
       " 'OVTK_GDF_Artifact_ECG': 258,\n",
       " 'OVTK_GDF_Artifact_EMG': 259,\n",
       " 'OVTK_GDF_Artifact_Movement': 260,\n",
       " 'OVTK_GDF_Artifact_Failing_Electrode': 261,\n",
       " 'OVTK_GDF_Artifact_Sweat': 262,\n",
       " 'OVTK_GDF_Artifact_50_60_Hz_Interference': 263,\n",
       " 'OVTK_GDF_Artifact_Breathing': 264,\n",
       " 'OVTK_GDF_Artifact_Pulse': 265,\n",
       " 'OVTK_GDF_Artifact_EOG_Small': 266,\n",
       " 'OVTK_GDF_Calibration': 271,\n",
       " 'OVTK_GDF_EEG_Sleep_Splindles': 273,\n",
       " 'OVTK_GDF_EEG_K_Complexes': 274,\n",
       " 'OVTK_GDF_EEG_Saw_Tooth_Waves': 275,\n",
       " 'OVTK_GDF_EEG_Idling_EEG_Eyes_Open': 276,\n",
       " 'OVTK_GDF_EEG_Idling_EEG_Eyes_Closed': 277,\n",
       " 'OVTK_GDF_EEG_Spike': 278,\n",
       " 'OVTK_GDF_EEG_Seizure': 279,\n",
       " 'OVTK_GDF_VEP': 289,\n",
       " 'OVTK_GDF_AEP': 290,\n",
       " 'OVTK_GDF_SEP': 291,\n",
       " 'OVTK_GDF_TMS': 303,\n",
       " 'OVTK_GDF_SSVEP': 305,\n",
       " 'OVTK_GDF_SSAEP': 306,\n",
       " 'OVTK_GDF_SSSEP': 307,\n",
       " 'OVTK_GDF_Start_Of_Trial': 768,\n",
       " 'OVTK_GDF_Left': 769,\n",
       " 'OVTK_GDF_Right': 770,\n",
       " 'OVTK_GDF_Foot': 771,\n",
       " 'OVTK_GDF_Tongue': 772,\n",
       " 'OVTK_GDF_class5': 773,\n",
       " 'OVTK_GDF_Down': 774,\n",
       " 'OVTK_GDF_class7': 775,\n",
       " 'OVTK_GDF_class8': 776,\n",
       " 'OVTK_GDF_class9': 777,\n",
       " 'OVTK_GDF_class10': 778,\n",
       " 'OVTK_GDF_class11': 779,\n",
       " 'OVTK_GDF_Up': 780,\n",
       " 'OVTK_GDF_Feedback_Continuous': 781,\n",
       " 'OVTK_GDF_Feedback_Discrete': 782,\n",
       " 'OVTK_GDF_Cue_Unknown_Undefined': 783,\n",
       " 'OVTK_GDF_Beep': 785,\n",
       " 'OVTK_GDF_Cross_On_Screen': 786,\n",
       " 'OVTK_GDF_Flashing_Light': 787,\n",
       " 'OVTK_GDF_End_Of_Trial': 800,\n",
       " 'OVTK_GDF_Correct': 897,\n",
       " 'OVTK_GDF_Incorrect': 898,\n",
       " 'OVTK_GDF_End_Of_Session': 1010,\n",
       " 'OVTK_GDF_Rejection': 1023,\n",
       " 'OVTK_GDF_OAHE': 1025,\n",
       " 'OVTK_GDF_RERA': 1026,\n",
       " 'OVTK_GDF_CAHE': 1027,\n",
       " 'OVTK_GDF_CSB': 1028,\n",
       " 'OVTK_GDF_Sleep_Hypoventilation': 1029,\n",
       " 'OVTK_GDF_Maximum_Inspiration': 1038,\n",
       " 'OVTK_GDF_Start_Of_Inspiration': 1039,\n",
       " 'OVTK_GDF_Wake': 1040,\n",
       " 'OVTK_GDF_Stage_1': 1041,\n",
       " 'OVTK_GDF_Stage_2': 1042,\n",
       " 'OVTK_GDF_Stage_3': 1043,\n",
       " 'OVTK_GDF_Stage_4': 1044,\n",
       " 'OVTK_GDF_REM': 1045,\n",
       " 'OVTK_GDF_Lights_On': 1056,\n",
       " 'OVTK_GDF_Lights_Off': 33824,\n",
       " 'OVTK_GDF_Eyes_Left': 1073,\n",
       " 'OVTK_GDF_Eyes_Right': 1074,\n",
       " 'OVTK_GDF_Eyes_Up': 1075,\n",
       " 'OVTK_GDF_Eyes_Down': 1076,\n",
       " 'OVTK_GDF_Horizontal_Eye_Movement': 1077,\n",
       " 'OVTK_GDF_Vertical_Eye_Movement': 1078,\n",
       " 'OVTK_GDF_Rotation_Clockwise': 1079,\n",
       " 'OVTK_GDF_Rotation_Counterclockwise': 1080,\n",
       " 'OVTK_GDF_Eye_Blink': 1081,\n",
       " 'OVTK_GDF_Left_Hand_Movement': 1089,\n",
       " 'OVTK_GDF_Right_Hand_Movement': 1090,\n",
       " 'OVTK_GDF_Head_Movement': 1091,\n",
       " 'OVTK_GDF_Tongue_Movement': 1092,\n",
       " 'OVTK_GDF_Swallowing': 1093,\n",
       " 'OVTK_GDF_Biting': 1094,\n",
       " 'OVTK_GDF_Foot_Movement': 1095,\n",
       " 'OVTK_GDF_Foot_Right_Movement': 1096,\n",
       " 'OVTK_GDF_Arm_Movement': 1097,\n",
       " 'OVTK_GDF_Arm_Right_Movement': 1098,\n",
       " 'OVTK_GDF_ECG_Fiducial_Point_QRS_Complex': 1281,\n",
       " 'OVTK_GDF_ECG_P_Wave': 1282,\n",
       " 'OVTK_GDF_ECG_QRS_Complex': 1283,\n",
       " 'OVTK_GDF_ECG_R_Point': 1284,\n",
       " 'OVTK_GDF_ECG_T_Wave': 1286,\n",
       " 'OVTK_GDF_ECG_U_Wave': 1287,\n",
       " 'OVTK_GDF_Start': 1408,\n",
       " 'OVTK_GDF_25_Watt': 1409,\n",
       " 'OVTK_GDF_50_Watt': 1410,\n",
       " 'OVTK_GDF_75_Watt': 1411,\n",
       " 'OVTK_GDF_100_Watt': 1412,\n",
       " 'OVTK_GDF_125_Watt': 1413,\n",
       " 'OVTK_GDF_150_Watt': 1414,\n",
       " 'OVTK_GDF_175_Watt': 1415,\n",
       " 'OVTK_GDF_200_Watt': 1416,\n",
       " 'OVTK_GDF_225_Watt': 1417,\n",
       " 'OVTK_GDF_250_Watt': 1418,\n",
       " 'OVTK_GDF_275_Watt': 1419,\n",
       " 'OVTK_GDF_300_Watt': 1420,\n",
       " 'OVTK_GDF_325_Watt': 1421,\n",
       " 'OVTK_GDF_350_Watt': 1422,\n",
       " 'OVTK_GDF_Start_Of_New_Segment': 32766,\n",
       " 'OVTK_GDF_Non_Equidistant_Sampling_Value': 32767}"
      ]
     },
     "execution_count": 26,
     "metadata": {},
     "output_type": "execute_result"
    }
   ],
   "source": [
    "stimcodes"
   ]
  },
  {
   "cell_type": "code",
   "execution_count": 23,
   "metadata": {},
   "outputs": [
    {
     "data": {
      "text/plain": [
       "{'auditory/onset/stimulus/non_freq': 'OVTK_StimulationId_Label_01',\n",
       " 'auditory/onset/stimulus/freq': 'OVTK_StimulationId_Label_02',\n",
       " 'timing/experiment/start': 'OVTK_StimulationId_ExperimentStart',\n",
       " 'timing/experiment/stop': 'OVTK_StimulationId_ExperimentStop',\n",
       " 'timing/attentive/start': 'OVTK_StimulationId_Label_03',\n",
       " 'timing/attentive/stop': 'OVTK_StimulationId_Label_04',\n",
       " 'timing/distractive/start': 'OVTK_StimulationId_Label_05',\n",
       " 'timing/distractive/stop': 'OVTK_StimulationId_Label_06'}"
      ]
     },
     "execution_count": 23,
     "metadata": {},
     "output_type": "execute_result"
    }
   ],
   "source": [
    "stimGroups"
   ]
  },
  {
   "cell_type": "code",
   "execution_count": 22,
   "metadata": {},
   "outputs": [
    {
     "data": {
      "text/plain": [
       "{}"
      ]
     },
     "execution_count": 22,
     "metadata": {},
     "output_type": "execute_result"
    }
   ],
   "source": [
    "epoch_event_dict"
   ]
  },
  {
   "cell_type": "code",
   "execution_count": 21,
   "metadata": {},
   "outputs": [
    {
     "data": {
      "text/plain": [
       "{}"
      ]
     },
     "execution_count": 21,
     "metadata": {},
     "output_type": "execute_result"
    }
   ],
   "source": [
    "epoch_event_dict"
   ]
  },
  {
   "cell_type": "code",
   "execution_count": 20,
   "metadata": {},
   "outputs": [
    {
     "data": {
      "text/plain": [
       "array([[120637,      0,      1]])"
      ]
     },
     "execution_count": 20,
     "metadata": {},
     "output_type": "execute_result"
    }
   ],
   "source": [
    "events_from_annot"
   ]
  },
  {
   "cell_type": "code",
   "execution_count": 19,
   "metadata": {},
   "outputs": [
    {
     "data": {
      "text/plain": [
       "-0.2"
      ]
     },
     "execution_count": 19,
     "metadata": {},
     "output_type": "execute_result"
    }
   ],
   "source": [
    "tmin"
   ]
  },
  {
   "cell_type": "code",
   "execution_count": 5,
   "metadata": {},
   "outputs": [
    {
     "ename": "NameError",
     "evalue": "name 'event_dict' is not defined",
     "output_type": "error",
     "traceback": [
      "\u001b[1;31m---------------------------------------------------------------------------\u001b[0m",
      "\u001b[1;31mNameError\u001b[0m                                 Traceback (most recent call last)",
      "\u001b[1;32mc:\\Users\\erangad\\Desktop\\Research\\reading_task\\src\\erp_analysis.ipynb Cell 4\u001b[0m line \u001b[0;36m1\n\u001b[1;32m----> <a href='vscode-notebook-cell:/c%3A/Users/erangad/Desktop/Research/reading_task/src/erp_analysis.ipynb#X14sZmlsZQ%3D%3D?line=0'>1</a>\u001b[0m event_dict\n",
      "\u001b[1;31mNameError\u001b[0m: name 'event_dict' is not defined"
     ]
    }
   ],
   "source": [
    "event_dict"
   ]
  },
  {
   "cell_type": "code",
   "execution_count": 22,
   "metadata": {},
   "outputs": [],
   "source": []
  },
  {
   "cell_type": "code",
   "execution_count": 23,
   "metadata": {},
   "outputs": [
    {
     "data": {
      "text/plain": [
       "2    ND\n",
       "3     D\n",
       "4    ND\n",
       "5     D\n",
       "Name: Block_type, dtype: object"
      ]
     },
     "execution_count": 23,
     "metadata": {},
     "output_type": "execute_result"
    }
   ],
   "source": [
    "sorted_df[sorted_df[\"PID\"] == 1]['Block_type']"
   ]
  },
  {
   "cell_type": "code",
   "execution_count": 25,
   "metadata": {},
   "outputs": [
    {
     "name": "stdout",
     "output_type": "stream",
     "text": [
      "['ND0', 'D1', 'ND2', 'D3']\n"
     ]
    }
   ],
   "source": [
    "indexed_list = [str(value) + str(index) for index, value in enumerate(list(sorted_df[sorted_df[\"PID\"] == 1]['Block_type']))]\n",
    "print(indexed_list)"
   ]
  },
  {
   "cell_type": "code",
   "execution_count": 33,
   "metadata": {},
   "outputs": [],
   "source": [
    "multiples_dict = {pid: [str(value) + str(index) for index, value in enumerate(list(sorted_df[sorted_df[\"PID\"] == pid]['Block_type']))] for pid in sorted_df[\"PID\"].unique()}"
   ]
  },
  {
   "cell_type": "code",
   "execution_count": 34,
   "metadata": {},
   "outputs": [
    {
     "data": {
      "text/plain": [
       "{-1: ['ND0', 'D1'],\n",
       " 1: ['ND0', 'D1', 'ND2', 'D3'],\n",
       " 2: ['D0', 'ND1', 'D2', 'ND3'],\n",
       " 3: ['ND0', 'D1', 'ND2', 'D3'],\n",
       " 4: ['D0', 'ND1', 'D2', 'ND3'],\n",
       " 5: ['ND0', 'D1', 'D2', 'ND3'],\n",
       " 6: ['ND0', 'D1', 'ND2', 'D3'],\n",
       " 7: ['ND0', 'D1', 'ND2', 'D3'],\n",
       " 8: ['D0', 'ND1', 'D2', 'ND3'],\n",
       " 10: ['D0', 'D1', 'ND2', 'ND3'],\n",
       " 9: ['D0', 'D1', 'ND2', 'ND3']}"
      ]
     },
     "execution_count": 34,
     "metadata": {},
     "output_type": "execute_result"
    }
   ],
   "source": [
    "multiples_dict"
   ]
  },
  {
   "cell_type": "code",
   "execution_count": 30,
   "metadata": {},
   "outputs": [],
   "source": [
    "# Function to limit to the first two occurrences of 'D' and 'ND'\n",
    "def limit_blocks(blocks):\n",
    "    d_count = 0\n",
    "    nd_count = 0\n",
    "    limited_blocks = []\n",
    "    for index, value in enumerate(blocks):\n",
    "        if value == 'D' and d_count < 2:\n",
    "            limited_blocks.append(f'{value}{d_count}')\n",
    "            d_count += 1\n",
    "        elif value == 'ND' and nd_count < 2:\n",
    "            limited_blocks.append(f'{value}{nd_count}')\n",
    "            nd_count += 1\n",
    "    return limited_blocks\n",
    "\n",
    "# Create the dictionary with limited 'D' and 'ND' values\n",
    "multiples_dict = {pid: limit_blocks(list(sorted_df[sorted_df[\"PID\"] == pid]['Block_type'])) for pid in sorted_df[\"PID\"].unique()}\n"
   ]
  },
  {
   "cell_type": "code",
   "execution_count": 31,
   "metadata": {},
   "outputs": [
    {
     "data": {
      "text/plain": [
       "{-1: ['ND0', 'D0'],\n",
       " 1: ['ND0', 'D0', 'ND1', 'D1'],\n",
       " 2: ['D0', 'ND0', 'D1', 'ND1'],\n",
       " 3: ['ND0', 'D0', 'ND1', 'D1'],\n",
       " 4: ['D0', 'ND0', 'D1', 'ND1'],\n",
       " 5: ['ND0', 'D0', 'D1', 'ND1'],\n",
       " 6: ['ND0', 'D0', 'ND1', 'D1'],\n",
       " 7: ['ND0', 'D0', 'ND1', 'D1'],\n",
       " 8: ['D0', 'ND0', 'D1', 'ND1'],\n",
       " 10: ['D0', 'D1', 'ND0', 'ND1'],\n",
       " 9: ['D0', 'D1', 'ND0', 'ND1']}"
      ]
     },
     "execution_count": 31,
     "metadata": {},
     "output_type": "execute_result"
    }
   ],
   "source": [
    "multiples_dict"
   ]
  }
 ],
 "metadata": {
  "kernelspec": {
   "display_name": "env",
   "language": "python",
   "name": "python3"
  },
  "language_info": {
   "codemirror_mode": {
    "name": "ipython",
    "version": 3
   },
   "file_extension": ".py",
   "mimetype": "text/x-python",
   "name": "python",
   "nbconvert_exporter": "python",
   "pygments_lexer": "ipython3",
   "version": "3.10.12"
  }
 },
 "nbformat": 4,
 "nbformat_minor": 2
}
