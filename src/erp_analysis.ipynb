{
 "cells": [
  {
   "cell_type": "code",
   "execution_count": 1,
   "metadata": {},
   "outputs": [],
   "source": [
    "# import PyQt6.QtCore\n",
    "import os\n",
    "os.environ[\"QT_API\"] = \"pyqt5\"\n",
    "import matplotlib.pyplot as plt\n",
    "\n",
    "# Use qt backend for matplotlab to use interactive mne plots\n",
    "%matplotlib qt\n",
    "\n",
    "import mne \n",
    "import analysis.processing\n",
    "import pandas as pd\n",
    "import csv \n",
    "import os\n",
    "import tools.helpers\n",
    "from config import Config\n",
    "configObj = Config()\n",
    "configss = configObj.getConfigSnapshot()\n",
    "\n",
    "\n",
    "mne.set_log_level(verbose='WARNING', return_old_level=False, add_frames=None)"
   ]
  },
  {
   "cell_type": "code",
   "execution_count": 42,
   "metadata": {},
   "outputs": [
    {
     "name": "stdout",
     "output_type": "stream",
     "text": [
      "c:\\Users\\erangad\\Desktop\\Research\\reading_task\\psychopy_experiment\\conditions\\conditions.xlsx\n"
     ]
    }
   ],
   "source": [
    "PIDtoCondDict = tools.helpers.getPIDtoCondDict()"
   ]
  },
  {
   "cell_type": "code",
   "execution_count": 2,
   "metadata": {},
   "outputs": [
    {
     "name": "stdout",
     "output_type": "stream",
     "text": [
      "c:\\Users\\erangad\\Desktop\\Research\\reading_task\\psychopy_experiment\\conditions\\conditions.xlsx\n"
     ]
    }
   ],
   "source": []
  },
  {
   "cell_type": "code",
   "execution_count": 3,
   "metadata": {},
   "outputs": [
    {
     "data": {
      "text/plain": [
       "{1: ['ND0', 'D0', 'ND1', 'D1'],\n",
       " 2: ['D0', 'ND0', 'D1', 'ND1'],\n",
       " 3: ['ND0', 'D0', 'ND1', 'D1'],\n",
       " 4: ['D0', 'ND0', 'D1', 'ND1'],\n",
       " 5: ['ND0', 'D0', 'D1', 'ND1'],\n",
       " 6: ['ND0', 'D0', 'ND1', 'D1'],\n",
       " 7: ['ND0', 'D0', 'ND1', 'D1'],\n",
       " 8: ['D0', 'ND0', 'D1', 'ND1'],\n",
       " 10: ['D0', 'D1', 'ND0', 'ND1'],\n",
       " 9: ['D0', 'D1', 'ND0', 'ND1']}"
      ]
     },
     "execution_count": 3,
     "metadata": {},
     "output_type": "execute_result"
    }
   ],
   "source": []
  },
  {
   "cell_type": "code",
   "execution_count": 22,
   "metadata": {},
   "outputs": [],
   "source": []
  },
  {
   "cell_type": "code",
   "execution_count": 23,
   "metadata": {},
   "outputs": [
    {
     "data": {
      "text/plain": [
       "2    ND\n",
       "3     D\n",
       "4    ND\n",
       "5     D\n",
       "Name: Block_type, dtype: object"
      ]
     },
     "execution_count": 23,
     "metadata": {},
     "output_type": "execute_result"
    }
   ],
   "source": [
    "sorted_df[sorted_df[\"PID\"] == 1]['Block_type']"
   ]
  },
  {
   "cell_type": "code",
   "execution_count": 25,
   "metadata": {},
   "outputs": [
    {
     "name": "stdout",
     "output_type": "stream",
     "text": [
      "['ND0', 'D1', 'ND2', 'D3']\n"
     ]
    }
   ],
   "source": [
    "indexed_list = [str(value) + str(index) for index, value in enumerate(list(sorted_df[sorted_df[\"PID\"] == 1]['Block_type']))]\n",
    "print(indexed_list)"
   ]
  },
  {
   "cell_type": "code",
   "execution_count": 33,
   "metadata": {},
   "outputs": [],
   "source": [
    "multiples_dict = {pid: [str(value) + str(index) for index, value in enumerate(list(sorted_df[sorted_df[\"PID\"] == pid]['Block_type']))] for pid in sorted_df[\"PID\"].unique()}"
   ]
  },
  {
   "cell_type": "code",
   "execution_count": 34,
   "metadata": {},
   "outputs": [
    {
     "data": {
      "text/plain": [
       "{-1: ['ND0', 'D1'],\n",
       " 1: ['ND0', 'D1', 'ND2', 'D3'],\n",
       " 2: ['D0', 'ND1', 'D2', 'ND3'],\n",
       " 3: ['ND0', 'D1', 'ND2', 'D3'],\n",
       " 4: ['D0', 'ND1', 'D2', 'ND3'],\n",
       " 5: ['ND0', 'D1', 'D2', 'ND3'],\n",
       " 6: ['ND0', 'D1', 'ND2', 'D3'],\n",
       " 7: ['ND0', 'D1', 'ND2', 'D3'],\n",
       " 8: ['D0', 'ND1', 'D2', 'ND3'],\n",
       " 10: ['D0', 'D1', 'ND2', 'ND3'],\n",
       " 9: ['D0', 'D1', 'ND2', 'ND3']}"
      ]
     },
     "execution_count": 34,
     "metadata": {},
     "output_type": "execute_result"
    }
   ],
   "source": [
    "multiples_dict"
   ]
  },
  {
   "cell_type": "code",
   "execution_count": 30,
   "metadata": {},
   "outputs": [],
   "source": [
    "# Function to limit to the first two occurrences of 'D' and 'ND'\n",
    "def limit_blocks(blocks):\n",
    "    d_count = 0\n",
    "    nd_count = 0\n",
    "    limited_blocks = []\n",
    "    for index, value in enumerate(blocks):\n",
    "        if value == 'D' and d_count < 2:\n",
    "            limited_blocks.append(f'{value}{d_count}')\n",
    "            d_count += 1\n",
    "        elif value == 'ND' and nd_count < 2:\n",
    "            limited_blocks.append(f'{value}{nd_count}')\n",
    "            nd_count += 1\n",
    "    return limited_blocks\n",
    "\n",
    "# Create the dictionary with limited 'D' and 'ND' values\n",
    "multiples_dict = {pid: limit_blocks(list(sorted_df[sorted_df[\"PID\"] == pid]['Block_type'])) for pid in sorted_df[\"PID\"].unique()}\n"
   ]
  },
  {
   "cell_type": "code",
   "execution_count": 31,
   "metadata": {},
   "outputs": [
    {
     "data": {
      "text/plain": [
       "{-1: ['ND0', 'D0'],\n",
       " 1: ['ND0', 'D0', 'ND1', 'D1'],\n",
       " 2: ['D0', 'ND0', 'D1', 'ND1'],\n",
       " 3: ['ND0', 'D0', 'ND1', 'D1'],\n",
       " 4: ['D0', 'ND0', 'D1', 'ND1'],\n",
       " 5: ['ND0', 'D0', 'D1', 'ND1'],\n",
       " 6: ['ND0', 'D0', 'ND1', 'D1'],\n",
       " 7: ['ND0', 'D0', 'ND1', 'D1'],\n",
       " 8: ['D0', 'ND0', 'D1', 'ND1'],\n",
       " 10: ['D0', 'D1', 'ND0', 'ND1'],\n",
       " 9: ['D0', 'D1', 'ND0', 'ND1']}"
      ]
     },
     "execution_count": 31,
     "metadata": {},
     "output_type": "execute_result"
    }
   ],
   "source": [
    "multiples_dict"
   ]
  }
 ],
 "metadata": {
  "kernelspec": {
   "display_name": "env",
   "language": "python",
   "name": "python3"
  },
  "language_info": {
   "codemirror_mode": {
    "name": "ipython",
    "version": 3
   },
   "file_extension": ".py",
   "mimetype": "text/x-python",
   "name": "python",
   "nbconvert_exporter": "python",
   "pygments_lexer": "ipython3",
   "version": "3.10.12"
  }
 },
 "nbformat": 4,
 "nbformat_minor": 2
}
