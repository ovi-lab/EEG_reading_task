{
 "cells": [
  {
   "cell_type": "code",
   "execution_count": 5,
   "metadata": {},
   "outputs": [],
   "source": [
    "import PyQt6.QtCore\n",
    "import os\n",
    "os.environ[\"QT_API\"] = \"pyqt6\"\n",
    "import matplotlib.pyplot as plt\n",
    "\n",
    "# Use qt backend for matplotlab to use interactive mne plots\n",
    "%matplotlib qt\n",
    "\n",
    "import mne \n",
    "import analysis.processing\n",
    "import pandas as pd\n",
    "import csv \n",
    "import os\n",
    "from config import Config\n",
    "configObj = Config()\n",
    "from mne_connectivity import spectral_connectivity_time\n",
    "import numpy as np\n",
    "configss = configObj.getConfigSnapshot()\n",
    "from tqdm import tqdm\n",
    "import tools.helpers\n",
    "from scipy import stats\n",
    "\n",
    "mne.set_log_level(verbose='WARNING', return_old_level=False, add_frames=None)"
   ]
  },
  {
   "cell_type": "code",
   "execution_count": 11,
   "metadata": {},
   "outputs": [
    {
     "data": {
      "text/plain": [
       "[1,\n",
       " 2,\n",
       " 3,\n",
       " 4,\n",
       " 6,\n",
       " 7,\n",
       " 8,\n",
       " 9,\n",
       " 10,\n",
       " 11,\n",
       " 12,\n",
       " 15,\n",
       " 18,\n",
       " 19,\n",
       " 21,\n",
       " 22,\n",
       " 23,\n",
       " 24,\n",
       " 25,\n",
       " 26,\n",
       " 27,\n",
       " 28,\n",
       " 29,\n",
       " 30,\n",
       " 31]"
      ]
     },
     "execution_count": 11,
     "metadata": {},
     "output_type": "execute_result"
    }
   ],
   "source": [
    "[el for el in list(range(1,32)) if el not in [14, 5, 13, 16, 17, 20] ]"
   ]
  },
  {
   "cell_type": "code",
   "execution_count": 14,
   "metadata": {},
   "outputs": [
    {
     "name": "stderr",
     "output_type": "stream",
     "text": [
      "100%|██████████| 24/24 [00:00<00:00, 568.65it/s]\n"
     ]
    }
   ],
   "source": [
    "listsss =  [el for el in list(range(1,32)) if el not in [14, 5, 13, 16, 17, 20, 31] ]\n",
    "df = None\n",
    "for pnum in tqdm(listsss):\n",
    "\n",
    "    partipant_data_path =  str(pnum) +'.csv'\n",
    "    path_qa = os.path.join(configss['root'], configss['data_qa'] , partipant_data_path ) \n",
    "\n",
    "    if df is None:\n",
    "        df =  pd.read_csv(path_qa)\n",
    "    else:\n",
    "        df = pd.concat([df, pd.read_csv(path_qa)], axis=0)   \n",
    "\n",
    "# Calculate means and standard errors for each BlockType\n",
    "means = df.groupby('BlockType')['Correct'].mean()\n",
    "counts = df.groupby('BlockType')['Correct'].count()\n",
    "stds = df.groupby('BlockType')['Correct'].std()\n",
    "stderr = stds / np.sqrt(counts)\n",
    "\n",
    "# 95% Confidence Intervals (CI = mean ± 1.96 * standard error)\n",
    "confidence_intervals = 1.96 * stderr\n",
    "\n",
    "# Perform a t-test to calculate p-value between block types\n",
    "block_type_d = df[df['BlockType'] == 'D']['Correct']\n",
    "block_type_nd = df[df['BlockType'] == 'ND']['Correct']\n",
    "t_stat, p_value = stats.ttest_ind(block_type_d, block_type_nd)\n",
    "\n",
    "# Plotting with error bars\n",
    "plt.figure(figsize=(8,6))\n",
    "plt.bar(means.index, means, yerr=confidence_intervals, capsize=10)\n",
    "\n",
    "# Adding titles, labels, and annotations\n",
    "plt.title(f'Question Accuracy for Each Block Type (p-value = {p_value:.4f})')\n",
    "plt.xlabel('Block Type')\n",
    "plt.ylabel('Accuracy (Proportion of Correct Answers)')\n",
    "plt.xticks(rotation=0)\n",
    "\n",
    "# Display the plot\n",
    "plt.show()"
   ]
  },
  {
   "cell_type": "code",
   "execution_count": 4,
   "metadata": {},
   "outputs": [
    {
     "ename": "KeyError",
     "evalue": "'data_qa'",
     "output_type": "error",
     "traceback": [
      "\u001b[1;31m---------------------------------------------------------------------------\u001b[0m",
      "\u001b[1;31mKeyError\u001b[0m                                  Traceback (most recent call last)",
      "\u001b[1;32mc:\\Users\\erangad\\Desktop\\Research\\reading_task\\src\\comp_data_analysis.ipynb Cell 2\u001b[0m line \u001b[0;36m4\n\u001b[0;32m      <a href='vscode-notebook-cell:/c%3A/Users/erangad/Desktop/Research/reading_task/src/comp_data_analysis.ipynb#W1sZmlsZQ%3D%3D?line=0'>1</a>\u001b[0m participant_name \u001b[39m=\u001b[39m \u001b[39m'\u001b[39m\u001b[39mP\u001b[39m\u001b[39m'\u001b[39m \u001b[39m+\u001b[39m \u001b[39mstr\u001b[39m(\u001b[39m1\u001b[39m)\n\u001b[0;32m      <a href='vscode-notebook-cell:/c%3A/Users/erangad/Desktop/Research/reading_task/src/comp_data_analysis.ipynb#W1sZmlsZQ%3D%3D?line=1'>2</a>\u001b[0m partipant_data_path \u001b[39m=\u001b[39m  participant_name \u001b[39m+\u001b[39m \u001b[39m'\u001b[39m\u001b[39m/\u001b[39m\u001b[39m'\u001b[39m \u001b[39m+\u001b[39m participant_name \u001b[39m+\u001b[39m\u001b[39m'\u001b[39m\u001b[39m.gdf\u001b[39m\u001b[39m'\u001b[39m\n\u001b[1;32m----> <a href='vscode-notebook-cell:/c%3A/Users/erangad/Desktop/Research/reading_task/src/comp_data_analysis.ipynb#W1sZmlsZQ%3D%3D?line=3'>4</a>\u001b[0m path_qa \u001b[39m=\u001b[39m os\u001b[39m.\u001b[39mpath\u001b[39m.\u001b[39mjoin(configss[\u001b[39m'\u001b[39m\u001b[39mroot\u001b[39m\u001b[39m'\u001b[39m], configss[\u001b[39m'\u001b[39;49m\u001b[39mdata_qa\u001b[39;49m\u001b[39m'\u001b[39;49m] , partipant_data_path ) \n\u001b[0;32m      <a href='vscode-notebook-cell:/c%3A/Users/erangad/Desktop/Research/reading_task/src/comp_data_analysis.ipynb#W1sZmlsZQ%3D%3D?line=4'>5</a>\u001b[0m path_tones \u001b[39m=\u001b[39m os\u001b[39m.\u001b[39mpath\u001b[39m.\u001b[39mjoin(configss[\u001b[39m'\u001b[39m\u001b[39mroot\u001b[39m\u001b[39m'\u001b[39m], configss[\u001b[39m'\u001b[39m\u001b[39mdata_tones\u001b[39m\u001b[39m'\u001b[39m] , partipant_data_path ) \n\u001b[0;32m      <a href='vscode-notebook-cell:/c%3A/Users/erangad/Desktop/Research/reading_task/src/comp_data_analysis.ipynb#W1sZmlsZQ%3D%3D?line=5'>6</a>\u001b[0m path_completion \u001b[39m=\u001b[39m os\u001b[39m.\u001b[39mpath\u001b[39m.\u001b[39mjoin(configss[\u001b[39m'\u001b[39m\u001b[39mroot\u001b[39m\u001b[39m'\u001b[39m], configss[\u001b[39m'\u001b[39m\u001b[39mdata_completion\u001b[39m\u001b[39m'\u001b[39m] , partipant_data_path ) \n",
      "\u001b[1;31mKeyError\u001b[0m: 'data_qa'"
     ]
    }
   ],
   "source": [
    "\n",
    "\n",
    "path_qa = os.path.join(configss['root'], configss['data_qa'] , partipant_data_path ) \n",
    "path_tones = os.path.join(configss['root'], configss['data_tones'] , partipant_data_path ) \n",
    "path_completion = os.path.join(configss['root'], configss['data_completion'] , partipant_data_path ) \n",
    "path_reading_data = os.path.join(configss['root'], configss['data_reading_data'] , partipant_data_path ) "
   ]
  },
  {
   "cell_type": "code",
   "execution_count": null,
   "metadata": {},
   "outputs": [],
   "source": [
    "\n",
    "\n",
    "# Calculate mean and standard error for each block type\n",
    "accuracy_stats = df_combined.groupby('BlockType')['Correct'].agg(['mean', 'count'])\n",
    "accuracy_stats['stderr'] = np.sqrt((accuracy_stats['mean'] * (1 - accuracy_stats['mean'])) / accuracy_stats['count'])\n",
    "\n",
    "# Calculate the 95% confidence interval using the standard error\n",
    "confidence_interval = stats.norm.ppf(0.975) * accuracy_stats['stderr']\n",
    "\n",
    "# Plotting the accuracy with error bars\n",
    "plt.figure(figsize=(8,6))\n",
    "plt.bar(accuracy_stats.index, accuracy_stats['mean'], yerr=confidence_interval, capsize=5)\n",
    "\n",
    "# Adding titles and labels\n",
    "plt.title('Question Accuracy for Each Block Type (with 95% CI)')\n",
    "plt.xlabel('Block Type')\n",
    "plt.ylabel('Accuracy (Proportion of Correct Answers)')\n",
    "plt.xticks(rotation=0)\n",
    "\n",
    "# Show plot\n",
    "plt.show()"
   ]
  }
 ],
 "metadata": {
  "kernelspec": {
   "display_name": "eeg",
   "language": "python",
   "name": "python3"
  },
  "language_info": {
   "codemirror_mode": {
    "name": "ipython",
    "version": 3
   },
   "file_extension": ".py",
   "mimetype": "text/x-python",
   "name": "python",
   "nbconvert_exporter": "python",
   "pygments_lexer": "ipython3",
   "version": "3.10.11"
  }
 },
 "nbformat": 4,
 "nbformat_minor": 2
}
