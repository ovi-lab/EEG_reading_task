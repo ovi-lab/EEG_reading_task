{
 "cells": [
  {
   "cell_type": "code",
   "execution_count": 4,
   "metadata": {},
   "outputs": [
    {
     "ename": "ModuleNotFoundError",
     "evalue": "No module named 'PyQt6'",
     "output_type": "error",
     "traceback": [
      "\u001b[1;31m---------------------------------------------------------------------------\u001b[0m",
      "\u001b[1;31mModuleNotFoundError\u001b[0m                       Traceback (most recent call last)",
      "Cell \u001b[1;32mIn[4], line 1\u001b[0m\n\u001b[1;32m----> 1\u001b[0m \u001b[38;5;28;01mimport\u001b[39;00m \u001b[38;5;21;01mPyQt6\u001b[39;00m\u001b[38;5;21;01m.\u001b[39;00m\u001b[38;5;21;01mQtCore\u001b[39;00m\n\u001b[0;32m      2\u001b[0m \u001b[38;5;28;01mimport\u001b[39;00m \u001b[38;5;21;01mos\u001b[39;00m\n\u001b[0;32m      3\u001b[0m os\u001b[38;5;241m.\u001b[39menviron[\u001b[38;5;124m\"\u001b[39m\u001b[38;5;124mQT_API\u001b[39m\u001b[38;5;124m\"\u001b[39m] \u001b[38;5;241m=\u001b[39m \u001b[38;5;124m\"\u001b[39m\u001b[38;5;124mpyqt5\u001b[39m\u001b[38;5;124m\"\u001b[39m\n",
      "\u001b[1;31mModuleNotFoundError\u001b[0m: No module named 'PyQt6'"
     ]
    }
   ],
   "source": [
    "import PyQt6.QtCore\n",
    "import os\n",
    "os.environ[\"QT_API\"] = \"pyqt5\"\n",
    "\n",
    "\n",
    "# Use qt backend for matplotlab to use interactive mne plots\n",
    "%matplotlib qt"
   ]
  },
  {
   "cell_type": "code",
   "execution_count": 14,
   "metadata": {},
   "outputs": [],
   "source": [
    "import mne \n",
    "import analysis.processing\n",
    "import matplotlib.pyplot as plt\n",
    "import pandas as pd\n",
    "import csv \n",
    "import os\n",
    "from config import Config\n",
    "configObj = Config()\n",
    "configss = configObj.getConfigSnapshot()\n",
    "\n",
    "mne.set_log_level(verbose='WARNING', return_old_level=False, add_frames=None)"
   ]
  },
  {
   "cell_type": "code",
   "execution_count": 2,
   "metadata": {},
   "outputs": [
    {
     "name": "stderr",
     "output_type": "stream",
     "text": [
      "c:\\Users\\erang\\Desktop\\Reading_task\\src\\analysis\\processing.py:54: RuntimeWarning: Fiducial point nasion not found, assuming identity unknown to head transformation\n",
      "  raw_filtered.set_montage(montage)\n",
      "c:\\Users\\erang\\Desktop\\Reading_task\\src\\analysis\\processing.py:290: RuntimeWarning: This filename (c:\\Users\\erang\\Desktop\\Reading_task\\ov_experiment\\scenarios\\data\\Pilot\\P1\\D0.fif) does not conform to MNE naming conventions. All raw files should end with raw.fif, raw_sss.fif, raw_tsss.fif, _meg.fif, _eeg.fif, _ieeg.fif, raw.fif.gz, raw_sss.fif.gz, raw_tsss.fif.gz, _meg.fif.gz, _eeg.fif.gz or _ieeg.fif.gz\n",
      "  partipant_data_path =  'Pilot'+ '/'+ participant_number + '/' + block_number +'.fif'\n",
      "c:\\Users\\erang\\Desktop\\Reading_task\\src\\analysis\\processing.py:302: RuntimeWarning: This filename (c:\\Users\\erang\\Desktop\\Reading_task\\ov_experiment\\scenarios\\data\\Pilot\\P1\\ND0.fif) does not conform to MNE naming conventions. All raw files should end with raw.fif, raw_sss.fif, raw_tsss.fif, _meg.fif, _eeg.fif, _ieeg.fif, raw.fif.gz, raw_sss.fif.gz, raw_tsss.fif.gz, _meg.fif.gz, _eeg.fif.gz or _ieeg.fif.gz\n",
      "  path = os.path.join(configss['root'], configss['data_dir'] , partipant_data_path )\n",
      "c:\\Users\\erang\\Desktop\\Reading_task\\src\\analysis\\processing.py:290: RuntimeWarning: This filename (c:\\Users\\erang\\Desktop\\Reading_task\\ov_experiment\\scenarios\\data\\Pilot\\P1\\D1.fif) does not conform to MNE naming conventions. All raw files should end with raw.fif, raw_sss.fif, raw_tsss.fif, _meg.fif, _eeg.fif, _ieeg.fif, raw.fif.gz, raw_sss.fif.gz, raw_tsss.fif.gz, _meg.fif.gz, _eeg.fif.gz or _ieeg.fif.gz\n",
      "  partipant_data_path =  'Pilot'+ '/'+ participant_number + '/' + block_number +'.fif'\n",
      "c:\\Users\\erang\\Desktop\\Reading_task\\src\\analysis\\processing.py:302: RuntimeWarning: This filename (c:\\Users\\erang\\Desktop\\Reading_task\\ov_experiment\\scenarios\\data\\Pilot\\P1\\ND1.fif) does not conform to MNE naming conventions. All raw files should end with raw.fif, raw_sss.fif, raw_tsss.fif, _meg.fif, _eeg.fif, _ieeg.fif, raw.fif.gz, raw_sss.fif.gz, raw_tsss.fif.gz, _meg.fif.gz, _eeg.fif.gz or _ieeg.fif.gz\n",
      "  path = os.path.join(configss['root'], configss['data_dir'] , partipant_data_path )\n",
      "c:\\Users\\erang\\Desktop\\Reading_task\\src\\analysis\\processing.py:54: RuntimeWarning: Fiducial point nasion not found, assuming identity unknown to head transformation\n",
      "  raw_filtered.set_montage(montage)\n",
      "c:\\Users\\erang\\.conda\\envs\\env\\lib\\site-packages\\mne\\preprocessing\\bads.py:45: RuntimeWarning: invalid value encountered in greater\n",
      "  local_bad = this_z > threshold\n",
      "c:\\Users\\erang\\Desktop\\Reading_task\\src\\analysis\\processing.py:290: RuntimeWarning: This filename (c:\\Users\\erang\\Desktop\\Reading_task\\ov_experiment\\scenarios\\data\\Pilot\\P2\\D0.fif) does not conform to MNE naming conventions. All raw files should end with raw.fif, raw_sss.fif, raw_tsss.fif, _meg.fif, _eeg.fif, _ieeg.fif, raw.fif.gz, raw_sss.fif.gz, raw_tsss.fif.gz, _meg.fif.gz, _eeg.fif.gz or _ieeg.fif.gz\n",
      "  partipant_data_path =  'Pilot'+ '/'+ participant_number + '/' + block_number +'.fif'\n",
      "c:\\Users\\erang\\Desktop\\Reading_task\\src\\analysis\\processing.py:302: RuntimeWarning: This filename (c:\\Users\\erang\\Desktop\\Reading_task\\ov_experiment\\scenarios\\data\\Pilot\\P2\\ND0.fif) does not conform to MNE naming conventions. All raw files should end with raw.fif, raw_sss.fif, raw_tsss.fif, _meg.fif, _eeg.fif, _ieeg.fif, raw.fif.gz, raw_sss.fif.gz, raw_tsss.fif.gz, _meg.fif.gz, _eeg.fif.gz or _ieeg.fif.gz\n",
      "  path = os.path.join(configss['root'], configss['data_dir'] , partipant_data_path )\n",
      "c:\\Users\\erang\\Desktop\\Reading_task\\src\\analysis\\processing.py:290: RuntimeWarning: This filename (c:\\Users\\erang\\Desktop\\Reading_task\\ov_experiment\\scenarios\\data\\Pilot\\P2\\D1.fif) does not conform to MNE naming conventions. All raw files should end with raw.fif, raw_sss.fif, raw_tsss.fif, _meg.fif, _eeg.fif, _ieeg.fif, raw.fif.gz, raw_sss.fif.gz, raw_tsss.fif.gz, _meg.fif.gz, _eeg.fif.gz or _ieeg.fif.gz\n",
      "  partipant_data_path =  'Pilot'+ '/'+ participant_number + '/' + block_number +'.fif'\n",
      "c:\\Users\\erang\\Desktop\\Reading_task\\src\\analysis\\processing.py:302: RuntimeWarning: This filename (c:\\Users\\erang\\Desktop\\Reading_task\\ov_experiment\\scenarios\\data\\Pilot\\P2\\ND1.fif) does not conform to MNE naming conventions. All raw files should end with raw.fif, raw_sss.fif, raw_tsss.fif, _meg.fif, _eeg.fif, _ieeg.fif, raw.fif.gz, raw_sss.fif.gz, raw_tsss.fif.gz, _meg.fif.gz, _eeg.fif.gz or _ieeg.fif.gz\n",
      "  path = os.path.join(configss['root'], configss['data_dir'] , partipant_data_path )\n",
      "c:\\Users\\erang\\Desktop\\Reading_task\\src\\analysis\\processing.py:54: RuntimeWarning: Fiducial point nasion not found, assuming identity unknown to head transformation\n",
      "  raw_filtered.set_montage(montage)\n",
      "c:\\Users\\erang\\Desktop\\Reading_task\\src\\analysis\\processing.py:290: RuntimeWarning: This filename (c:\\Users\\erang\\Desktop\\Reading_task\\ov_experiment\\scenarios\\data\\Pilot\\P4\\D0.fif) does not conform to MNE naming conventions. All raw files should end with raw.fif, raw_sss.fif, raw_tsss.fif, _meg.fif, _eeg.fif, _ieeg.fif, raw.fif.gz, raw_sss.fif.gz, raw_tsss.fif.gz, _meg.fif.gz, _eeg.fif.gz or _ieeg.fif.gz\n",
      "  partipant_data_path =  'Pilot'+ '/'+ participant_number + '/' + block_number +'.fif'\n",
      "c:\\Users\\erang\\Desktop\\Reading_task\\src\\analysis\\processing.py:302: RuntimeWarning: This filename (c:\\Users\\erang\\Desktop\\Reading_task\\ov_experiment\\scenarios\\data\\Pilot\\P4\\ND0.fif) does not conform to MNE naming conventions. All raw files should end with raw.fif, raw_sss.fif, raw_tsss.fif, _meg.fif, _eeg.fif, _ieeg.fif, raw.fif.gz, raw_sss.fif.gz, raw_tsss.fif.gz, _meg.fif.gz, _eeg.fif.gz or _ieeg.fif.gz\n",
      "  path = os.path.join(configss['root'], configss['data_dir'] , partipant_data_path )\n",
      "c:\\Users\\erang\\Desktop\\Reading_task\\src\\analysis\\processing.py:290: RuntimeWarning: This filename (c:\\Users\\erang\\Desktop\\Reading_task\\ov_experiment\\scenarios\\data\\Pilot\\P4\\D1.fif) does not conform to MNE naming conventions. All raw files should end with raw.fif, raw_sss.fif, raw_tsss.fif, _meg.fif, _eeg.fif, _ieeg.fif, raw.fif.gz, raw_sss.fif.gz, raw_tsss.fif.gz, _meg.fif.gz, _eeg.fif.gz or _ieeg.fif.gz\n",
      "  partipant_data_path =  'Pilot'+ '/'+ participant_number + '/' + block_number +'.fif'\n",
      "c:\\Users\\erang\\Desktop\\Reading_task\\src\\analysis\\processing.py:302: RuntimeWarning: This filename (c:\\Users\\erang\\Desktop\\Reading_task\\ov_experiment\\scenarios\\data\\Pilot\\P4\\ND1.fif) does not conform to MNE naming conventions. All raw files should end with raw.fif, raw_sss.fif, raw_tsss.fif, _meg.fif, _eeg.fif, _ieeg.fif, raw.fif.gz, raw_sss.fif.gz, raw_tsss.fif.gz, _meg.fif.gz, _eeg.fif.gz or _ieeg.fif.gz\n",
      "  path = os.path.join(configss['root'], configss['data_dir'] , partipant_data_path )\n"
     ]
    }
   ],
   "source": [
    "analysis.processing.segmentData([1,2,4], preprocess = True)"
   ]
  },
  {
   "cell_type": "code",
   "execution_count": 15,
   "metadata": {},
   "outputs": [
    {
     "name": "stderr",
     "output_type": "stream",
     "text": [
      "c:\\Users\\erang\\Desktop\\Reading_task\\src\\analysis\\processing.py:26: RuntimeWarning: This filename (c:\\Users\\erang\\Desktop\\Reading_task\\ov_experiment/scenarios/data\\Pilot/P1/D0.fif) does not conform to MNE naming conventions. All raw files should end with raw.fif, raw_sss.fif, raw_tsss.fif, _meg.fif, _eeg.fif, _ieeg.fif, raw.fif.gz, raw_sss.fif.gz, raw_tsss.fif.gz, _meg.fif.gz, _eeg.fif.gz or _ieeg.fif.gz\n",
      "  raw  = mne.io.read_raw_fif(path)\n",
      "c:\\Users\\erang\\Desktop\\Reading_task\\src\\analysis\\processing.py:26: RuntimeWarning: This filename (c:\\Users\\erang\\Desktop\\Reading_task\\ov_experiment/scenarios/data\\Pilot/P1/ND0.fif) does not conform to MNE naming conventions. All raw files should end with raw.fif, raw_sss.fif, raw_tsss.fif, _meg.fif, _eeg.fif, _ieeg.fif, raw.fif.gz, raw_sss.fif.gz, raw_tsss.fif.gz, _meg.fif.gz, _eeg.fif.gz or _ieeg.fif.gz\n",
      "  raw  = mne.io.read_raw_fif(path)\n",
      "c:\\Users\\erang\\Desktop\\Reading_task\\src\\analysis\\processing.py:26: RuntimeWarning: This filename (c:\\Users\\erang\\Desktop\\Reading_task\\ov_experiment/scenarios/data\\Pilot/P1/D1.fif) does not conform to MNE naming conventions. All raw files should end with raw.fif, raw_sss.fif, raw_tsss.fif, _meg.fif, _eeg.fif, _ieeg.fif, raw.fif.gz, raw_sss.fif.gz, raw_tsss.fif.gz, _meg.fif.gz, _eeg.fif.gz or _ieeg.fif.gz\n",
      "  raw  = mne.io.read_raw_fif(path)\n",
      "c:\\Users\\erang\\Desktop\\Reading_task\\src\\analysis\\processing.py:26: RuntimeWarning: This filename (c:\\Users\\erang\\Desktop\\Reading_task\\ov_experiment/scenarios/data\\Pilot/P1/ND1.fif) does not conform to MNE naming conventions. All raw files should end with raw.fif, raw_sss.fif, raw_tsss.fif, _meg.fif, _eeg.fif, _ieeg.fif, raw.fif.gz, raw_sss.fif.gz, raw_tsss.fif.gz, _meg.fif.gz, _eeg.fif.gz or _ieeg.fif.gz\n",
      "  raw  = mne.io.read_raw_fif(path)\n",
      "c:\\Users\\erang\\Desktop\\Reading_task\\src\\analysis\\processing.py:26: RuntimeWarning: This filename (c:\\Users\\erang\\Desktop\\Reading_task\\ov_experiment/scenarios/data\\Pilot/P2/D0.fif) does not conform to MNE naming conventions. All raw files should end with raw.fif, raw_sss.fif, raw_tsss.fif, _meg.fif, _eeg.fif, _ieeg.fif, raw.fif.gz, raw_sss.fif.gz, raw_tsss.fif.gz, _meg.fif.gz, _eeg.fif.gz or _ieeg.fif.gz\n",
      "  raw  = mne.io.read_raw_fif(path)\n",
      "c:\\Users\\erang\\Desktop\\Reading_task\\src\\analysis\\processing.py:26: RuntimeWarning: This filename (c:\\Users\\erang\\Desktop\\Reading_task\\ov_experiment/scenarios/data\\Pilot/P2/ND0.fif) does not conform to MNE naming conventions. All raw files should end with raw.fif, raw_sss.fif, raw_tsss.fif, _meg.fif, _eeg.fif, _ieeg.fif, raw.fif.gz, raw_sss.fif.gz, raw_tsss.fif.gz, _meg.fif.gz, _eeg.fif.gz or _ieeg.fif.gz\n",
      "  raw  = mne.io.read_raw_fif(path)\n",
      "c:\\Users\\erang\\Desktop\\Reading_task\\src\\analysis\\processing.py:26: RuntimeWarning: This filename (c:\\Users\\erang\\Desktop\\Reading_task\\ov_experiment/scenarios/data\\Pilot/P2/D1.fif) does not conform to MNE naming conventions. All raw files should end with raw.fif, raw_sss.fif, raw_tsss.fif, _meg.fif, _eeg.fif, _ieeg.fif, raw.fif.gz, raw_sss.fif.gz, raw_tsss.fif.gz, _meg.fif.gz, _eeg.fif.gz or _ieeg.fif.gz\n",
      "  raw  = mne.io.read_raw_fif(path)\n",
      "c:\\Users\\erang\\Desktop\\Reading_task\\src\\analysis\\processing.py:26: RuntimeWarning: This filename (c:\\Users\\erang\\Desktop\\Reading_task\\ov_experiment/scenarios/data\\Pilot/P2/ND1.fif) does not conform to MNE naming conventions. All raw files should end with raw.fif, raw_sss.fif, raw_tsss.fif, _meg.fif, _eeg.fif, _ieeg.fif, raw.fif.gz, raw_sss.fif.gz, raw_tsss.fif.gz, _meg.fif.gz, _eeg.fif.gz or _ieeg.fif.gz\n",
      "  raw  = mne.io.read_raw_fif(path)\n",
      "c:\\Users\\erang\\Desktop\\Reading_task\\src\\analysis\\processing.py:26: RuntimeWarning: This filename (c:\\Users\\erang\\Desktop\\Reading_task\\ov_experiment/scenarios/data\\Pilot/P4/D0.fif) does not conform to MNE naming conventions. All raw files should end with raw.fif, raw_sss.fif, raw_tsss.fif, _meg.fif, _eeg.fif, _ieeg.fif, raw.fif.gz, raw_sss.fif.gz, raw_tsss.fif.gz, _meg.fif.gz, _eeg.fif.gz or _ieeg.fif.gz\n",
      "  raw  = mne.io.read_raw_fif(path)\n",
      "c:\\Users\\erang\\Desktop\\Reading_task\\src\\analysis\\processing.py:26: RuntimeWarning: This filename (c:\\Users\\erang\\Desktop\\Reading_task\\ov_experiment/scenarios/data\\Pilot/P4/ND0.fif) does not conform to MNE naming conventions. All raw files should end with raw.fif, raw_sss.fif, raw_tsss.fif, _meg.fif, _eeg.fif, _ieeg.fif, raw.fif.gz, raw_sss.fif.gz, raw_tsss.fif.gz, _meg.fif.gz, _eeg.fif.gz or _ieeg.fif.gz\n",
      "  raw  = mne.io.read_raw_fif(path)\n",
      "c:\\Users\\erang\\Desktop\\Reading_task\\src\\analysis\\processing.py:26: RuntimeWarning: This filename (c:\\Users\\erang\\Desktop\\Reading_task\\ov_experiment/scenarios/data\\Pilot/P4/D1.fif) does not conform to MNE naming conventions. All raw files should end with raw.fif, raw_sss.fif, raw_tsss.fif, _meg.fif, _eeg.fif, _ieeg.fif, raw.fif.gz, raw_sss.fif.gz, raw_tsss.fif.gz, _meg.fif.gz, _eeg.fif.gz or _ieeg.fif.gz\n",
      "  raw  = mne.io.read_raw_fif(path)\n",
      "c:\\Users\\erang\\Desktop\\Reading_task\\src\\analysis\\processing.py:26: RuntimeWarning: This filename (c:\\Users\\erang\\Desktop\\Reading_task\\ov_experiment/scenarios/data\\Pilot/P4/ND1.fif) does not conform to MNE naming conventions. All raw files should end with raw.fif, raw_sss.fif, raw_tsss.fif, _meg.fif, _eeg.fif, _ieeg.fif, raw.fif.gz, raw_sss.fif.gz, raw_tsss.fif.gz, _meg.fif.gz, _eeg.fif.gz or _ieeg.fif.gz\n",
      "  raw  = mne.io.read_raw_fif(path)\n"
     ]
    }
   ],
   "source": [
    "for pnum in (1,2,4):\n",
    "    for b_cnt in range (0, 2):\n",
    "        block_nums = [ x+ (str(b_cnt)) for x in ['D', 'ND']  ]\n",
    "        for block_num in block_nums:\n",
    "            raw = analysis.processing.loadSegmentedData(pnum, block_num)\n",
    "            epochs = analysis.processing.epochContinuousData(raw)\n",
    "            \n",
    "            participant_number = 'P' + str(pnum)\n",
    "            partipant_data_path =  'Pilot'+ '/'+ participant_number + '/' + block_num +'-epo.fif'\n",
    "            path = os.path.join(configss['root'], configss['data_dir'] , partipant_data_path ) \n",
    "\n",
    "            epochs.save(path, overwrite= True)\n",
    "            \n",
    "        "
   ]
  },
  {
   "cell_type": "code",
   "execution_count": 2,
   "metadata": {},
   "outputs": [
    {
     "name": "stderr",
     "output_type": "stream",
     "text": [
      "c:\\Users\\erang\\Desktop\\Auditory-oddball\\src\\analysis\\processing.py:46: RuntimeWarning: Fiducial point nasion not found, assuming identity unknown to head transformation\n",
      "  raw_filtered.set_montage(montage)\n",
      "c:\\Users\\erang\\Desktop\\Auditory-oddball\\src\\analysis\\processing.py:46: RuntimeWarning: Fiducial point nasion not found, assuming identity unknown to head transformation\n",
      "  raw_filtered.set_montage(montage)\n",
      "c:\\Users\\erang\\Desktop\\Auditory-oddball\\src\\analysis\\processing.py:46: RuntimeWarning: Fiducial point nasion not found, assuming identity unknown to head transformation\n",
      "  raw_filtered.set_montage(montage)\n",
      "c:\\Users\\erang\\Desktop\\Auditory-oddball\\src\\analysis\\processing.py:46: RuntimeWarning: Fiducial point nasion not found, assuming identity unknown to head transformation\n",
      "  raw_filtered.set_montage(montage)\n",
      "c:\\Users\\erang\\Desktop\\Auditory-oddball\\src\\analysis\\processing.py:46: RuntimeWarning: Fiducial point nasion not found, assuming identity unknown to head transformation\n",
      "  raw_filtered.set_montage(montage)\n",
      "c:\\Users\\erang\\Desktop\\Auditory-oddball\\src\\analysis\\processing.py:46: RuntimeWarning: Fiducial point nasion not found, assuming identity unknown to head transformation\n",
      "  raw_filtered.set_montage(montage)\n",
      "c:\\Users\\erang\\AppData\\Local\\pypoetry\\Cache\\virtualenvs\\oddball-KYxTObZq-py3.8\\lib\\site-packages\\sklearn\\decomposition\\_fastica.py:128: ConvergenceWarning: FastICA did not converge. Consider increasing tolerance or the maximum number of iterations.\n",
      "  warnings.warn(\n",
      "c:\\Users\\erang\\Desktop\\Auditory-oddball\\src\\analysis\\processing.py:46: RuntimeWarning: Fiducial point nasion not found, assuming identity unknown to head transformation\n",
      "  raw_filtered.set_montage(montage)\n",
      "c:\\Users\\erang\\Desktop\\Auditory-oddball\\src\\analysis\\processing.py:46: RuntimeWarning: Fiducial point nasion not found, assuming identity unknown to head transformation\n",
      "  raw_filtered.set_montage(montage)\n",
      "c:\\Users\\erang\\Desktop\\Auditory-oddball\\src\\analysis\\processing.py:46: RuntimeWarning: Fiducial point nasion not found, assuming identity unknown to head transformation\n",
      "  raw_filtered.set_montage(montage)\n",
      "c:\\Users\\erang\\Desktop\\Auditory-oddball\\src\\analysis\\processing.py:46: RuntimeWarning: Fiducial point nasion not found, assuming identity unknown to head transformation\n",
      "  raw_filtered.set_montage(montage)\n",
      "c:\\Users\\erang\\Desktop\\Auditory-oddball\\src\\analysis\\processing.py:46: RuntimeWarning: Fiducial point nasion not found, assuming identity unknown to head transformation\n",
      "  raw_filtered.set_montage(montage)\n",
      "c:\\Users\\erang\\Desktop\\Auditory-oddball\\src\\analysis\\processing.py:46: RuntimeWarning: Fiducial point nasion not found, assuming identity unknown to head transformation\n",
      "  raw_filtered.set_montage(montage)\n",
      "c:\\Users\\erang\\Desktop\\Auditory-oddball\\src\\analysis\\processing.py:46: RuntimeWarning: Fiducial point nasion not found, assuming identity unknown to head transformation\n",
      "  raw_filtered.set_montage(montage)\n",
      "c:\\Users\\erang\\Desktop\\Auditory-oddball\\src\\analysis\\processing.py:46: RuntimeWarning: Fiducial point nasion not found, assuming identity unknown to head transformation\n",
      "  raw_filtered.set_montage(montage)\n",
      "c:\\Users\\erang\\Desktop\\Auditory-oddball\\src\\analysis\\processing.py:46: RuntimeWarning: Fiducial point nasion not found, assuming identity unknown to head transformation\n",
      "  raw_filtered.set_montage(montage)\n",
      "c:\\Users\\erang\\Desktop\\Auditory-oddball\\src\\analysis\\processing.py:46: RuntimeWarning: Fiducial point nasion not found, assuming identity unknown to head transformation\n",
      "  raw_filtered.set_montage(montage)\n",
      "c:\\Users\\erang\\Desktop\\Auditory-oddball\\src\\analysis\\processing.py:46: RuntimeWarning: Fiducial point nasion not found, assuming identity unknown to head transformation\n",
      "  raw_filtered.set_montage(montage)\n",
      "c:\\Users\\erang\\Desktop\\Auditory-oddball\\src\\analysis\\processing.py:46: RuntimeWarning: Fiducial point nasion not found, assuming identity unknown to head transformation\n",
      "  raw_filtered.set_montage(montage)\n",
      "c:\\Users\\erang\\Desktop\\Auditory-oddball\\src\\analysis\\processing.py:46: RuntimeWarning: Fiducial point nasion not found, assuming identity unknown to head transformation\n",
      "  raw_filtered.set_montage(montage)\n",
      "c:\\Users\\erang\\Desktop\\Auditory-oddball\\src\\analysis\\processing.py:46: RuntimeWarning: Fiducial point nasion not found, assuming identity unknown to head transformation\n",
      "  raw_filtered.set_montage(montage)\n",
      "c:\\Users\\erang\\Desktop\\Auditory-oddball\\src\\analysis\\processing.py:46: RuntimeWarning: Fiducial point nasion not found, assuming identity unknown to head transformation\n",
      "  raw_filtered.set_montage(montage)\n",
      "c:\\Users\\erang\\Desktop\\Auditory-oddball\\src\\analysis\\processing.py:46: RuntimeWarning: Fiducial point nasion not found, assuming identity unknown to head transformation\n",
      "  raw_filtered.set_montage(montage)\n",
      "c:\\Users\\erang\\Desktop\\Auditory-oddball\\src\\analysis\\processing.py:46: RuntimeWarning: Fiducial point nasion not found, assuming identity unknown to head transformation\n",
      "  raw_filtered.set_montage(montage)\n",
      "c:\\Users\\erang\\Desktop\\Auditory-oddball\\src\\analysis\\processing.py:46: RuntimeWarning: Fiducial point nasion not found, assuming identity unknown to head transformation\n",
      "  raw_filtered.set_montage(montage)\n",
      "c:\\Users\\erang\\Desktop\\Auditory-oddball\\src\\analysis\\processing.py:46: RuntimeWarning: Fiducial point nasion not found, assuming identity unknown to head transformation\n",
      "  raw_filtered.set_montage(montage)\n",
      "c:\\Users\\erang\\Desktop\\Auditory-oddball\\src\\analysis\\processing.py:46: RuntimeWarning: Fiducial point nasion not found, assuming identity unknown to head transformation\n",
      "  raw_filtered.set_montage(montage)\n",
      "c:\\Users\\erang\\Desktop\\Auditory-oddball\\src\\analysis\\processing.py:46: RuntimeWarning: Fiducial point nasion not found, assuming identity unknown to head transformation\n",
      "  raw_filtered.set_montage(montage)\n"
     ]
    }
   ],
   "source": [
    "# read group evokeds\n",
    "\n",
    "oddball_list = []\n",
    "control_list = []\n",
    "\n",
    "for pnum in (11, 12, 13, 21, 22, 23, 41, 42, 43, 51, 52, 53, 61, 62, \\\n",
    "             63, 71, 72, 73, 81, 82, 83, 91, 92, 93, 101, 102, 103):\n",
    "    raw = analysis.processing.loadData(pnum)\n",
    "\n",
    "    # preprocessig \n",
    "    raw = analysis.processing.preprocessing(raw)\n",
    "    epochs, event_dict = analysis.processing.eventEpocshByBlocks(raw)\n",
    "\n",
    "    for bnum in (0, 1, 2):\n",
    "        block = \"b\" + str(bnum)\n",
    "\n",
    "        oddball = epochs[f\"oddball & block == '{block}'\"].average()\n",
    "        control = epochs[f\"control & block == '{block}'\"].average()\n",
    "        oddball_list.append(oddball)\n",
    "        control_list.append(control)\n",
    "\n",
    "\n",
    "\n",
    "title= \"ERP\"\n",
    "roi =['7Z']\n",
    "\n",
    "evokeds = dict(\n",
    "    oddball=  oddball_list,\n",
    "    control= control_list,\n",
    ")"
   ]
  },
  {
   "cell_type": "code",
   "execution_count": 5,
   "metadata": {},
   "outputs": [],
   "source": [
    "analysis.processing.getERPMontage(evokeds)"
   ]
  },
  {
   "cell_type": "code",
   "execution_count": 6,
   "metadata": {},
   "outputs": [],
   "source": [
    "#plot evokeds at 0.95 CI\n",
    "analysis.processing.getERP(evokeds, roi = ['7Z'], ci = 0.95, invert = True)"
   ]
  },
  {
   "cell_type": "code",
   "execution_count": 9,
   "metadata": {},
   "outputs": [],
   "source": [
    "#plot evokeds at 0.9 CI\n",
    "analysis.processing.getERP(evokeds, roi = ['7Z'], ci = 0.9, invert = True)"
   ]
  },
  {
   "cell_type": "code",
   "execution_count": 15,
   "metadata": {},
   "outputs": [],
   "source": [
    "#front\n",
    "\n",
    "roi = ['1L', '1R','1Z','1LC', '1LB', '2L', '2R', '1RB', '1RC']\n",
    "ci = 0.95\n",
    "invert = False\n",
    "\n",
    "fig, ax = plt.subplots()\n",
    "mne.viz.plot_compare_evokeds(evokeds, picks= roi, ci = ci , \n",
    "                                styles = {\"oddball\": {\"color\" :'red'}, \n",
    "                                        \"control\":{\"color\": 'blue'}}, \n",
    "                                    show =False, axes = ax, combine ='mean' )\n",
    "if(invert): \n",
    "    ax.invert_yaxis()\n",
    "    \n",
    "ax.set_ylabel(\"V\")\n",
    "\n",
    "plt.show()"
   ]
  },
  {
   "cell_type": "code",
   "execution_count": 14,
   "metadata": {},
   "outputs": [],
   "source": [
    "#Occipital\n",
    "\n",
    "roi = ['10L', '9Z','10R', '9L', '8Z', '9R']\n",
    "ci = 0.95\n",
    "invert = False\n",
    "\n",
    "fig, ax = plt.subplots()\n",
    "mne.viz.plot_compare_evokeds(evokeds, picks= roi, ci = ci , \n",
    "                                styles = {\"oddball\": {\"color\" :'red'}, \n",
    "                                        \"control\":{\"color\": 'blue'}}, \n",
    "                                    show =False, axes = ax, combine ='mean' )\n",
    "if(invert): \n",
    "    ax.invert_yaxis()\n",
    "    \n",
    "ax.set_ylabel(\"V\")\n",
    "\n",
    "plt.show()"
   ]
  },
  {
   "cell_type": "code",
   "execution_count": 12,
   "metadata": {},
   "outputs": [],
   "source": [
    "#Left\n",
    "\n",
    "roi = ['3LB', '3LC','2LB', '1LA', '2LA', '2LC']\n",
    "ci = 0.95\n",
    "invert = False\n",
    "\n",
    "fig, ax = plt.subplots()\n",
    "mne.viz.plot_compare_evokeds(evokeds, picks= roi, ci = ci , \n",
    "                                styles = {\"oddball\": {\"color\" :'red'}, \n",
    "                                        \"control\":{\"color\": 'blue'}}, \n",
    "                                    show =False, axes = ax, combine ='mean' )\n",
    "if(invert): \n",
    "    ax.invert_yaxis()\n",
    "    \n",
    "ax.set_ylabel(\"V\")\n",
    "\n",
    "plt.show()"
   ]
  },
  {
   "cell_type": "code",
   "execution_count": 13,
   "metadata": {},
   "outputs": [],
   "source": [
    "#Right\n",
    "\n",
    "roi = ['3RB', '3RC','2RB', '1RA', '2RA', '2RC']\n",
    "ci = 0.95\n",
    "invert = False\n",
    "\n",
    "fig, ax = plt.subplots()\n",
    "mne.viz.plot_compare_evokeds(evokeds, picks= roi, ci = ci , \n",
    "                                styles = {\"oddball\": {\"color\" :'red'}, \n",
    "                                        \"control\":{\"color\": 'blue'}}, \n",
    "                                    show =False, axes = ax, combine ='mean' )\n",
    "if(invert): \n",
    "    ax.invert_yaxis()\n",
    "    \n",
    "ax.set_ylabel(\"V\")\n",
    "\n",
    "plt.show()"
   ]
  }
 ],
 "metadata": {
  "kernelspec": {
   "display_name": "oddball-KYxTObZq-py3.8",
   "language": "python",
   "name": "python3"
  },
  "language_info": {
   "codemirror_mode": {
    "name": "ipython",
    "version": 3
   },
   "file_extension": ".py",
   "mimetype": "text/x-python",
   "name": "python",
   "nbconvert_exporter": "python",
   "pygments_lexer": "ipython3",
   "version": "3.10.11"
  }
 },
 "nbformat": 4,
 "nbformat_minor": 2
}
