{
 "cells": [
  {
   "cell_type": "code",
   "execution_count": 1,
   "metadata": {},
   "outputs": [],
   "source": [
    "# import PyQt6.QtCore\n",
    "import os\n",
    "os.environ[\"QT_API\"] = \"pyqt5\"\n",
    "import matplotlib.pyplot as plt\n",
    "\n",
    "# Use qt backend for matplotlab to use interactive mne plots\n",
    "%matplotlib qt"
   ]
  },
  {
   "cell_type": "code",
   "execution_count": 2,
   "metadata": {},
   "outputs": [],
   "source": [
    "import mne \n",
    "import analysis.processing\n",
    "import pandas as pd\n",
    "import csv \n",
    "import os\n",
    "from config import Config\n",
    "configObj = Config()\n",
    "from mne_connectivity import spectral_connectivity_time\n",
    "import numpy as np\n",
    "configss = configObj.getConfigSnapshot()\n",
    "\n",
    "mne.set_log_level(verbose='WARNING', return_old_level=False, add_frames=None)"
   ]
  },
  {
   "cell_type": "code",
   "execution_count": null,
   "metadata": {},
   "outputs": [
    {
     "name": "stderr",
     "output_type": "stream",
     "text": [
      "c:\\Users\\erang\\Desktop\\Reading_task\\src\\analysis\\processing.py:57: RuntimeWarning: Fiducial point nasion not found, assuming identity unknown to head transformation\n",
      "  raw_filtered.set_montage(montage)\n",
      "c:\\Users\\erang\\Desktop\\Reading_task\\src\\analysis\\processing.py:57: RuntimeWarning: Fiducial point nasion not found, assuming identity unknown to head transformation\n",
      "  raw_filtered.set_montage(montage)\n",
      "c:\\Users\\erang\\Desktop\\Reading_task\\src\\analysis\\processing.py:57: RuntimeWarning: Fiducial point nasion not found, assuming identity unknown to head transformation\n",
      "  raw_filtered.set_montage(montage)\n"
     ]
    }
   ],
   "source": [
    "analysis.processing.segmentData([1,2,4], preprocess = True)"
   ]
  },
  {
   "cell_type": "code",
   "execution_count": 2,
   "metadata": {},
   "outputs": [
    {
     "name": "stdout",
     "output_type": "stream",
     "text": [
      "Running autoreject on ch_type=eeg\n",
      "\n",
      "\n",
      "\n",
      "\n",
      "Estimated consensus=0.40 and n_interpolate=4\n"
     ]
    },
    {
     "name": "stderr",
     "output_type": "stream",
     "text": [
      "c:\\Users\\erang\\.conda\\envs\\env\\lib\\site-packages\\sklearn\\decomposition\\_fastica.py:123: ConvergenceWarning: FastICA did not converge. Consider increasing tolerance or the maximum number of iterations.\n",
      "  warnings.warn(\n",
      "c:\\Users\\erang\\.conda\\envs\\env\\lib\\site-packages\\mne\\preprocessing\\bads.py:45: RuntimeWarning: invalid value encountered in greater\n",
      "  local_bad = this_z > threshold\n"
     ]
    },
    {
     "name": "stdout",
     "output_type": "stream",
     "text": [
      "Running autoreject on ch_type=eeg\n",
      "\n",
      "\n",
      "\n",
      "\n",
      "Estimated consensus=0.30 and n_interpolate=4\n",
      "Running autoreject on ch_type=eeg\n",
      "\n",
      "\n",
      "\n",
      "\n",
      "Estimated consensus=0.60 and n_interpolate=4\n",
      "No bad epochs were found for your data. Returning a copy of the data you wanted to clean. Interpolation may have been done.\n"
     ]
    },
    {
     "name": "stderr",
     "output_type": "stream",
     "text": [
      "c:\\Users\\erang\\.conda\\envs\\env\\lib\\site-packages\\sklearn\\decomposition\\_fastica.py:123: ConvergenceWarning: FastICA did not converge. Consider increasing tolerance or the maximum number of iterations.\n",
      "  warnings.warn(\n",
      "c:\\Users\\erang\\.conda\\envs\\env\\lib\\site-packages\\mne\\preprocessing\\bads.py:45: RuntimeWarning: invalid value encountered in greater\n",
      "  local_bad = this_z > threshold\n"
     ]
    },
    {
     "name": "stdout",
     "output_type": "stream",
     "text": [
      "Running autoreject on ch_type=eeg\n",
      "\n",
      "\n",
      "\n",
      "\n",
      "Estimated consensus=0.40 and n_interpolate=4\n",
      "Running autoreject on ch_type=eeg\n",
      "\n",
      "\n",
      "\n",
      "\n",
      "Estimated consensus=0.30 and n_interpolate=4\n"
     ]
    },
    {
     "name": "stderr",
     "output_type": "stream",
     "text": [
      "c:\\Users\\erang\\.conda\\envs\\env\\lib\\site-packages\\sklearn\\decomposition\\_fastica.py:123: ConvergenceWarning: FastICA did not converge. Consider increasing tolerance or the maximum number of iterations.\n",
      "  warnings.warn(\n",
      "c:\\Users\\erang\\.conda\\envs\\env\\lib\\site-packages\\mne\\preprocessing\\bads.py:45: RuntimeWarning: invalid value encountered in greater\n",
      "  local_bad = this_z > threshold\n"
     ]
    },
    {
     "name": "stdout",
     "output_type": "stream",
     "text": [
      "Running autoreject on ch_type=eeg\n",
      "\n",
      "\n",
      "\n",
      "\n",
      "Estimated consensus=0.20 and n_interpolate=4\n",
      "Running autoreject on ch_type=eeg\n",
      "\n",
      "\n",
      "\n",
      "\n",
      "Estimated consensus=0.60 and n_interpolate=4\n"
     ]
    },
    {
     "name": "stderr",
     "output_type": "stream",
     "text": [
      "c:\\Users\\erang\\.conda\\envs\\env\\lib\\site-packages\\sklearn\\decomposition\\_fastica.py:123: ConvergenceWarning: FastICA did not converge. Consider increasing tolerance or the maximum number of iterations.\n",
      "  warnings.warn(\n",
      "c:\\Users\\erang\\.conda\\envs\\env\\lib\\site-packages\\mne\\preprocessing\\bads.py:45: RuntimeWarning: invalid value encountered in greater\n",
      "  local_bad = this_z > threshold\n"
     ]
    },
    {
     "name": "stdout",
     "output_type": "stream",
     "text": [
      "Running autoreject on ch_type=eeg\n",
      "\n",
      "\n",
      "\n",
      "\n",
      "Estimated consensus=0.60 and n_interpolate=4\n",
      "Running autoreject on ch_type=eeg\n",
      "\n",
      "\n",
      "\n",
      "\n",
      "Estimated consensus=0.40 and n_interpolate=4\n"
     ]
    },
    {
     "name": "stderr",
     "output_type": "stream",
     "text": [
      "c:\\Users\\erang\\.conda\\envs\\env\\lib\\site-packages\\mne\\preprocessing\\bads.py:45: RuntimeWarning: invalid value encountered in greater\n",
      "  local_bad = this_z > threshold\n"
     ]
    },
    {
     "name": "stdout",
     "output_type": "stream",
     "text": [
      "Running autoreject on ch_type=eeg\n",
      "\n",
      "\n",
      "\n",
      "\n",
      "Estimated consensus=0.40 and n_interpolate=4\n",
      "Running autoreject on ch_type=eeg\n",
      "\n",
      "\n",
      "\n",
      "\n",
      "Estimated consensus=0.50 and n_interpolate=4\n"
     ]
    },
    {
     "name": "stderr",
     "output_type": "stream",
     "text": [
      "c:\\Users\\erang\\.conda\\envs\\env\\lib\\site-packages\\sklearn\\decomposition\\_fastica.py:123: ConvergenceWarning: FastICA did not converge. Consider increasing tolerance or the maximum number of iterations.\n",
      "  warnings.warn(\n",
      "c:\\Users\\erang\\.conda\\envs\\env\\lib\\site-packages\\mne\\preprocessing\\bads.py:45: RuntimeWarning: invalid value encountered in greater\n",
      "  local_bad = this_z > threshold\n"
     ]
    },
    {
     "name": "stdout",
     "output_type": "stream",
     "text": [
      "Running autoreject on ch_type=eeg\n",
      "\n",
      "\n",
      "\n",
      "\n",
      "Estimated consensus=0.30 and n_interpolate=4\n",
      "Running autoreject on ch_type=eeg\n",
      "\n",
      "\n",
      "\n",
      "\n",
      "Estimated consensus=0.30 and n_interpolate=4\n"
     ]
    },
    {
     "name": "stderr",
     "output_type": "stream",
     "text": [
      "c:\\Users\\erang\\.conda\\envs\\env\\lib\\site-packages\\sklearn\\decomposition\\_fastica.py:123: ConvergenceWarning: FastICA did not converge. Consider increasing tolerance or the maximum number of iterations.\n",
      "  warnings.warn(\n",
      "c:\\Users\\erang\\.conda\\envs\\env\\lib\\site-packages\\mne\\preprocessing\\bads.py:45: RuntimeWarning: invalid value encountered in greater\n",
      "  local_bad = this_z > threshold\n"
     ]
    },
    {
     "name": "stdout",
     "output_type": "stream",
     "text": [
      "Running autoreject on ch_type=eeg\n",
      "\n",
      "\n",
      "\n",
      "\n",
      "Estimated consensus=0.60 and n_interpolate=4\n",
      "Running autoreject on ch_type=eeg\n",
      "\n",
      "\n",
      "\n",
      "\n",
      "Estimated consensus=0.40 and n_interpolate=4\n"
     ]
    },
    {
     "name": "stderr",
     "output_type": "stream",
     "text": [
      "c:\\Users\\erang\\.conda\\envs\\env\\lib\\site-packages\\mne\\preprocessing\\bads.py:45: RuntimeWarning: invalid value encountered in greater\n",
      "  local_bad = this_z > threshold\n"
     ]
    },
    {
     "name": "stdout",
     "output_type": "stream",
     "text": [
      "Running autoreject on ch_type=eeg\n",
      "\n",
      "\n",
      "\n",
      "\n",
      "Estimated consensus=0.30 and n_interpolate=4\n",
      "Running autoreject on ch_type=eeg\n",
      "\n",
      "\n",
      "\n",
      "\n",
      "Estimated consensus=0.30 and n_interpolate=4\n"
     ]
    },
    {
     "name": "stderr",
     "output_type": "stream",
     "text": [
      "c:\\Users\\erang\\.conda\\envs\\env\\lib\\site-packages\\sklearn\\decomposition\\_fastica.py:123: ConvergenceWarning: FastICA did not converge. Consider increasing tolerance or the maximum number of iterations.\n",
      "  warnings.warn(\n",
      "c:\\Users\\erang\\.conda\\envs\\env\\lib\\site-packages\\mne\\preprocessing\\bads.py:45: RuntimeWarning: invalid value encountered in greater\n",
      "  local_bad = this_z > threshold\n"
     ]
    },
    {
     "name": "stdout",
     "output_type": "stream",
     "text": [
      "Running autoreject on ch_type=eeg\n",
      "\n",
      "\n",
      "\n",
      "\n",
      "Estimated consensus=0.40 and n_interpolate=3\n",
      "Running autoreject on ch_type=eeg\n",
      "\n",
      "\n",
      "\n",
      "\n",
      "Estimated consensus=0.30 and n_interpolate=4\n"
     ]
    },
    {
     "name": "stderr",
     "output_type": "stream",
     "text": [
      "c:\\Users\\erang\\.conda\\envs\\env\\lib\\site-packages\\mne\\preprocessing\\bads.py:45: RuntimeWarning: invalid value encountered in greater\n",
      "  local_bad = this_z > threshold\n"
     ]
    },
    {
     "name": "stdout",
     "output_type": "stream",
     "text": [
      "Running autoreject on ch_type=eeg\n",
      "\n",
      "\n",
      "\n",
      "\n",
      "Estimated consensus=0.40 and n_interpolate=4\n",
      "Running autoreject on ch_type=eeg\n",
      "\n",
      "\n",
      "\n",
      "\n",
      "Estimated consensus=0.30 and n_interpolate=3\n"
     ]
    },
    {
     "name": "stderr",
     "output_type": "stream",
     "text": [
      "c:\\Users\\erang\\.conda\\envs\\env\\lib\\site-packages\\mne\\preprocessing\\bads.py:45: RuntimeWarning: invalid value encountered in greater\n",
      "  local_bad = this_z > threshold\n"
     ]
    },
    {
     "name": "stdout",
     "output_type": "stream",
     "text": [
      "Running autoreject on ch_type=eeg\n",
      "\n",
      "\n",
      "\n",
      "\n",
      "Estimated consensus=0.30 and n_interpolate=4\n",
      "Running autoreject on ch_type=eeg\n",
      "\n",
      "\n",
      "\n",
      "\n",
      "Estimated consensus=0.80 and n_interpolate=4\n"
     ]
    },
    {
     "name": "stderr",
     "output_type": "stream",
     "text": [
      "c:\\Users\\erang\\.conda\\envs\\env\\lib\\site-packages\\mne\\preprocessing\\bads.py:45: RuntimeWarning: invalid value encountered in greater\n",
      "  local_bad = this_z > threshold\n"
     ]
    },
    {
     "name": "stdout",
     "output_type": "stream",
     "text": [
      "Running autoreject on ch_type=eeg\n",
      "\n",
      "\n",
      "\n",
      "\n",
      "Estimated consensus=0.50 and n_interpolate=4\n"
     ]
    }
   ],
   "source": [
    "for pnum in (1,2,4):\n",
    "    for b_cnt in range (0, 2):\n",
    "        block_nums = [ x+ (str(b_cnt)) for x in ['D', 'ND']  ]\n",
    "        for block_num in block_nums:\n",
    "            raw = analysis.processing.loadSegmentedData(pnum, block_num)\n",
    "            epochs = analysis.processing.epochContinuousData(raw)\n",
    "            \n",
    "            participant_number = 'P' + str(pnum)\n",
    "            partipant_data_path =  'Pilot'+ '/'+ participant_number + '/' + block_num +'-epo.fif'\n",
    "            path = os.path.join(configss['root'], configss['data_dir'] , partipant_data_path ) \n",
    "\n",
    "            epochs.save(path, overwrite= True)\n",
    "            \n",
    "        "
   ]
  },
  {
   "cell_type": "code",
   "execution_count": 24,
   "metadata": {},
   "outputs": [],
   "source": [
    "import pickle\n",
    "# Initialize lists to store connectivity matrices for each condition\n",
    "connectivity_matrices_D = []\n",
    "connectivity_matrices_ND = []\n",
    "\n",
    "n_channels = 62\n",
    "\n",
    "for pnum in (1,2,4 ):\n",
    "    for b_cnt in range (0, 2):\n",
    "        block_nums = [ x+ (str(b_cnt)) for x in ['D', 'ND']  ]\n",
    "        for block_num in block_nums:\n",
    "            # raw = analysis.processing.loadSegmentedData(pnum, block_num)\n",
    "    \n",
    "            # epochs = mne.make_fixed_length_epochs(raw, duration= 3, preload=True)\n",
    "\n",
    "            participant_number = 'P' + str(pnum)\n",
    "            partipant_data_path =  'Pilot'+ '/'+ participant_number + '/' + block_num +'-epo.fif'\n",
    "            path = os.path.join(configss['root'], configss['data_dir'] , partipant_data_path ) \n",
    "\n",
    "            epochs = mne.read_epochs(path, preload= True)\n",
    "            # epochs = analysis.processing.removeArtifacts(raw, epochs)\n",
    "            #surface laplasian\n",
    "            epochs = mne.preprocessing.compute_current_source_density(epochs)\n",
    "\n",
    "            # Freq bands of interest\n",
    "            Freq_Bands = {\"theta\": [4.0, 8.0], \"alpha\": [8.0, 13.0], \"beta\": [13.0, 30.0]}\n",
    "            n_freq_bands = len(Freq_Bands)\n",
    "            min_freq = np.min(list(Freq_Bands.values()))\n",
    "            max_freq = np.max(list(Freq_Bands.values()))\n",
    "\n",
    "            # The dictionary with frequencies are converted to tuples for the function\n",
    "            fmin = tuple([list(Freq_Bands.values())[f][0] for f in range(len(Freq_Bands))])\n",
    "            fmax = tuple([list(Freq_Bands.values())[f][1] for f in range(len(Freq_Bands))])\n",
    "\n",
    "            # Provide the freq points\n",
    "            freqs = np.linspace(min_freq, max_freq, int((max_freq - min_freq) * 4 + 1))\n",
    "\n",
    "            # We will try two different connectivity measurements as an example\n",
    "            connectivity_methods = ['wpli']\n",
    "            n_con_methods = len(connectivity_methods)\n",
    "            n_epochs = len(epochs.events)\n",
    "\n",
    "            # Pre-allocatate memory for the connectivity matrices\n",
    "            con_time_array = np.zeros(\n",
    "                (n_epochs, n_channels, n_channels, n_freq_bands)\n",
    "            )\n",
    "\n",
    "            n_cycles = np.linspace(2, 7, int((max_freq - min_freq) * 4 + 1))\n",
    "\n",
    "\n",
    "            # Compute connectivity over time\n",
    "            con_time = spectral_connectivity_time(\n",
    "                epochs,\n",
    "                freqs= freqs,\n",
    "                method= connectivity_methods,\n",
    "                mode=\"cwt_morlet\",\n",
    "                faverage=True,\n",
    "                fmin=fmin,\n",
    "                fmax=fmax,\n",
    "                n_cycles = n_cycles\n",
    "            )\n",
    "\n",
    "            # Get data as connectivity matrices\n",
    "            # for c in range(n_con_methods):\n",
    "            #     con_time_array[c] = con_time[c].get_data(output=\"dense\")\n",
    "\n",
    "            con_time_array =   con_time.get_data(output=\"dense\")  \n",
    "\n",
    "            if(block_num.startswith('D')):\n",
    "                if b_cnt == 0:\n",
    "                   connectivity_matrices_D = con_time_array\n",
    "                else: \n",
    "                    connectivity_matrices_D = np.concatenate((connectivity_matrices_D, con_time_array), axis=0)\n",
    "                    formatted_string = \"connectivity_matrices_D_{}.pkl\".format(pnum)\n",
    "                    with open(formatted_string, 'wb') as file:\n",
    "                        pickle.dump(connectivity_matrices_D, file)\n",
    "                      \n",
    "\n",
    "\n",
    "            if(block_num.startswith('ND')):\n",
    "                if b_cnt == 0:\n",
    "                   connectivity_matrices_ND = con_time_array\n",
    "                else:\n",
    "                    connectivity_matrices_ND = np.concatenate((connectivity_matrices_ND, con_time_array), axis=0)\n",
    "                    formatted_string = \"connectivity_matrices_ND_{}.pkl\".format(pnum)\n",
    "                    with open(formatted_string, 'wb') as file:\n",
    "                        pickle.dump(connectivity_matrices_ND, file)            \n",
    "            \n"
   ]
  },
  {
   "cell_type": "code",
   "execution_count": 18,
   "metadata": {},
   "outputs": [],
   "source": [
    "# Define n_cycles for each frequency\n",
    "n_cycles_per_band = np.array([3, 6, 12])  # Example: different cycles for different frequency bands\n",
    "n_cycles = np.interp(freqs, [np.min(fmin), np.max(fmax)], [np.min(n_cycles_per_band), np.max(n_cycles_per_band)])\n",
    "n_max_freq = [n/]"
   ]
  },
  {
   "cell_type": "code",
   "execution_count": 21,
   "metadata": {},
   "outputs": [
    {
     "data": {
      "text/plain": [
       "array([ 3.        ,  3.06730769,  3.13461538,  3.20192308,  3.26923077,\n",
       "        3.33653846,  3.40384615,  3.47115385,  3.53846154,  3.60576923,\n",
       "        3.67307692,  3.74038462,  3.80769231,  3.875     ,  3.94230769,\n",
       "        4.00961538,  4.07692308,  4.14423077,  4.21153846,  4.27884615,\n",
       "        4.34615385,  4.41346154,  4.48076923,  4.54807692,  4.61538462,\n",
       "        4.68269231,  4.75      ,  4.81730769,  4.88461538,  4.95192308,\n",
       "        5.01923077,  5.08653846,  5.15384615,  5.22115385,  5.28846154,\n",
       "        5.35576923,  5.42307692,  5.49038462,  5.55769231,  5.625     ,\n",
       "        5.69230769,  5.75961538,  5.82692308,  5.89423077,  5.96153846,\n",
       "        6.02884615,  6.09615385,  6.16346154,  6.23076923,  6.29807692,\n",
       "        6.36538462,  6.43269231,  6.5       ,  6.56730769,  6.63461538,\n",
       "        6.70192308,  6.76923077,  6.83653846,  6.90384615,  6.97115385,\n",
       "        7.03846154,  7.10576923,  7.17307692,  7.24038462,  7.30769231,\n",
       "        7.375     ,  7.44230769,  7.50961538,  7.57692308,  7.64423077,\n",
       "        7.71153846,  7.77884615,  7.84615385,  7.91346154,  7.98076923,\n",
       "        8.04807692,  8.11538462,  8.18269231,  8.25      ,  8.31730769,\n",
       "        8.38461538,  8.45192308,  8.51923077,  8.58653846,  8.65384615,\n",
       "        8.72115385,  8.78846154,  8.85576923,  8.92307692,  8.99038462,\n",
       "        9.05769231,  9.125     ,  9.19230769,  9.25961538,  9.32692308,\n",
       "        9.39423077,  9.46153846,  9.52884615,  9.59615385,  9.66346154,\n",
       "        9.73076923,  9.79807692,  9.86538462,  9.93269231, 10.        ])"
      ]
     },
     "execution_count": 21,
     "metadata": {},
     "output_type": "execute_result"
    }
   ],
   "source": [
    "np.linspace(3, 10, int((max_freq - min_freq) * 4 + 1))"
   ]
  },
  {
   "cell_type": "code",
   "execution_count": 6,
   "metadata": {},
   "outputs": [
    {
     "data": {
      "text/plain": [
       "0.996"
      ]
     },
     "execution_count": 6,
     "metadata": {},
     "output_type": "execute_result"
    }
   ],
   "source": [
    "epochs.tmax - epochs.tmin\n"
   ]
  },
  {
   "cell_type": "code",
   "execution_count": 6,
   "metadata": {},
   "outputs": [
    {
     "data": {
      "text/html": [
       "<table class=\"table table-hover table-striped table-sm table-responsive small\">\n",
       "    <tr>\n",
       "        <th>Measurement date</th>\n",
       "        \n",
       "        <td>Unknown</td>\n",
       "        \n",
       "    </tr>\n",
       "    <tr>\n",
       "        <th>Experimenter</th>\n",
       "        \n",
       "        <td>Unknown</td>\n",
       "        \n",
       "    </tr>\n",
       "        <th>Participant</th>\n",
       "        \n",
       "        <td>Unknown</td>\n",
       "        \n",
       "    </tr>\n",
       "    <tr>\n",
       "        <th>Digitized points</th>\n",
       "        \n",
       "        <td>65 points</td>\n",
       "        \n",
       "    </tr>\n",
       "    <tr>\n",
       "        <th>Good channels</th>\n",
       "        <td>62 Current source density</td>\n",
       "    </tr>\n",
       "    <tr>\n",
       "        <th>Bad channels</th>\n",
       "        <td>None</td>\n",
       "    </tr>\n",
       "    <tr>\n",
       "        <th>EOG channels</th>\n",
       "        <td>Not available</td>\n",
       "    </tr>\n",
       "    <tr>\n",
       "        <th>ECG channels</th>\n",
       "        <td>Not available</td>\n",
       "    \n",
       "    <tr>\n",
       "        <th>Sampling frequency</th>\n",
       "        <td>250.00 Hz</td>\n",
       "    </tr>\n",
       "    \n",
       "    \n",
       "    <tr>\n",
       "        <th>Highpass</th>\n",
       "        <td>4.00 Hz</td>\n",
       "    </tr>\n",
       "    \n",
       "    \n",
       "    <tr>\n",
       "        <th>Lowpass</th>\n",
       "        <td>30.00 Hz</td>\n",
       "    </tr>\n",
       "    \n",
       "    \n",
       "</table>"
      ],
      "text/plain": [
       "<Info | 11 non-empty values\n",
       " bads: []\n",
       " ch_names: 1Z, 2Z, 3Z, 4Z, 6Z, 7Z, 8Z, 9Z, 1L, 2L, 3L, 4L, 5L, 6L, 7L, 8L, ...\n",
       " chs: 62 Current source density\n",
       " custom_ref_applied: True\n",
       " dig: 65 items (3 Cardinal, 62 EEG)\n",
       " file_id: 4 items (dict)\n",
       " highpass: 4.0 Hz\n",
       " lowpass: 30.0 Hz\n",
       " meas_date: unspecified\n",
       " meas_id: 4 items (dict)\n",
       " nchan: 62\n",
       " projs: []\n",
       " sfreq: 250.0 Hz\n",
       ">"
      ]
     },
     "execution_count": 6,
     "metadata": {},
     "output_type": "execute_result"
    }
   ],
   "source": [
    "epochs.info\n"
   ]
  },
  {
   "cell_type": "code",
   "execution_count": 7,
   "metadata": {},
   "outputs": [
    {
     "data": {
      "text/plain": [
       "['csd',\n",
       " 'csd',\n",
       " 'csd',\n",
       " 'csd',\n",
       " 'csd',\n",
       " 'csd',\n",
       " 'csd',\n",
       " 'csd',\n",
       " 'csd',\n",
       " 'csd',\n",
       " 'csd',\n",
       " 'csd',\n",
       " 'csd',\n",
       " 'csd',\n",
       " 'csd',\n",
       " 'csd',\n",
       " 'csd',\n",
       " 'csd',\n",
       " 'csd',\n",
       " 'csd',\n",
       " 'csd',\n",
       " 'csd',\n",
       " 'csd',\n",
       " 'csd',\n",
       " 'csd',\n",
       " 'csd',\n",
       " 'csd',\n",
       " 'csd',\n",
       " 'csd',\n",
       " 'csd',\n",
       " 'csd',\n",
       " 'csd',\n",
       " 'csd',\n",
       " 'csd',\n",
       " 'csd',\n",
       " 'csd',\n",
       " 'csd',\n",
       " 'csd',\n",
       " 'csd',\n",
       " 'csd',\n",
       " 'csd',\n",
       " 'csd',\n",
       " 'csd',\n",
       " 'csd',\n",
       " 'csd',\n",
       " 'csd',\n",
       " 'csd',\n",
       " 'csd',\n",
       " 'csd',\n",
       " 'csd',\n",
       " 'csd',\n",
       " 'csd',\n",
       " 'csd',\n",
       " 'csd',\n",
       " 'csd',\n",
       " 'csd',\n",
       " 'csd',\n",
       " 'csd',\n",
       " 'csd',\n",
       " 'csd',\n",
       " 'csd',\n",
       " 'csd']"
      ]
     },
     "execution_count": 7,
     "metadata": {},
     "output_type": "execute_result"
    }
   ],
   "source": [
    "epochs.get_channel_types()"
   ]
  },
  {
   "cell_type": "code",
   "execution_count": 6,
   "metadata": {},
   "outputs": [],
   "source": [
    "# import pickle\n",
    "\n",
    "# with open('connectivity_matrices_ND_1.pkl', 'wb') as file:\n",
    "#     pickle.dump(connectivity_matrices_ND, file)\n",
    "\n",
    "\n",
    "# with open('connectivity_matrices_D_1.pkl', 'wb') as file:\n",
    "#     pickle.dump(connectivity_matrices_D, file)"
   ]
  },
  {
   "cell_type": "code",
   "execution_count": 8,
   "metadata": {},
   "outputs": [
    {
     "data": {
      "text/plain": [
       "(2, 6, 62, 62, 3)"
      ]
     },
     "execution_count": 8,
     "metadata": {},
     "output_type": "execute_result"
    }
   ],
   "source": [
    "connectivity_matrices_D.shape"
   ]
  },
  {
   "cell_type": "code",
   "execution_count": 13,
   "metadata": {},
   "outputs": [
    {
     "name": "stdout",
     "output_type": "stream",
     "text": [
      "(2, 6, 62, 62, 3)\n"
     ]
    }
   ],
   "source": [
    "with open('connectivity_matrices_ND.pkl', 'rb') as file:\n",
    "    print(np.array(pickle.load(file)).shape)"
   ]
  },
  {
   "cell_type": "code",
   "execution_count": 14,
   "metadata": {},
   "outputs": [],
   "source": [
    "with open('connectivity_matrices_ND.pkl', 'rb') as file:\n",
    "    connectivity_matrices_ND = np.concatenate((connectivity_matrices_ND, np.array(pickle.load(file))), axis=1) \n",
    "\n",
    "with open('connectivity_matrices_D.pkl', 'rb') as file:\n",
    "    connectivity_matrices_D = np.concatenate((connectivity_matrices_D, np.array(pickle.load(file))), axis=1) \n"
   ]
  },
  {
   "cell_type": "code",
   "execution_count": 15,
   "metadata": {},
   "outputs": [
    {
     "name": "stdout",
     "output_type": "stream",
     "text": [
      "(2, 13, 62, 62, 3)\n",
      "(2, 13, 62, 62, 3)\n"
     ]
    }
   ],
   "source": [
    "print(connectivity_matrices_D.shape)\n",
    "print(connectivity_matrices_ND.shape)\n",
    "\n",
    "cond_d = connectivity_matrices_D.copy()\n",
    "cond_nd = connectivity_matrices_ND.copy()"
   ]
  },
  {
   "cell_type": "code",
   "execution_count": 29,
   "metadata": {},
   "outputs": [
    {
     "name": "stdout",
     "output_type": "stream",
     "text": [
      "Significant clusters: []\n"
     ]
    }
   ],
   "source": [
    "import numpy as np\n",
    "from scipy.stats import wilcoxon\n",
    "from mne.stats import permutation_cluster_test\n",
    "\n",
    "foi = list(Freq_Bands.keys()).index(\"alpha\")  # frequency of interest\n",
    "method = list(connectivity_methods).index(\"plv\")  # frequency of interest\n",
    "\n",
    "cond1 =  cond_d[method,:, :,:, foi]\n",
    "cond2 =  cond_nd[method, :, :,:, foi]\n",
    "\n",
    "\n",
    "# Prepare data for permutation cluster test\n",
    "lower_tri_indices = np.tril_indices(62, -1)\n",
    "data = [cond1[:, i, j] - cond2[:, i, j] for i, j in zip(*lower_tri_indices)]\n",
    "\n",
    "# Convert the list of arrays to a 2D array (subjects x features)\n",
    "data = np.array(data).T\n",
    "\n",
    "# Define custom statistical function for Wilcoxon test\n",
    "def wilcoxon_stat_fun(X):\n",
    "    T_obs = np.zeros(X.shape[1])\n",
    "    for i in range(X.shape[1]):\n",
    "        stat, _ = wilcoxon(X[:, i])\n",
    "        T_obs[i] = stat\n",
    "    return T_obs\n",
    "\n",
    "\n",
    "# Set T_threshold based on a percentile or a fixed value\n",
    "T_threshold = 1.96  # Example: using a fixed value (e.g., corresponding to p<0.05 for a normal distribution)\n",
    "\n",
    "\n",
    "# Run the permutation cluster test using the custom Wilcoxon statistical function\n",
    "T_obs, clusters, cluster_p_values, H0 = permutation_cluster_test(\n",
    "    [data],\n",
    "    n_permutations=10000,\n",
    "    threshold=T_threshold,\n",
    "    tail=0,\n",
    "    stat_fun=wilcoxon_stat_fun,\n",
    "    out_type='mask'\n",
    ")\n",
    "\n",
    "\n",
    "# Identify significant clusters\n",
    "significant_clusters = np.where(cluster_p_values < 0.05)[0]\n",
    "print(\"Significant clusters:\", significant_clusters)\n",
    "\n",
    "# If you want to visualize the results, here is an example:\n",
    "import matplotlib.pyplot as plt\n",
    "\n",
    "# Create a boolean matrix to indicate significant differences\n",
    "significance_matrix = np.zeros((62, 62), dtype=bool)\n",
    "for cluster in significant_clusters:\n",
    "    significance_matrix[lower_tri_indices[0][clusters[cluster]], lower_tri_indices[1][clusters[cluster]]] = True\n",
    "\n",
    "plt.figure(figsize=(10, 8))\n",
    "plt.imshow(significance_matrix, cmap='viridis', interpolation='none')\n",
    "plt.colorbar(label='Significant Differences (True/False)')\n",
    "plt.title('Significant Differences (Wilcoxon Test with Permutation Correction)')\n",
    "plt.xlabel('Channel')\n",
    "plt.ylabel('Channel')\n",
    "plt.show()\n"
   ]
  },
  {
   "cell_type": "code",
   "execution_count": 34,
   "metadata": {},
   "outputs": [
    {
     "name": "stdout",
     "output_type": "stream",
     "text": [
      "Significant clusters: []\n"
     ]
    }
   ],
   "source": [
    "import numpy as np\n",
    "from scipy.stats import wilcoxon\n",
    "from mne.stats import permutation_cluster_test\n",
    "\n",
    "foi = list(Freq_Bands.keys()).index(\"beta\")  # frequency of interest\n",
    "method = list(connectivity_methods).index(\"plv\")  # frequency of interest\n",
    "\n",
    "cond1 =  cond_d[method,:, :,:, foi]\n",
    "cond2 =  cond_nd[method, :, :,:, foi]\n",
    "\n",
    "\n",
    "# Prepare data for permutation cluster test\n",
    "lower_tri_indices = np.tril_indices(62, -1)\n",
    "data = [cond1[:, i, j] - cond2[:, i, j] for i, j in zip(*lower_tri_indices)]\n",
    "\n",
    "# Convert the list of arrays to a 2D array (subjects x features)\n",
    "data = np.array(data).T\n",
    "\n",
    "# Define custom statistical function for Wilcoxon test\n",
    "def wilcoxon_stat_fun(X):\n",
    "    T_obs = np.zeros(X.shape[1])\n",
    "    for i in range(X.shape[1]):\n",
    "        stat, _ = wilcoxon(X[:, i])\n",
    "        T_obs[i] = stat\n",
    "    return T_obs\n",
    "\n",
    "\n",
    "# Set T_threshold based on a percentile or a fixed value\n",
    "T_threshold = 1.96  # Example: using a fixed value (e.g., corresponding to p<0.05 for a normal distribution)\n",
    "\n",
    "\n",
    "# Run the permutation cluster test using the custom Wilcoxon statistical function\n",
    "T_obs, clusters, cluster_p_values, H0 = permutation_cluster_test(\n",
    "    [data],\n",
    "    n_permutations=10000,\n",
    "    threshold=T_threshold,\n",
    "    tail=0,\n",
    "    stat_fun=wilcoxon_stat_fun,\n",
    "    out_type='mask'\n",
    ")\n",
    "\n",
    "\n",
    "# Identify significant clusters\n",
    "significant_clusters = np.where(cluster_p_values < 0.05)[0]\n",
    "print(\"Significant clusters:\", significant_clusters)\n",
    "\n",
    "# If you want to visualize the results, here is an example:\n",
    "import matplotlib.pyplot as plt\n",
    "\n",
    "# Create a boolean matrix to indicate significant differences\n",
    "significance_matrix = np.zeros((62, 62), dtype=bool)\n",
    "for cluster in significant_clusters:\n",
    "    significance_matrix[lower_tri_indices[0][clusters[cluster]], lower_tri_indices[1][clusters[cluster]]] = True\n",
    "\n",
    "plt.figure(figsize=(10, 8))\n",
    "plt.imshow(significance_matrix, cmap='viridis', interpolation='none')\n",
    "plt.colorbar(label='Significant Differences (True/False)')\n",
    "plt.title('Significant Differences (Wilcoxon Test with Permutation Correction)')\n",
    "plt.xlabel('Channel')\n",
    "plt.ylabel('Channel')\n",
    "plt.show()\n"
   ]
  },
  {
   "cell_type": "code",
   "execution_count": 35,
   "metadata": {},
   "outputs": [
    {
     "data": {
      "text/plain": [
       "array([1.        , 1.        , 0.98608398, 1.        , 1.        ,\n",
       "       0.99658203, 1.        , 1.        , 1.        , 1.        ,\n",
       "       1.        , 1.        , 1.        , 1.        , 1.        ,\n",
       "       1.        ])"
      ]
     },
     "execution_count": 35,
     "metadata": {},
     "output_type": "execute_result"
    }
   ],
   "source": [
    "cluster_p_values"
   ]
  },
  {
   "cell_type": "code",
   "execution_count": 27,
   "metadata": {},
   "outputs": [
    {
     "data": {
      "text/plain": [
       "(13, 1891)"
      ]
     },
     "execution_count": 27,
     "metadata": {},
     "output_type": "execute_result"
    }
   ],
   "source": [
    "np.array(data).shape"
   ]
  },
  {
   "cell_type": "code",
   "execution_count": 16,
   "metadata": {},
   "outputs": [],
   "source": [
    "from scipy.stats import ttest_ind\n",
    "\n",
    "# Perform paired t-test for each edge in the connectivity matrices \n",
    "# PLV for theta\n",
    "\n",
    "foi = list(Freq_Bands.keys()).index(\"theta\")  # frequency of interest\n",
    "method = list(connectivity_methods).index(\"plv\")  # frequency of interest\n",
    "\n",
    "\n",
    "# Perform paired t-test for each edge in the connectivity matrices\n",
    "t_vals, p_vals = ttest_ind(np.array(cond_d[method, :, :,:, foi]), np.array(cond_nd[method, :, :, :,foi]), axis = 0)\n"
   ]
  },
  {
   "cell_type": "code",
   "execution_count": 17,
   "metadata": {},
   "outputs": [],
   "source": [
    "from scipy.stats import wilcoxon\n",
    "from mne.stats import fdr_correction\n",
    "\n",
    "min_length = 6\n",
    "cond1 =  cond_d[method,:min_length, :,:, foi]\n",
    "cond2 =  cond_nd[method, :min_length, :,:, foi]\n",
    "\n",
    "# Initialize arrays to store test statistics and p-values\n",
    "wilcoxon_stat = np.zeros((62, 62))\n",
    "p_values = np.zeros((62, 62))\n",
    "\n",
    "# Perform Wilcoxon test along the first axis (axis=0)\n",
    "for i in range(62):\n",
    "    for j in range(i):\n",
    "        stat, p = wilcoxon(cond1[:, i, j], cond2[:, i, j])\n",
    "        wilcoxon_stat[i, j] = stat\n",
    "        p_values[i, j] = p"
   ]
  },
  {
   "cell_type": "code",
   "execution_count": null,
   "metadata": {},
   "outputs": [],
   "source": [
    "def stat_fun_wilcox(X):\n",
    "    result = scipy.stats.wilcoxon(X)\n",
    "    return result.statistic\n",
    "\n",
    "\n",
    "T_obs, clusters, cluster_p_values, H0 = permutation_cluster_1samp_test(\n",
    "    epochs_power,\n",
    "    n_permutations=n_permutations,\n",
    "    threshold=t_thresh,\n",
    "    tail=tail,\n",
    "    adjacency=adjacency,\n",
    "    out_type='mask',\n",
    "    stat_fun=stat_fun_wilcox\n",
    ")"
   ]
  },
  {
   "cell_type": "code",
   "execution_count": 18,
   "metadata": {},
   "outputs": [],
   "source": [
    "# Correct for multiple comparisons using False Discovery Rate (FDR)\n",
    "reject, p_values_corrected = fdr_correction(p_values[p_values != 0], alpha=0.05)"
   ]
  },
  {
   "cell_type": "code",
   "execution_count": 19,
   "metadata": {},
   "outputs": [],
   "source": [
    "# Place corrected p-values back into the lower triangular part\n",
    "p_values_corrected_full = np.zeros((62, 62))\n",
    "p_values_corrected_full[np.tril_indices(62, -1)] = p_values_corrected"
   ]
  },
  {
   "cell_type": "code",
   "execution_count": 20,
   "metadata": {},
   "outputs": [],
   "source": [
    "reject_full = np.zeros((62, 62), dtype=bool)\n",
    "reject_full[np.tril_indices(62, -1)] = reject"
   ]
  },
  {
   "cell_type": "code",
   "execution_count": 21,
   "metadata": {},
   "outputs": [
    {
     "name": "stdout",
     "output_type": "stream",
     "text": [
      "Shape of Wilcoxon statistics: (62, 62)\n",
      "Shape of corrected p-values: (62, 62)\n",
      "Number of significant differences: 0\n"
     ]
    }
   ],
   "source": [
    "print(\"Shape of Wilcoxon statistics:\", wilcoxon_stat.shape)\n",
    "print(\"Shape of corrected p-values:\", p_values_corrected_full.shape)\n",
    "print(\"Number of significant differences:\", np.sum(reject_full))"
   ]
  },
  {
   "cell_type": "code",
   "execution_count": 20,
   "metadata": {},
   "outputs": [
    {
     "data": {
      "text/plain": [
       "0.8095034246575342"
      ]
     },
     "execution_count": 20,
     "metadata": {},
     "output_type": "execute_result"
    }
   ],
   "source": [
    "np.min(list(p_values_corrected_full[p_values_corrected_full>0]))"
   ]
  },
  {
   "cell_type": "code",
   "execution_count": null,
   "metadata": {},
   "outputs": [
    {
     "data": {
      "text/plain": [
       "(7, 62, 62)"
      ]
     },
     "execution_count": 77,
     "metadata": {},
     "output_type": "execute_result"
    }
   ],
   "source": [
    "np.array(cond_d[method, :, :,:, foi]).shape "
   ]
  },
  {
   "cell_type": "code",
   "execution_count": 26,
   "metadata": {},
   "outputs": [],
   "source": [
    "pnum = 1\n",
    "b_cnt  = 0\n",
    "block_num =  'ND0'\n",
    "\n",
    "raw = analysis.processing.loadSegmentedData(pnum, block_num)\n",
    "\n",
    "#surface laplasian \n",
    "raw = mne.preprocessing.compute_current_source_density(raw)\n",
    "\n",
    "\n",
    "epochs = mne.make_fixed_length_epochs(raw, duration= 3, preload=False)\n",
    "\n",
    "\n",
    "# corr_matrix = envelope_correlation(epochs).get_data()\n",
    "# print(corr_matrix.shape)\n",
    "\n",
    "\n",
    "# import matplotlib.pyplot as plt\n",
    "# import numpy as np\n",
    "\n",
    "# first_30 = corr_matrix[0]\n",
    "# last_30 = corr_matrix[-1]\n",
    "# corr_matrices = [first_30, last_30]\n",
    "# color_lims = np.percentile(np.array(corr_matrices), [5, 95])\n",
    "# titles = [\"First 30 Seconds\", \"Last 30 Seconds\"]\n",
    "\n",
    "# fig, axes = plt.subplots(nrows=1, ncols=2,  constrained_layout=True)\n",
    "# fig.suptitle(\"Correlation Matrices from First 30 Seconds and Last 30 Seconds\")\n",
    "# for ci, corr_matrix in enumerate(corr_matrices):\n",
    "#     ax = axes[ci]\n",
    "#     mpbl = ax.imshow(corr_matrix, clim=color_lims)\n",
    "#     ax.set_xlabel(titles[ci])\n",
    "# cbar = fig.colorbar(ax.images[0], label=\"Correlation Coefficient\")"
   ]
  },
  {
   "cell_type": "code",
   "execution_count": 27,
   "metadata": {},
   "outputs": [
    {
     "data": {
      "text/html": [
       "<table class=\"table table-hover table-striped table-sm table-responsive small\">\n",
       "    <tr>\n",
       "        <th>Measurement date</th>\n",
       "        \n",
       "        <td>Unknown</td>\n",
       "        \n",
       "    </tr>\n",
       "    <tr>\n",
       "        <th>Experimenter</th>\n",
       "        \n",
       "        <td>Unknown</td>\n",
       "        \n",
       "    </tr>\n",
       "        <th>Participant</th>\n",
       "        \n",
       "        <td>Unknown</td>\n",
       "        \n",
       "    </tr>\n",
       "    <tr>\n",
       "        <th>Digitized points</th>\n",
       "        \n",
       "        <td>65 points</td>\n",
       "        \n",
       "    </tr>\n",
       "    <tr>\n",
       "        <th>Good channels</th>\n",
       "        <td>62 Current source density</td>\n",
       "    </tr>\n",
       "    <tr>\n",
       "        <th>Bad channels</th>\n",
       "        <td>None</td>\n",
       "    </tr>\n",
       "    <tr>\n",
       "        <th>EOG channels</th>\n",
       "        <td>Not available</td>\n",
       "    </tr>\n",
       "    <tr>\n",
       "        <th>ECG channels</th>\n",
       "        <td>Not available</td>\n",
       "    \n",
       "    <tr>\n",
       "        <th>Sampling frequency</th>\n",
       "        <td>250.00 Hz</td>\n",
       "    </tr>\n",
       "    \n",
       "    \n",
       "    <tr>\n",
       "        <th>Highpass</th>\n",
       "        <td>4.00 Hz</td>\n",
       "    </tr>\n",
       "    \n",
       "    \n",
       "    <tr>\n",
       "        <th>Lowpass</th>\n",
       "        <td>30.00 Hz</td>\n",
       "    </tr>\n",
       "    \n",
       "    \n",
       "</table>"
      ],
      "text/plain": [
       "<Info | 11 non-empty values\n",
       " bads: []\n",
       " ch_names: 1Z, 2Z, 3Z, 4Z, 6Z, 7Z, 8Z, 9Z, 1L, 2L, 3L, 4L, 5L, 6L, 7L, 8L, ...\n",
       " chs: 62 Current source density\n",
       " custom_ref_applied: True\n",
       " dig: 65 items (3 Cardinal, 62 EEG)\n",
       " file_id: 4 items (dict)\n",
       " highpass: 4.0 Hz\n",
       " lowpass: 30.0 Hz\n",
       " meas_date: unspecified\n",
       " meas_id: 4 items (dict)\n",
       " nchan: 62\n",
       " projs: []\n",
       " sfreq: 250.0 Hz\n",
       ">"
      ]
     },
     "execution_count": 27,
     "metadata": {},
     "output_type": "execute_result"
    }
   ],
   "source": [
    "raw.info"
   ]
  },
  {
   "cell_type": "code",
   "execution_count": 28,
   "metadata": {},
   "outputs": [
    {
     "ename": "TypeError",
     "evalue": "'EpochSpectralConnectivity' object is not subscriptable",
     "output_type": "error",
     "traceback": [
      "\u001b[1;31m---------------------------------------------------------------------------\u001b[0m",
      "\u001b[1;31mTypeError\u001b[0m                                 Traceback (most recent call last)",
      "Cell \u001b[1;32mIn[28], line 44\u001b[0m\n\u001b[0;32m     42\u001b[0m \u001b[38;5;66;03m# Get data as connectivity matrices\u001b[39;00m\n\u001b[0;32m     43\u001b[0m \u001b[38;5;28;01mfor\u001b[39;00m c \u001b[38;5;129;01min\u001b[39;00m \u001b[38;5;28mrange\u001b[39m(n_con_methods):\n\u001b[1;32m---> 44\u001b[0m     con_time_array[c] \u001b[38;5;241m=\u001b[39m \u001b[43mcon_time\u001b[49m\u001b[43m[\u001b[49m\u001b[43mc\u001b[49m\u001b[43m]\u001b[49m\u001b[38;5;241m.\u001b[39mget_data(output\u001b[38;5;241m=\u001b[39m\u001b[38;5;124m\"\u001b[39m\u001b[38;5;124mdense\u001b[39m\u001b[38;5;124m\"\u001b[39m)\n",
      "\u001b[1;31mTypeError\u001b[0m: 'EpochSpectralConnectivity' object is not subscriptable"
     ]
    }
   ],
   "source": [
    "from mne_connectivity import spectral_connectivity_time\n",
    "import numpy as np\n",
    "\n",
    "n_channels = 62\n",
    "\n",
    "# Freq bands of interest\n",
    "Freq_Bands = {\"theta\": [4.0, 8.0], \"alpha\": [8.0, 13.0], \"beta\": [13.0, 30.0]}\n",
    "n_freq_bands = len(Freq_Bands)\n",
    "min_freq = np.min(list(Freq_Bands.values()))\n",
    "max_freq = np.max(list(Freq_Bands.values()))\n",
    "\n",
    "# The dictionary with frequencies are converted to tuples for the function\n",
    "fmin = tuple([list(Freq_Bands.values())[f][0] for f in range(len(Freq_Bands))])\n",
    "fmax = tuple([list(Freq_Bands.values())[f][1] for f in range(len(Freq_Bands))])\n",
    "\n",
    "# Provide the freq points\n",
    "freqs = np.linspace(min_freq, max_freq, int((max_freq - min_freq) * 4 + 1))\n",
    "\n",
    "# We will try two different connectivity measurements as an example\n",
    "connectivity_methods = ['coh', 'plv']\n",
    "n_con_methods = len(connectivity_methods)\n",
    "\n",
    "epochs = mne.make_fixed_length_epochs(raw, duration= 30, preload=False)\n",
    "n_epochs = len(epochs.events)\n",
    "\n",
    "# Pre-allocatate memory for the connectivity matrices\n",
    "con_time_array = np.zeros(\n",
    "    (n_con_methods, n_epochs, n_channels, n_channels, n_freq_bands)\n",
    ")\n",
    "\n",
    "# Compute connectivity over time\n",
    "con_time = spectral_connectivity_time(\n",
    "    epochs,\n",
    "    freqs= freqs,\n",
    "    method= connectivity_methods,\n",
    "    mode=\"cwt_morlet\",\n",
    "    faverage=True,\n",
    "    fmin=fmin,\n",
    "    fmax=fmax\n",
    ")\n",
    "\n",
    "# Get data as connectivity matrices\n",
    "for c in range(n_con_methods):\n",
    "    con_time_array[c] = con_time[c].get_data(output=\"dense\")\n"
   ]
  },
  {
   "cell_type": "code",
   "execution_count": 31,
   "metadata": {},
   "outputs": [],
   "source": [
    "# Get data as connectivity matrices\n",
    "for c in (0,):\n",
    "    con_time_array[c] = con_time.get_data(output=\"dense\")"
   ]
  },
  {
   "cell_type": "code",
   "execution_count": 32,
   "metadata": {},
   "outputs": [
    {
     "data": {
      "text/plain": [
       "3"
      ]
     },
     "execution_count": 32,
     "metadata": {},
     "output_type": "execute_result"
    }
   ],
   "source": [
    "len(epochs.events)"
   ]
  },
  {
   "cell_type": "code",
   "execution_count": 33,
   "metadata": {},
   "outputs": [
    {
     "data": {
      "text/plain": [
       "<EpochSpectralConnectivity | n_epochs : 3, freq : [6.000000, 21.500000], , nave : None, nodes, n_estimated : 62, 3844, ~275 kB>"
      ]
     },
     "execution_count": 33,
     "metadata": {},
     "output_type": "execute_result"
    }
   ],
   "source": [
    "con_time"
   ]
  },
  {
   "cell_type": "code",
   "execution_count": 34,
   "metadata": {},
   "outputs": [],
   "source": [
    "# In this example, we will just show alpha\n",
    "foi = list(Freq_Bands.keys()).index(\"alpha\")  # frequency of interest"
   ]
  },
  {
   "cell_type": "code",
   "execution_count": 13,
   "metadata": {},
   "outputs": [],
   "source": [
    "ch_names = epochs.ch_names"
   ]
  },
  {
   "cell_type": "code",
   "execution_count": 15,
   "metadata": {},
   "outputs": [],
   "source": [
    "# Define function for plotting con matrices\n",
    "def plot_con_matrix(con_data, n_con_methods):\n",
    "    \"\"\"Visualize the connectivity matrix.\"\"\"\n",
    "    fig, ax = plt.subplots(1, n_con_methods,   constrained_layout=True)\n",
    "    for c in range(n_con_methods):\n",
    "        # Plot with imshow\n",
    "        con_plot = ax[c].imshow(con_data[c, :, :, foi], cmap=\"binary\", vmin=0, vmax=1)\n",
    "        # Set title\n",
    "        ax[c].set_title(connectivity_methods[c])\n",
    "        # Add colorbar\n",
    "        fig.colorbar(con_plot, ax=ax[c], shrink=0.7, label=\"Connectivity\")\n",
    "        # Fix labels\n",
    "        ax[c].set_xticks(range(len(ch_names)))\n",
    "        ax[c].set_xticklabels(ch_names)\n",
    "        ax[c].set_yticks(range(len(ch_names)))\n",
    "        ax[c].set_yticklabels(ch_names)\n",
    "        print(\n",
    "            f\"Connectivity method: {connectivity_methods[c]}\\n\"\n",
    "            + f\"{con_data[c,:,:,foi]}\"\n",
    "        )\n",
    "    return fig"
   ]
  },
  {
   "cell_type": "code",
   "execution_count": 16,
   "metadata": {},
   "outputs": [
    {
     "name": "stdout",
     "output_type": "stream",
     "text": [
      "Connectivity method: coh\n",
      "[[0.         0.         0.         ... 0.         0.         0.        ]\n",
      " [0.47874904 0.         0.         ... 0.         0.         0.        ]\n",
      " [0.17243902 0.68803601 0.         ... 0.         0.         0.        ]\n",
      " ...\n",
      " [0.247949   0.17644516 0.16483691 ... 0.         0.         0.        ]\n",
      " [0.12664234 0.13927452 0.11819105 ... 0.14210899 0.         0.        ]\n",
      " [0.1049815  0.14615469 0.14105168 ... 0.30718219 0.39731264 0.        ]]\n",
      "Connectivity method: wpli\n",
      "[[0.         0.         0.         ... 0.         0.         0.        ]\n",
      " [0.18308487 0.         0.         ... 0.         0.         0.        ]\n",
      " [0.21111277 0.17502202 0.         ... 0.         0.         0.        ]\n",
      " ...\n",
      " [0.11357157 0.09965236 0.15481153 ... 0.         0.         0.        ]\n",
      " [0.17215784 0.13746675 0.14235298 ... 0.1285765  0.         0.        ]\n",
      " [0.13478348 0.15912784 0.18705103 ... 0.09372856 0.15445739 0.        ]]\n",
      "Connectivity method: plv\n",
      "[[0.         0.         0.         ... 0.         0.         0.        ]\n",
      " [0.38809866 0.         0.         ... 0.         0.         0.        ]\n",
      " [0.14532568 0.58252021 0.         ... 0.         0.         0.        ]\n",
      " ...\n",
      " [0.2094914  0.15202817 0.13556734 ... 0.         0.         0.        ]\n",
      " [0.11555405 0.12546094 0.1073708  ... 0.10140097 0.         0.        ]\n",
      " [0.09431185 0.11753265 0.12009286 ... 0.25502975 0.30837104 0.        ]]\n"
     ]
    },
    {
     "data": {
      "image/png": "[encoded data removed]",
      "text/plain": [
       "<Figure size 640x480 with 6 Axes>"
      ]
     },
     "execution_count": 16,
     "metadata": {},
     "output_type": "execute_result"
    }
   ],
   "source": [
    "con_time_array_plot = np.mean(con_time_array, axis=1)  # average over epochs\n",
    "foi = list(Freq_Bands.keys()).index(\"theta\")  # frequency of interest\n",
    "\n",
    "plot_con_matrix(con_time_array_plot, n_con_methods)"
   ]
  },
  {
   "cell_type": "code",
   "execution_count": 25,
   "metadata": {},
   "outputs": [
    {
     "ename": "ValueError",
     "evalue": "zero-size array to reduction operation maximum which has no identity",
     "output_type": "error",
     "traceback": [
      "\u001b[1;31m---------------------------------------------------------------------------\u001b[0m",
      "\u001b[1;31mValueError\u001b[0m                                Traceback (most recent call last)",
      "Cell \u001b[1;32mIn[25], line 3\u001b[0m\n\u001b[0;32m      1\u001b[0m \u001b[38;5;28;01mfrom\u001b[39;00m \u001b[38;5;21;01mmne_connectivity\u001b[39;00m\u001b[38;5;21;01m.\u001b[39;00m\u001b[38;5;21;01mviz\u001b[39;00m \u001b[38;5;28;01mimport\u001b[39;00m plot_sensors_connectivity\n\u001b[0;32m      2\u001b[0m \u001b[38;5;66;03m# Now, visualize the connectivity in 3D:\u001b[39;00m\n\u001b[1;32m----> 3\u001b[0m \u001b[43mplot_sensors_connectivity\u001b[49m\u001b[43m(\u001b[49m\u001b[43minfo\u001b[49m\u001b[43m \u001b[49m\u001b[38;5;241;43m=\u001b[39;49m\u001b[43m \u001b[49m\u001b[43mepochs\u001b[49m\u001b[38;5;241;43m.\u001b[39;49m\u001b[43minfo\u001b[49m\u001b[43m,\u001b[49m\u001b[43m \u001b[49m\u001b[43mcon\u001b[49m\u001b[43m \u001b[49m\u001b[38;5;241;43m=\u001b[39;49m\u001b[43m \u001b[49m\u001b[43mcon_time_array_plot\u001b[49m\u001b[43m[\u001b[49m\u001b[38;5;241;43m0\u001b[39;49m\u001b[43m,\u001b[49m\u001b[43m \u001b[49m\u001b[43m:\u001b[49m\u001b[43m,\u001b[49m\u001b[43m \u001b[49m\u001b[43m:\u001b[49m\u001b[43m,\u001b[49m\u001b[43m \u001b[49m\u001b[43mfoi\u001b[49m\u001b[43m]\u001b[49m\u001b[43m)\u001b[49m\n",
      "File \u001b[1;32mc:\\Users\\erang\\.conda\\envs\\env\\lib\\site-packages\\mne_connectivity\\viz\\_3d.py:84\u001b[0m, in \u001b[0;36mplot_sensors_connectivity\u001b[1;34m(info, con, picks, cbar_label)\u001b[0m\n\u001b[0;32m     81\u001b[0m con_val \u001b[38;5;241m=\u001b[39m np\u001b[38;5;241m.\u001b[39marray(con_val)\n\u001b[0;32m     83\u001b[0m \u001b[38;5;66;03m# Show the connections as tubes between sensors\u001b[39;00m\n\u001b[1;32m---> 84\u001b[0m vmax \u001b[38;5;241m=\u001b[39m \u001b[43mnp\u001b[49m\u001b[38;5;241;43m.\u001b[39;49m\u001b[43mmax\u001b[49m\u001b[43m(\u001b[49m\u001b[43mcon_val\u001b[49m\u001b[43m)\u001b[49m\n\u001b[0;32m     85\u001b[0m vmin \u001b[38;5;241m=\u001b[39m np\u001b[38;5;241m.\u001b[39mmin(con_val)\n\u001b[0;32m     86\u001b[0m \u001b[38;5;28;01mfor\u001b[39;00m val, nodes \u001b[38;5;129;01min\u001b[39;00m \u001b[38;5;28mzip\u001b[39m(con_val, con_nodes):\n",
      "File \u001b[1;32m<__array_function__ internals>:180\u001b[0m, in \u001b[0;36mamax\u001b[1;34m(*args, **kwargs)\u001b[0m\n",
      "File \u001b[1;32mc:\\Users\\erang\\.conda\\envs\\env\\lib\\site-packages\\numpy\\core\\fromnumeric.py:2793\u001b[0m, in \u001b[0;36mamax\u001b[1;34m(a, axis, out, keepdims, initial, where)\u001b[0m\n\u001b[0;32m   2677\u001b[0m \u001b[38;5;129m@array_function_dispatch\u001b[39m(_amax_dispatcher)\n\u001b[0;32m   2678\u001b[0m \u001b[38;5;28;01mdef\u001b[39;00m \u001b[38;5;21mamax\u001b[39m(a, axis\u001b[38;5;241m=\u001b[39m\u001b[38;5;28;01mNone\u001b[39;00m, out\u001b[38;5;241m=\u001b[39m\u001b[38;5;28;01mNone\u001b[39;00m, keepdims\u001b[38;5;241m=\u001b[39mnp\u001b[38;5;241m.\u001b[39m_NoValue, initial\u001b[38;5;241m=\u001b[39mnp\u001b[38;5;241m.\u001b[39m_NoValue,\n\u001b[0;32m   2679\u001b[0m          where\u001b[38;5;241m=\u001b[39mnp\u001b[38;5;241m.\u001b[39m_NoValue):\n\u001b[0;32m   2680\u001b[0m \u001b[38;5;250m    \u001b[39m\u001b[38;5;124;03m\"\"\"\u001b[39;00m\n\u001b[0;32m   2681\u001b[0m \u001b[38;5;124;03m    Return the maximum of an array or maximum along an axis.\u001b[39;00m\n\u001b[0;32m   2682\u001b[0m \n\u001b[1;32m   (...)\u001b[0m\n\u001b[0;32m   2791\u001b[0m \u001b[38;5;124;03m    5\u001b[39;00m\n\u001b[0;32m   2792\u001b[0m \u001b[38;5;124;03m    \"\"\"\u001b[39;00m\n\u001b[1;32m-> 2793\u001b[0m     \u001b[38;5;28;01mreturn\u001b[39;00m \u001b[43m_wrapreduction\u001b[49m\u001b[43m(\u001b[49m\u001b[43ma\u001b[49m\u001b[43m,\u001b[49m\u001b[43m \u001b[49m\u001b[43mnp\u001b[49m\u001b[38;5;241;43m.\u001b[39;49m\u001b[43mmaximum\u001b[49m\u001b[43m,\u001b[49m\u001b[43m \u001b[49m\u001b[38;5;124;43m'\u001b[39;49m\u001b[38;5;124;43mmax\u001b[39;49m\u001b[38;5;124;43m'\u001b[39;49m\u001b[43m,\u001b[49m\u001b[43m \u001b[49m\u001b[43maxis\u001b[49m\u001b[43m,\u001b[49m\u001b[43m \u001b[49m\u001b[38;5;28;43;01mNone\u001b[39;49;00m\u001b[43m,\u001b[49m\u001b[43m \u001b[49m\u001b[43mout\u001b[49m\u001b[43m,\u001b[49m\n\u001b[0;32m   2794\u001b[0m \u001b[43m                          \u001b[49m\u001b[43mkeepdims\u001b[49m\u001b[38;5;241;43m=\u001b[39;49m\u001b[43mkeepdims\u001b[49m\u001b[43m,\u001b[49m\u001b[43m \u001b[49m\u001b[43minitial\u001b[49m\u001b[38;5;241;43m=\u001b[39;49m\u001b[43minitial\u001b[49m\u001b[43m,\u001b[49m\u001b[43m \u001b[49m\u001b[43mwhere\u001b[49m\u001b[38;5;241;43m=\u001b[39;49m\u001b[43mwhere\u001b[49m\u001b[43m)\u001b[49m\n",
      "File \u001b[1;32mc:\\Users\\erang\\.conda\\envs\\env\\lib\\site-packages\\numpy\\core\\fromnumeric.py:86\u001b[0m, in \u001b[0;36m_wrapreduction\u001b[1;34m(obj, ufunc, method, axis, dtype, out, **kwargs)\u001b[0m\n\u001b[0;32m     83\u001b[0m         \u001b[38;5;28;01melse\u001b[39;00m:\n\u001b[0;32m     84\u001b[0m             \u001b[38;5;28;01mreturn\u001b[39;00m reduction(axis\u001b[38;5;241m=\u001b[39maxis, out\u001b[38;5;241m=\u001b[39mout, \u001b[38;5;241m*\u001b[39m\u001b[38;5;241m*\u001b[39mpasskwargs)\n\u001b[1;32m---> 86\u001b[0m \u001b[38;5;28;01mreturn\u001b[39;00m ufunc\u001b[38;5;241m.\u001b[39mreduce(obj, axis, dtype, out, \u001b[38;5;241m*\u001b[39m\u001b[38;5;241m*\u001b[39mpasskwargs)\n",
      "\u001b[1;31mValueError\u001b[0m: zero-size array to reduction operation maximum which has no identity"
     ]
    }
   ],
   "source": [
    "from mne_connectivity.viz import plot_sensors_connectivity\n",
    "# Now, visualize the connectivity in 3D:\n",
    "plot_sensors_connectivity(info = epochs.info, con = con_time_array_plot[0, :, :, foi])"
   ]
  },
  {
   "cell_type": "code",
   "execution_count": 37,
   "metadata": {},
   "outputs": [
    {
     "data": {
      "text/plain": [
       "[Text(0, 0, '1Z'),\n",
       " Text(0, 1, '2Z'),\n",
       " Text(0, 2, '3Z'),\n",
       " Text(0, 3, '4Z'),\n",
       " Text(0, 4, '6Z'),\n",
       " Text(0, 5, '7Z'),\n",
       " Text(0, 6, '8Z'),\n",
       " Text(0, 7, '9Z'),\n",
       " Text(0, 8, '1L'),\n",
       " Text(0, 9, '2L'),\n",
       " Text(0, 10, '3L'),\n",
       " Text(0, 11, '4L'),\n",
       " Text(0, 12, '5L'),\n",
       " Text(0, 13, '6L'),\n",
       " Text(0, 14, '7L'),\n",
       " Text(0, 15, '8L'),\n",
       " Text(0, 16, '9L'),\n",
       " Text(0, 17, '10L'),\n",
       " Text(0, 18, '1R'),\n",
       " Text(0, 19, '2R'),\n",
       " Text(0, 20, '3R'),\n",
       " Text(0, 21, '4R'),\n",
       " Text(0, 22, '5R'),\n",
       " Text(0, 23, '6R'),\n",
       " Text(0, 24, '7R'),\n",
       " Text(0, 25, '8R'),\n",
       " Text(0, 26, '9R'),\n",
       " Text(0, 27, '10R'),\n",
       " Text(0, 28, '1LA'),\n",
       " Text(0, 29, '2LA'),\n",
       " Text(0, 30, '3LA'),\n",
       " Text(0, 31, '1LB'),\n",
       " Text(0, 32, '2LB'),\n",
       " Text(0, 33, '3LB'),\n",
       " Text(0, 34, '4LB'),\n",
       " Text(0, 35, '5LB'),\n",
       " Text(0, 36, '1LC'),\n",
       " Text(0, 37, '2LC'),\n",
       " Text(0, 38, '3LC'),\n",
       " Text(0, 39, '4LC'),\n",
       " Text(0, 40, '5LC'),\n",
       " Text(0, 41, '1LD'),\n",
       " Text(0, 42, '2LD'),\n",
       " Text(0, 43, '3LD'),\n",
       " Text(0, 44, '4LD'),\n",
       " Text(0, 45, '1RA'),\n",
       " Text(0, 46, '2RA'),\n",
       " Text(0, 47, '3RA'),\n",
       " Text(0, 48, '1RB'),\n",
       " Text(0, 49, '2RB'),\n",
       " Text(0, 50, '3RB'),\n",
       " Text(0, 51, '4RB'),\n",
       " Text(0, 52, '5RB'),\n",
       " Text(0, 53, '1RC'),\n",
       " Text(0, 54, '2RC'),\n",
       " Text(0, 55, '3RC'),\n",
       " Text(0, 56, '4RC'),\n",
       " Text(0, 57, '5RC'),\n",
       " Text(0, 58, '1RD'),\n",
       " Text(0, 59, '2RD'),\n",
       " Text(0, 60, '3RD'),\n",
       " Text(0, 61, '4RD')]"
      ]
     },
     "execution_count": 37,
     "metadata": {},
     "output_type": "execute_result"
    }
   ],
   "source": [
    "fig, ax = plt.subplots(constrained_layout=True)\n",
    "\n",
    "# Plot with imshow\n",
    "con_plot = ax.imshow(con_time_array_plot[2, :, :, foi], cmap=\"binary\", vmin=0, vmax=1)\n",
    "# Set title\n",
    "ax.set_title(\"plv\")\n",
    "# Add colorbar\n",
    "fig.colorbar(con_plot, ax=ax, shrink=0.7, label=\"Connectivity\")\n",
    "# Fix labels\n",
    "ax.set_xticks(range(len(ch_names)))\n",
    "ax.set_xticklabels(ch_names)\n",
    "ax.set_yticks(range(len(ch_names)))\n",
    "ax.set_yticklabels(ch_names)"
   ]
  },
  {
   "cell_type": "code",
   "execution_count": 35,
   "metadata": {},
   "outputs": [
    {
     "data": {
      "text/plain": [
       "[Text(0, 0, '1Z'),\n",
       " Text(0, 1, '2Z'),\n",
       " Text(0, 2, '3Z'),\n",
       " Text(0, 3, '4Z'),\n",
       " Text(0, 4, '6Z'),\n",
       " Text(0, 5, '7Z'),\n",
       " Text(0, 6, '8Z'),\n",
       " Text(0, 7, '9Z'),\n",
       " Text(0, 8, '1L'),\n",
       " Text(0, 9, '2L'),\n",
       " Text(0, 10, '3L'),\n",
       " Text(0, 11, '4L'),\n",
       " Text(0, 12, '5L'),\n",
       " Text(0, 13, '6L'),\n",
       " Text(0, 14, '7L'),\n",
       " Text(0, 15, '8L'),\n",
       " Text(0, 16, '9L'),\n",
       " Text(0, 17, '10L'),\n",
       " Text(0, 18, '1R'),\n",
       " Text(0, 19, '2R'),\n",
       " Text(0, 20, '3R'),\n",
       " Text(0, 21, '4R'),\n",
       " Text(0, 22, '5R'),\n",
       " Text(0, 23, '6R'),\n",
       " Text(0, 24, '7R'),\n",
       " Text(0, 25, '8R'),\n",
       " Text(0, 26, '9R'),\n",
       " Text(0, 27, '10R'),\n",
       " Text(0, 28, '1LA'),\n",
       " Text(0, 29, '2LA'),\n",
       " Text(0, 30, '3LA'),\n",
       " Text(0, 31, '1LB'),\n",
       " Text(0, 32, '2LB'),\n",
       " Text(0, 33, '3LB'),\n",
       " Text(0, 34, '4LB'),\n",
       " Text(0, 35, '5LB'),\n",
       " Text(0, 36, '1LC'),\n",
       " Text(0, 37, '2LC'),\n",
       " Text(0, 38, '3LC'),\n",
       " Text(0, 39, '4LC'),\n",
       " Text(0, 40, '5LC'),\n",
       " Text(0, 41, '1LD'),\n",
       " Text(0, 42, '2LD'),\n",
       " Text(0, 43, '3LD'),\n",
       " Text(0, 44, '4LD'),\n",
       " Text(0, 45, '1RA'),\n",
       " Text(0, 46, '2RA'),\n",
       " Text(0, 47, '3RA'),\n",
       " Text(0, 48, '1RB'),\n",
       " Text(0, 49, '2RB'),\n",
       " Text(0, 50, '3RB'),\n",
       " Text(0, 51, '4RB'),\n",
       " Text(0, 52, '5RB'),\n",
       " Text(0, 53, '1RC'),\n",
       " Text(0, 54, '2RC'),\n",
       " Text(0, 55, '3RC'),\n",
       " Text(0, 56, '4RC'),\n",
       " Text(0, 57, '5RC'),\n",
       " Text(0, 58, '1RD'),\n",
       " Text(0, 59, '2RD'),\n",
       " Text(0, 60, '3RD'),\n",
       " Text(0, 61, '4RD')]"
      ]
     },
     "execution_count": 35,
     "metadata": {},
     "output_type": "execute_result"
    }
   ],
   "source": [
    "fig, ax = plt.subplots(constrained_layout=True)\n",
    "\n",
    "# Plot with imshow\n",
    "con_plot = ax.imshow(con_time_array_plot[0, :, :, foi], cmap=\"binary\", vmin=0, vmax=1)\n",
    "# Set title\n",
    "ax.set_title(\"coh\")\n",
    "# Add colorbar\n",
    "fig.colorbar(con_plot, ax=ax, shrink=0.7, label=\"Connectivity\")\n",
    "# Fix labels\n",
    "ax.set_xticks(range(len(ch_names)))\n",
    "ax.set_xticklabels(ch_names)\n",
    "ax.set_yticks(range(len(ch_names)))\n",
    "ax.set_yticklabels(ch_names)"
   ]
  },
  {
   "cell_type": "code",
   "execution_count": 38,
   "metadata": {},
   "outputs": [
    {
     "data": {
      "text/plain": [
       "<matplotlib.legend.Legend at 0x1d537caf040>"
      ]
     },
     "execution_count": 38,
     "metadata": {},
     "output_type": "execute_result"
    }
   ],
   "source": [
    "fig, ax = plt.subplots(constrained_layout=True)\n",
    "\n",
    "values =  con_time_array_plot[0, :, :, foi].flatten()\n",
    "\n",
    "ax.hist(values, bins=30, color='blue', alpha=0.7)\n",
    "ax.set_title('Distribution of Connectivity Values')\n",
    "ax.set_xlabel('Connectivity Value')\n",
    "ax.set_ylabel('Frequency')\n",
    "\n",
    "median_value = np.median(values)\n",
    "std_value = np.std(values)\n",
    "median_plus_std = median_value + 1 * std_value # cohen \n",
    "    \n",
    "# Plot the vertical line at median + 1std\n",
    "ax.axvline(median_plus_std, color='red', linestyle='dashed', linewidth=2, label=f'Median + 1 STD: {median_plus_std:.2f}')\n",
    "ax.legend()"
   ]
  },
  {
   "cell_type": "code",
   "execution_count": 39,
   "metadata": {},
   "outputs": [
    {
     "name": "stdout",
     "output_type": "stream",
     "text": [
      "Median value: 0.1186051761621728\n",
      "Standard deviation: 0.11503368071254307\n",
      "Threshold (median + 1 * std): 0.23363885687471586\n"
     ]
    },
    {
     "data": {
      "text/plain": [
       "<matplotlib.legend.Legend at 0x1d537eb74f0>"
      ]
     },
     "execution_count": 39,
     "metadata": {},
     "output_type": "execute_result"
    }
   ],
   "source": [
    "fig, ax = plt.subplots(constrained_layout=True)\n",
    "matrix = con_time_array_plot[0, :, :, foi]\n",
    "    \n",
    "# Extract the lower triangular values excluding the diagonal\n",
    "lower_triangular_values = matrix[np.tril_indices(matrix.shape[0], k=-1)]\n",
    "    \n",
    "# Calculate the median and standard deviation\n",
    "median_value = np.median(lower_triangular_values)\n",
    "std_value = np.std(lower_triangular_values)\n",
    "median_plus_std = median_value + 1* std_value\n",
    "\n",
    "print(f\"Median value: {median_value}\")\n",
    "print(f\"Standard deviation: {std_value}\")\n",
    "print(f\"Threshold (median + 1 * std): {median_plus_std}\")\n",
    "\n",
    "\n",
    "ax.hist(lower_triangular_values, bins=30, color='blue', alpha=0.7)\n",
    "ax.set_title('Distribution of Connectivity Values')\n",
    "ax.set_xlabel('Connectivity Value')\n",
    "ax.set_ylabel('Frequency')\n",
    "\n",
    "# Plot the vertical line at median + 1std\n",
    "ax.axvline(median_plus_std, color='red', linestyle='dashed', linewidth=2, label=f'Median + 1 STD: {median_plus_std:.2f}')\n",
    "ax.legend()"
   ]
  },
  {
   "cell_type": "code",
   "execution_count": 47,
   "metadata": {},
   "outputs": [
    {
     "data": {
      "text/plain": [
       "array([[0.        , 0.        , 0.        , ..., 0.        , 0.        ,\n",
       "        0.        ],\n",
       "       [0.44666263, 0.        , 0.        , ..., 0.        , 0.        ,\n",
       "        0.        ],\n",
       "       [0.15348062, 0.60023336, 0.        , ..., 0.        , 0.        ,\n",
       "        0.        ],\n",
       "       ...,\n",
       "       [0.20936493, 0.14476544, 0.13783157, ..., 0.        , 0.        ,\n",
       "        0.        ],\n",
       "       [0.08251516, 0.10136501, 0.06992509, ..., 0.20954927, 0.        ,\n",
       "        0.        ],\n",
       "       [0.0801134 , 0.09221367, 0.09469154, ..., 0.16142983, 0.18171991,\n",
       "        0.        ]])"
      ]
     },
     "execution_count": 47,
     "metadata": {},
     "output_type": "execute_result"
    }
   ],
   "source": [
    "con_time_array_plot[0, :, :, foi]"
   ]
  },
  {
   "cell_type": "code",
   "execution_count": 46,
   "metadata": {},
   "outputs": [
    {
     "name": "stdout",
     "output_type": "stream",
     "text": [
      "Median value: 0.1186051761621728\n",
      "Standard deviation: 0.11503368071254307\n",
      "Threshold (median + 1 * std): 0.578739899012345\n",
      "Number of edges added: 29\n",
      "\n",
      "Graph Statistics:\n",
      "Degree Centrality: {0: 0.0, 1: 0.01639344262295082, 2: 0.01639344262295082, 3: 0.0, 4: 0.0, 5: 0.0, 6: 0.0819672131147541, 7: 0.0819672131147541, 8: 0.0, 9: 0.01639344262295082, 10: 0.01639344262295082, 11: 0.01639344262295082, 12: 0.0, 13: 0.0, 14: 0.0, 15: 0.04918032786885246, 16: 0.0819672131147541, 17: 0.04918032786885246, 18: 0.0, 19: 0.0, 20: 0.0, 21: 0.0, 22: 0.0, 23: 0.01639344262295082, 24: 0.01639344262295082, 25: 0.03278688524590164, 26: 0.0819672131147541, 27: 0.06557377049180328, 28: 0.0, 29: 0.01639344262295082, 30: 0.01639344262295082, 31: 0.01639344262295082, 32: 0.01639344262295082, 33: 0.0, 34: 0.0, 35: 0.01639344262295082, 36: 0.0, 37: 0.0, 38: 0.06557377049180328, 39: 0.0, 40: 0.01639344262295082, 41: 0.0, 42: 0.01639344262295082, 43: 0.0, 44: 0.01639344262295082, 45: 0.0, 46: 0.0, 47: 0.0, 48: 0.01639344262295082, 49: 0.0, 50: 0.0, 51: 0.0, 52: 0.0, 53: 0.01639344262295082, 54: 0.0, 55: 0.0, 56: 0.0, 57: 0.04918032786885246, 58: 0.0, 59: 0.0, 60: 0.0, 61: 0.03278688524590164}\n",
      "Betweenness Centrality: {0: 0.0, 1: 0.0, 2: 0.0, 3: 0.0, 4: 0.0, 5: 0.0, 6: 0.008378870673952642, 7: 0.010837887067395266, 8: 0.0, 9: 0.0, 10: 0.0, 11: 0.0, 12: 0.0, 13: 0.0, 14: 0.0, 15: 0.006010928961748634, 16: 0.010291438979963572, 17: 0.006010928961748634, 18: 0.0, 19: 0.0, 20: 0.0, 21: 0.0, 22: 0.0, 23: 0.0, 24: 0.0, 25: 0.0, 26: 0.0070127504553734055, 27: 0.005646630236794171, 28: 0.0, 29: 0.0, 30: 0.0, 31: 0.0, 32: 0.0, 33: 0.0, 34: 0.0, 35: 0.0, 36: 0.0, 37: 0.0, 38: 0.003278688524590164, 39: 0.0, 40: 0.0, 41: 0.0, 42: 0.0, 43: 0.0, 44: 0.0, 45: 0.0, 46: 0.0, 47: 0.0, 48: 0.0, 49: 0.0, 50: 0.0, 51: 0.0, 52: 0.0, 53: 0.0, 54: 0.0, 55: 0.0, 56: 0.0, 57: 0.0010018214936247723, 58: 0.0, 59: 0.0, 60: 0.0, 61: 0.0}\n",
      "Closeness Centrality: {0: 0.0, 1: 0.01639344262295082, 2: 0.01639344262295082, 3: 0.0, 4: 0.0, 5: 0.0, 6: 0.11241217798594846, 7: 0.11803278688524589, 8: 0.0, 9: 0.01639344262295082, 10: 0.01639344262295082, 11: 0.01639344262295082, 12: 0.0, 13: 0.0, 14: 0.0, 15: 0.09079445145018916, 16: 0.11241217798594846, 17: 0.09442622950819672, 18: 0.0, 19: 0.0, 20: 0.0, 21: 0.0, 22: 0.0, 23: 0.01639344262295082, 24: 0.01639344262295082, 25: 0.08430913348946135, 26: 0.10730253353204172, 27: 0.09442622950819672, 28: 0.0, 29: 0.03747072599531616, 30: 0.03747072599531616, 31: 0.01639344262295082, 32: 0.03747072599531616, 33: 0.0, 34: 0.0, 35: 0.06380150642445724, 36: 0.0, 37: 0.0, 38: 0.06557377049180328, 39: 0.0, 40: 0.07377049180327869, 41: 0.0, 42: 0.03747072599531616, 43: 0.0, 44: 0.06557377049180327, 45: 0.0, 46: 0.0, 47: 0.0, 48: 0.01639344262295082, 49: 0.0, 50: 0.0, 51: 0.0, 52: 0.0, 53: 0.01639344262295082, 54: 0.0, 55: 0.0, 56: 0.0, 57: 0.07868852459016394, 58: 0.0, 59: 0.0, 60: 0.0, 61: 0.06744730679156909}\n",
      "Clustering Coefficient: {0: 0, 1: 0, 2: 0, 3: 0, 4: 0, 5: 0, 6: 0.4, 7: 0.4, 8: 0, 9: 0, 10: 0, 11: 0, 12: 0, 13: 0, 14: 0, 15: 0.3333333333333333, 16: 0.3, 17: 0.3333333333333333, 18: 0, 19: 0, 20: 0, 21: 0, 22: 0, 23: 0, 24: 0, 25: 1.0, 26: 0.4, 27: 0.5, 28: 0, 29: 0, 30: 0, 31: 0, 32: 0, 33: 0, 34: 0, 35: 0, 36: 0, 37: 0, 38: 0, 39: 0, 40: 0, 41: 0, 42: 0, 43: 0, 44: 0, 45: 0, 46: 0, 47: 0, 48: 0, 49: 0, 50: 0, 51: 0, 52: 0, 53: 0, 54: 0, 55: 0, 56: 0, 57: 0.6666666666666666, 58: 0, 59: 0, 60: 0, 61: 1.0}\n",
      "Average Shortest Path Length: inf\n",
      "Graph Density: 0.015335801163405606\n",
      "Number of Connected Components: 41\n"
     ]
    },
    {
     "ename": "UnboundLocalError",
     "evalue": "local variable 'community' referenced before assignment",
     "output_type": "error",
     "traceback": [
      "\u001b[1;31m---------------------------------------------------------------------------\u001b[0m",
      "\u001b[1;31mUnboundLocalError\u001b[0m                         Traceback (most recent call last)",
      "Cell \u001b[1;32mIn[46], line 1\u001b[0m\n\u001b[1;32m----> 1\u001b[0m \u001b[43mplot_connectivity_graph\u001b[49m\u001b[43m(\u001b[49m\u001b[43mcon_time_array_plot\u001b[49m\u001b[43m[\u001b[49m\u001b[38;5;241;43m0\u001b[39;49m\u001b[43m,\u001b[49m\u001b[43m \u001b[49m\u001b[43m:\u001b[49m\u001b[43m,\u001b[49m\u001b[43m \u001b[49m\u001b[43m:\u001b[49m\u001b[43m,\u001b[49m\u001b[43m \u001b[49m\u001b[43m:\u001b[49m\u001b[43m]\u001b[49m\u001b[43m,\u001b[49m\u001b[43m \u001b[49m\u001b[38;5;124;43m\"\u001b[39;49m\u001b[38;5;124;43mcoh\u001b[39;49m\u001b[38;5;124;43m\"\u001b[39;49m\u001b[43m,\u001b[49m\u001b[43m \u001b[49m\u001b[43mch_names\u001b[49m\u001b[43m,\u001b[49m\u001b[43m \u001b[49m\u001b[43mfoi\u001b[49m\u001b[43m)\u001b[49m\n",
      "Cell \u001b[1;32mIn[45], line 89\u001b[0m, in \u001b[0;36mplot_connectivity_graph\u001b[1;34m(con_data, connectivity_method, ch_names, foi)\u001b[0m\n\u001b[0;32m     86\u001b[0m \u001b[38;5;28mprint\u001b[39m(\u001b[38;5;124mf\u001b[39m\u001b[38;5;124m\"\u001b[39m\u001b[38;5;124mNumber of Connected Components: \u001b[39m\u001b[38;5;132;01m{\u001b[39;00mconnected_components\u001b[38;5;132;01m}\u001b[39;00m\u001b[38;5;124m\"\u001b[39m)\n\u001b[0;32m     88\u001b[0m \u001b[38;5;66;03m# Community detection using the Girvan-Newman algorithm\u001b[39;00m\n\u001b[1;32m---> 89\u001b[0m communities_generator \u001b[38;5;241m=\u001b[39m \u001b[43mcommunity\u001b[49m\u001b[38;5;241m.\u001b[39mgirvan_newman(G)\n\u001b[0;32m     90\u001b[0m top_level_communities \u001b[38;5;241m=\u001b[39m \u001b[38;5;28mnext\u001b[39m(communities_generator)\n\u001b[0;32m     91\u001b[0m communities \u001b[38;5;241m=\u001b[39m \u001b[38;5;28msorted\u001b[39m(\u001b[38;5;28mmap\u001b[39m(\u001b[38;5;28msorted\u001b[39m, top_level_communities))\n",
      "\u001b[1;31mUnboundLocalError\u001b[0m: local variable 'community' referenced before assignment"
     ]
    }
   ],
   "source": [
    "plot_connectivity_graph(con_time_array_plot[0, :, :, :], \"coh\", ch_names, foi)"
   ]
  },
  {
   "cell_type": "code",
   "execution_count": 45,
   "metadata": {},
   "outputs": [],
   "source": [
    "import numpy as np\n",
    "import matplotlib.pyplot as plt\n",
    "import networkx as nx\n",
    "from networkx.algorithms import community\n",
    "\n",
    "def plot_connectivity_graph(con_data, connectivity_method, ch_names, foi):\n",
    "    \"\"\"\n",
    "    Visualize the connectivity graph for a single method using only the lower triangular values excluding the diagonal.\n",
    "\n",
    "    Parameters:\n",
    "    - con_data: ndarray, connectivity data of shape (n_channels, n_channels, n_freqs)\n",
    "    - connectivity_method: str, the name of the connectivity method\n",
    "    - ch_names: list of str, channel names\n",
    "    - foi: int, frequency of interest index\n",
    "    \"\"\"\n",
    "    # Extract the matrix for the frequency of interest\n",
    "    matrix = con_data[:, :, foi]\n",
    "    \n",
    "    # Extract the lower triangular values excluding the diagonal\n",
    "    lower_triangular_values = matrix[np.tril_indices(matrix.shape[0], k=-1)]\n",
    "    \n",
    "    # Calculate the median and standard deviation\n",
    "    median_value = np.median(lower_triangular_values)\n",
    "    std_value = np.std(lower_triangular_values)\n",
    "    threshold = median_value + 4* std_value\n",
    "\n",
    "    # Debug information\n",
    "    print(f\"Median value: {median_value}\")\n",
    "    print(f\"Standard deviation: {std_value}\")\n",
    "    print(f\"Threshold (median + 1 * std): {threshold}\")\n",
    "\n",
    "    # Create a graph from the connectivity matrix\n",
    "    G = nx.Graph()\n",
    "    \n",
    "    # Add nodes\n",
    "    for i, ch_name in enumerate(ch_names):\n",
    "        G.add_node(i, label=ch_name)\n",
    "    \n",
    "    # Add edges with weights above the threshold\n",
    "    edge_count = 0\n",
    "    for i in range(matrix.shape[0]):\n",
    "        for j in range(i):\n",
    "            if matrix[i, j] > threshold:\n",
    "                G.add_edge(i, j, weight=matrix[i, j])\n",
    "                edge_count += 1\n",
    "    \n",
    "    # Debug information\n",
    "    print(f\"Number of edges added: {edge_count}\")\n",
    "\n",
    "    # Define positions for the nodes using a layout algorithm\n",
    "    pos = nx.kamada_kawai_layout(G)\n",
    "    \n",
    "    # Draw the network\n",
    "    plt.figure(figsize=(10, 10))\n",
    "    nx.draw_networkx_nodes(G, pos, node_size=500, node_color='blue', alpha=0.7)\n",
    "    nx.draw_networkx_labels(G, pos, labels=nx.get_node_attributes(G, 'label'), font_size=12)\n",
    "    \n",
    "    # Draw edges with varying thickness based on weight\n",
    "    edges = G.edges(data=True)\n",
    "    nx.draw_networkx_edges(\n",
    "        G, pos, edgelist=edges, alpha=0.5, width=[d['weight']*5 for (u, v, d) in edges])\n",
    "    \n",
    "    plt.title(f'{connectivity_method} Connectivity Graph (Threshold > {threshold:.2f})')\n",
    "    plt.show()\n",
    "\n",
    "    # Calculate and print graph statistics\n",
    "    degree_centrality = nx.degree_centrality(G)\n",
    "    betweenness_centrality = nx.betweenness_centrality(G)\n",
    "    closeness_centrality = nx.closeness_centrality(G)\n",
    "    clustering_coefficient = nx.clustering(G)\n",
    "    try:\n",
    "        avg_shortest_path_length = nx.average_shortest_path_length(G)\n",
    "    except nx.NetworkXError:\n",
    "        avg_shortest_path_length = float('inf')  # Graph is not connected\n",
    "    \n",
    "    graph_density = nx.density(G)\n",
    "    connected_components = nx.number_connected_components(G)\n",
    "    \n",
    "    print(\"\\nGraph Statistics:\")\n",
    "    print(f\"Degree Centrality: {degree_centrality}\")\n",
    "    print(f\"Betweenness Centrality: {betweenness_centrality}\")\n",
    "    print(f\"Closeness Centrality: {closeness_centrality}\")\n",
    "    print(f\"Clustering Coefficient: {clustering_coefficient}\")\n",
    "    print(f\"Average Shortest Path Length: {avg_shortest_path_length}\")\n",
    "    print(f\"Graph Density: {graph_density}\")\n",
    "    print(f\"Number of Connected Components: {connected_components}\")\n",
    "\n",
    "    # Community detection using the Girvan-Newman algorithm\n",
    "    communities_generator = community.girvan_newman(G)\n",
    "    top_level_communities = next(communities_generator)\n",
    "    communities = sorted(map(sorted, top_level_communities))\n",
    "    \n",
    "    print(\"\\nCommunities:\")\n",
    "    for idx, community in enumerate(communities):\n",
    "        print(f\"Community {idx+1}: {community}\")\n",
    "    \n",
    "    # Identify the most influential nodes\n",
    "    most_influential_nodes = sorted(degree_centrality.items(), key=lambda x: x[1], reverse=True)[:5]\n",
    "    print(\"\\nMost Influential Nodes (Top 5 by Degree Centrality):\")\n",
    "    for node, centrality in most_influential_nodes:\n",
    "        print(f\"Node {ch_names[node]} (Centrality: {centrality:.4f})\")\n"
   ]
  },
  {
   "cell_type": "markdown",
   "metadata": {},
   "source": [
    "For classification do filtering from 4 to 30hz\n",
    "\n",
    "Paper to follow: https://royalsocietypublishing.org/doi/10.1098/rsos.211352\n",
    "\n",
    "\n",
    "Surface laplasian -> Connectivity analysis : https://mne.discourse.group/t/how-to-interpret-mne-connectivity-results/6628\n",
    "\n",
    "Graph statistics: https://mne.discourse.group/t/how-to-interpret-mne-connectivity-results/6628\n",
    "\n",
    "https://www.fieldtriptoolbox.org/workshop/madrid2019/tutorial_stats/\n",
    "\n",
    "https://mne.discourse.group/t/within-subject-cluster-based-permutation/4794/2\n",
    "\n",
    "https://mne.discourse.group/t/non-parametric-cluster-level-wilcoxon/5631/2"
   ]
  },
  {
   "cell_type": "code",
   "execution_count": 25,
   "metadata": {},
   "outputs": [
    {
     "data": {
      "image/png": "[encoded data removed]",
      "text/plain": [
       "<MNEBrowseFigure size 1920x1017 with 4 Axes>"
      ]
     },
     "execution_count": 25,
     "metadata": {},
     "output_type": "execute_result"
    }
   ],
   "source": [
    "pnum = 4\n",
    "b_cnt  = 0\n",
    "block_num =  'D0'\n",
    "\n",
    "raw = analysis.processing.loadSegmentedData(pnum, block_num)\n",
    "raw = raw.apply_function(lambda x: x * 1e6)\n",
    "raw.plot(duration= 2, use_opengl= True,  n_channels= 10)"
   ]
  },
  {
   "cell_type": "code",
   "execution_count": 11,
   "metadata": {},
   "outputs": [
    {
     "ename": "NameError",
     "evalue": "name 'con_epochs_array' is not defined",
     "output_type": "error",
     "traceback": [
      "\u001b[0;31m---------------------------------------------------------------------------\u001b[0m",
      "\u001b[0;31mNameError\u001b[0m                                 Traceback (most recent call last)",
      "Cell \u001b[0;32mIn[11], line 1\u001b[0m\n\u001b[0;32m----> 1\u001b[0m con_epochs_array \u001b[38;5;241m=\u001b[39m np\u001b[38;5;241m.\u001b[39mmean(\u001b[43mcon_epochs_array\u001b[49m, axis\u001b[38;5;241m=\u001b[39m\u001b[38;5;241m4\u001b[39m)  \u001b[38;5;66;03m# average over timepoints\u001b[39;00m\n\u001b[1;32m      3\u001b[0m \u001b[38;5;66;03m# In this example, we will just show alpha\u001b[39;00m\n\u001b[1;32m      4\u001b[0m foi \u001b[38;5;241m=\u001b[39m \u001b[38;5;28mlist\u001b[39m(Freq_Bands\u001b[38;5;241m.\u001b[39mkeys())\u001b[38;5;241m.\u001b[39mindex(\u001b[38;5;124m\"\u001b[39m\u001b[38;5;124malpha\u001b[39m\u001b[38;5;124m\"\u001b[39m)  \u001b[38;5;66;03m# frequency of interest\u001b[39;00m\n",
      "\u001b[0;31mNameError\u001b[0m: name 'con_epochs_array' is not defined"
     ]
    }
   ],
   "source": [
    "con_epochs_array = np.mean(con_epochs_array, axis=4)  # average over timepoints\n",
    "\n",
    "# In this example, we will just show alpha\n",
    "foi = list(Freq_Bands.keys()).index(\"alpha\")  # frequency of interest\n",
    "\n",
    "\n",
    "# Define function for plotting con matrices\n",
    "def plot_con_matrix(con_data, n_con_methods):\n",
    "    \"\"\"Visualize the connectivity matrix.\"\"\"\n",
    "    fig, ax = plt.subplots(1, n_con_methods, figsize=(6 * n_con_methods, 6))\n",
    "    for c in range(n_con_methods):\n",
    "        # Plot with imshow\n",
    "        con_plot = ax[c].imshow(con_data[c, :, :, foi], cmap=\"binary\", vmin=0, vmax=1)\n",
    "        # Set title\n",
    "        ax[c].set_title(connectivity_methods[c])\n",
    "        # Add colorbar\n",
    "        fig.colorbar(con_plot, ax=ax[c], shrink=0.7, label=\"Connectivity\")\n",
    "        # Fix labels\n",
    "        ax[c].set_xticks(range(len(ch_names)))\n",
    "        ax[c].set_xticklabels(ch_names)\n",
    "        ax[c].set_yticks(range(len(ch_names)))\n",
    "        ax[c].set_yticklabels(ch_names)\n",
    "        print(\n",
    "            f\"Connectivity method: {connectivity_methods[c]}\\n\"\n",
    "            + f\"{con_data[c,:,:,foi]}\"\n",
    "        )\n",
    "    return fig\n",
    "\n",
    "\n",
    "plot_con_matrix(con_epochs_array, n_con_methods)"
   ]
  },
  {
   "cell_type": "code",
   "execution_count": 11,
   "metadata": {},
   "outputs": [
    {
     "name": "stdout",
     "output_type": "stream",
     "text": [
      "(3, 62, 62, 1)\n"
     ]
    }
   ],
   "source": [
    "pnum = 1\n",
    "b_cnt  = 0\n",
    "block_num =  'ND0'\n",
    "\n",
    "raw = analysis.processing.loadSegmentedData(pnum, block_num)\n",
    "epochs = mne.make_fixed_length_epochs(raw, duration= 30, preload=False)\n",
    "\n",
    "\n",
    "corr_matrix = envelope_correlation(epochs).get_data()\n",
    "print(corr_matrix.shape)\n",
    "\n",
    "\n",
    "import matplotlib.pyplot as plt\n",
    "import numpy as np\n",
    "\n",
    "first_30 = corr_matrix[0]\n",
    "last_30 = corr_matrix[-1]\n",
    "corr_matrices = [first_30, last_30]\n",
    "color_lims = np.percentile(np.array(corr_matrices), [5, 95])\n",
    "titles = [\"First 30 Seconds\", \"Last 30 Seconds\"]\n",
    "\n",
    "fig, axes = plt.subplots(nrows=1, ncols=2,  constrained_layout=True)\n",
    "fig.suptitle(\"Correlation Matrices from First 30 Seconds and Last 30 Seconds\")\n",
    "for ci, corr_matrix in enumerate(corr_matrices):\n",
    "    ax = axes[ci]\n",
    "    mpbl = ax.imshow(corr_matrix, clim=color_lims)\n",
    "    ax.set_xlabel(titles[ci])\n",
    "cbar = fig.colorbar(ax.images[0], label=\"Correlation Coefficient\")"
   ]
  },
  {
   "cell_type": "code",
   "execution_count": null,
   "metadata": {},
   "outputs": [],
   "source": [
    "# Permutation stats\n",
    "\n",
    "# Find the adjacency matrix for EEG channels\n",
    "adjacency, ch_names = mne.channels.find_ch_adjacency(raw.info, ch_type='eeg')\n",
    "\n",
    "# Perform cluster permutation test\n",
    "data = [condition1_data, condition2_data]\n",
    "try:\n",
    "    T_obs, clusters, cluster_p_values, H0 = permutation_cluster_test(\n",
    "        data,\n",
    "        n_permutations=10000,\n",
    "        threshold=dict(start=0, step=0.2),\n",
    "        tail=0,\n",
    "        connectivity=adjacency,  # Use the adjacency matrix for neighboring connections\n",
    "        out_type='mask'\n",
    "    )\n",
    "except Exception as e:\n",
    "    print(f\"Error performing cluster permutation test: {e}\")\n",
    "    raise\n",
    "\n",
    "# Identify significant clusters\n",
    "significant_clusters = np.where(cluster_p_values < 0.05)[0]\n",
    "print(\"Significant clusters: \", significant_clusters)\n",
    "\n",
    "# Save results to a file (optional)\n",
    "np.save('significant_clusters.npy', significant_clusters)"
   ]
  }
 ],
 "metadata": {
  "kernelspec": {
   "display_name": "oddball-KYxTObZq-py3.8",
   "language": "python",
   "name": "python3"
  },
  "language_info": {
   "codemirror_mode": {
    "name": "ipython",
    "version": 3
   },
   "file_extension": ".py",
   "mimetype": "text/x-python",
   "name": "python",
   "nbconvert_exporter": "python",
   "pygments_lexer": "ipython3",
   "version": "3.10.11"
  }
 },
 "nbformat": 4,
 "nbformat_minor": 2
}
