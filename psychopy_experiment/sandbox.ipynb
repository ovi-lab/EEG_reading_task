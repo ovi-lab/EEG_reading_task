{
 "cells": [
  {
   "cell_type": "code",
   "execution_count": 3,
   "metadata": {},
   "outputs": [],
   "source": [
    "text = ''\n",
    "\n",
    "with open('passages/R1.txt') as f:\n",
    "    text = f.read()\n",
    "            "
   ]
  },
  {
   "cell_type": "code",
   "execution_count": 2,
   "metadata": {},
   "outputs": [
    {
     "data": {
      "text/plain": [
       "CompletedProcess(args=['powershell', '-c', 'ls'], returncode=0)"
      ]
     },
     "execution_count": 2,
     "metadata": {},
     "output_type": "execute_result"
    }
   ],
   "source": [
    "import subprocess\n",
    "subprocess.run([\"powershell\", \"-c\", \"ls\"])"
   ]
  },
  {
   "cell_type": "code",
   "execution_count": 6,
   "metadata": {},
   "outputs": [
    {
     "ename": "FileNotFoundError",
     "evalue": "[WinError 2] The system cannot find the file specified",
     "output_type": "error",
     "traceback": [
      "\u001b[1;31m---------------------------------------------------------------------------\u001b[0m",
      "\u001b[1;31mFileNotFoundError\u001b[0m                         Traceback (most recent call last)",
      "Cell \u001b[1;32mIn[6], line 1\u001b[0m\n\u001b[1;32m----> 1\u001b[0m \u001b[43msubprocess\u001b[49m\u001b[38;5;241;43m.\u001b[39;49m\u001b[43mrun\u001b[49m\u001b[43m(\u001b[49m\u001b[43m[\u001b[49m\u001b[38;5;124;43m\"\u001b[39;49m\u001b[38;5;124;43mls\u001b[39;49m\u001b[38;5;124;43m\"\u001b[39;49m\u001b[43m,\u001b[49m\u001b[43m \u001b[49m\u001b[38;5;124;43m\"\u001b[39;49m\u001b[38;5;124;43m-l\u001b[39;49m\u001b[38;5;124;43m\"\u001b[39;49m\u001b[43m]\u001b[49m\u001b[43m)\u001b[49m \n",
      "File \u001b[1;32m~\\AppData\\Local\\Programs\\Python\\Python310\\lib\\subprocess.py:503\u001b[0m, in \u001b[0;36mrun\u001b[1;34m(input, capture_output, timeout, check, *popenargs, **kwargs)\u001b[0m\n\u001b[0;32m    500\u001b[0m     kwargs[\u001b[38;5;124m'\u001b[39m\u001b[38;5;124mstdout\u001b[39m\u001b[38;5;124m'\u001b[39m] \u001b[38;5;241m=\u001b[39m PIPE\n\u001b[0;32m    501\u001b[0m     kwargs[\u001b[38;5;124m'\u001b[39m\u001b[38;5;124mstderr\u001b[39m\u001b[38;5;124m'\u001b[39m] \u001b[38;5;241m=\u001b[39m PIPE\n\u001b[1;32m--> 503\u001b[0m \u001b[38;5;28;01mwith\u001b[39;00m Popen(\u001b[38;5;241m*\u001b[39mpopenargs, \u001b[38;5;241m*\u001b[39m\u001b[38;5;241m*\u001b[39mkwargs) \u001b[38;5;28;01mas\u001b[39;00m process:\n\u001b[0;32m    504\u001b[0m     \u001b[38;5;28;01mtry\u001b[39;00m:\n\u001b[0;32m    505\u001b[0m         stdout, stderr \u001b[38;5;241m=\u001b[39m process\u001b[38;5;241m.\u001b[39mcommunicate(\u001b[38;5;28minput\u001b[39m, timeout\u001b[38;5;241m=\u001b[39mtimeout)\n",
      "File \u001b[1;32m~\\AppData\\Local\\Programs\\Python\\Python310\\lib\\subprocess.py:971\u001b[0m, in \u001b[0;36mPopen.__init__\u001b[1;34m(self, args, bufsize, executable, stdin, stdout, stderr, preexec_fn, close_fds, shell, cwd, env, universal_newlines, startupinfo, creationflags, restore_signals, start_new_session, pass_fds, user, group, extra_groups, encoding, errors, text, umask, pipesize)\u001b[0m\n\u001b[0;32m    967\u001b[0m         \u001b[38;5;28;01mif\u001b[39;00m \u001b[38;5;28mself\u001b[39m\u001b[38;5;241m.\u001b[39mtext_mode:\n\u001b[0;32m    968\u001b[0m             \u001b[38;5;28mself\u001b[39m\u001b[38;5;241m.\u001b[39mstderr \u001b[38;5;241m=\u001b[39m io\u001b[38;5;241m.\u001b[39mTextIOWrapper(\u001b[38;5;28mself\u001b[39m\u001b[38;5;241m.\u001b[39mstderr,\n\u001b[0;32m    969\u001b[0m                     encoding\u001b[38;5;241m=\u001b[39mencoding, errors\u001b[38;5;241m=\u001b[39merrors)\n\u001b[1;32m--> 971\u001b[0m     \u001b[38;5;28;43mself\u001b[39;49m\u001b[38;5;241;43m.\u001b[39;49m\u001b[43m_execute_child\u001b[49m\u001b[43m(\u001b[49m\u001b[43margs\u001b[49m\u001b[43m,\u001b[49m\u001b[43m \u001b[49m\u001b[43mexecutable\u001b[49m\u001b[43m,\u001b[49m\u001b[43m \u001b[49m\u001b[43mpreexec_fn\u001b[49m\u001b[43m,\u001b[49m\u001b[43m \u001b[49m\u001b[43mclose_fds\u001b[49m\u001b[43m,\u001b[49m\n\u001b[0;32m    972\u001b[0m \u001b[43m                        \u001b[49m\u001b[43mpass_fds\u001b[49m\u001b[43m,\u001b[49m\u001b[43m \u001b[49m\u001b[43mcwd\u001b[49m\u001b[43m,\u001b[49m\u001b[43m \u001b[49m\u001b[43menv\u001b[49m\u001b[43m,\u001b[49m\n\u001b[0;32m    973\u001b[0m \u001b[43m                        \u001b[49m\u001b[43mstartupinfo\u001b[49m\u001b[43m,\u001b[49m\u001b[43m \u001b[49m\u001b[43mcreationflags\u001b[49m\u001b[43m,\u001b[49m\u001b[43m \u001b[49m\u001b[43mshell\u001b[49m\u001b[43m,\u001b[49m\n\u001b[0;32m    974\u001b[0m \u001b[43m                        \u001b[49m\u001b[43mp2cread\u001b[49m\u001b[43m,\u001b[49m\u001b[43m \u001b[49m\u001b[43mp2cwrite\u001b[49m\u001b[43m,\u001b[49m\n\u001b[0;32m    975\u001b[0m \u001b[43m                        \u001b[49m\u001b[43mc2pread\u001b[49m\u001b[43m,\u001b[49m\u001b[43m \u001b[49m\u001b[43mc2pwrite\u001b[49m\u001b[43m,\u001b[49m\n\u001b[0;32m    976\u001b[0m \u001b[43m                        \u001b[49m\u001b[43merrread\u001b[49m\u001b[43m,\u001b[49m\u001b[43m \u001b[49m\u001b[43merrwrite\u001b[49m\u001b[43m,\u001b[49m\n\u001b[0;32m    977\u001b[0m \u001b[43m                        \u001b[49m\u001b[43mrestore_signals\u001b[49m\u001b[43m,\u001b[49m\n\u001b[0;32m    978\u001b[0m \u001b[43m                        \u001b[49m\u001b[43mgid\u001b[49m\u001b[43m,\u001b[49m\u001b[43m \u001b[49m\u001b[43mgids\u001b[49m\u001b[43m,\u001b[49m\u001b[43m \u001b[49m\u001b[43muid\u001b[49m\u001b[43m,\u001b[49m\u001b[43m \u001b[49m\u001b[43mumask\u001b[49m\u001b[43m,\u001b[49m\n\u001b[0;32m    979\u001b[0m \u001b[43m                        \u001b[49m\u001b[43mstart_new_session\u001b[49m\u001b[43m)\u001b[49m\n\u001b[0;32m    980\u001b[0m \u001b[38;5;28;01mexcept\u001b[39;00m:\n\u001b[0;32m    981\u001b[0m     \u001b[38;5;66;03m# Cleanup if the child failed starting.\u001b[39;00m\n\u001b[0;32m    982\u001b[0m     \u001b[38;5;28;01mfor\u001b[39;00m f \u001b[38;5;129;01min\u001b[39;00m \u001b[38;5;28mfilter\u001b[39m(\u001b[38;5;28;01mNone\u001b[39;00m, (\u001b[38;5;28mself\u001b[39m\u001b[38;5;241m.\u001b[39mstdin, \u001b[38;5;28mself\u001b[39m\u001b[38;5;241m.\u001b[39mstdout, \u001b[38;5;28mself\u001b[39m\u001b[38;5;241m.\u001b[39mstderr)):\n",
      "File \u001b[1;32m~\\AppData\\Local\\Programs\\Python\\Python310\\lib\\subprocess.py:1456\u001b[0m, in \u001b[0;36mPopen._execute_child\u001b[1;34m(self, args, executable, preexec_fn, close_fds, pass_fds, cwd, env, startupinfo, creationflags, shell, p2cread, p2cwrite, c2pread, c2pwrite, errread, errwrite, unused_restore_signals, unused_gid, unused_gids, unused_uid, unused_umask, unused_start_new_session)\u001b[0m\n\u001b[0;32m   1454\u001b[0m \u001b[38;5;66;03m# Start the process\u001b[39;00m\n\u001b[0;32m   1455\u001b[0m \u001b[38;5;28;01mtry\u001b[39;00m:\n\u001b[1;32m-> 1456\u001b[0m     hp, ht, pid, tid \u001b[38;5;241m=\u001b[39m \u001b[43m_winapi\u001b[49m\u001b[38;5;241;43m.\u001b[39;49m\u001b[43mCreateProcess\u001b[49m\u001b[43m(\u001b[49m\u001b[43mexecutable\u001b[49m\u001b[43m,\u001b[49m\u001b[43m \u001b[49m\u001b[43margs\u001b[49m\u001b[43m,\u001b[49m\n\u001b[0;32m   1457\u001b[0m \u001b[43m                             \u001b[49m\u001b[38;5;66;43;03m# no special security\u001b[39;49;00m\n\u001b[0;32m   1458\u001b[0m \u001b[43m                             \u001b[49m\u001b[38;5;28;43;01mNone\u001b[39;49;00m\u001b[43m,\u001b[49m\u001b[43m \u001b[49m\u001b[38;5;28;43;01mNone\u001b[39;49;00m\u001b[43m,\u001b[49m\n\u001b[0;32m   1459\u001b[0m \u001b[43m                             \u001b[49m\u001b[38;5;28;43mint\u001b[39;49m\u001b[43m(\u001b[49m\u001b[38;5;129;43;01mnot\u001b[39;49;00m\u001b[43m \u001b[49m\u001b[43mclose_fds\u001b[49m\u001b[43m)\u001b[49m\u001b[43m,\u001b[49m\n\u001b[0;32m   1460\u001b[0m \u001b[43m                             \u001b[49m\u001b[43mcreationflags\u001b[49m\u001b[43m,\u001b[49m\n\u001b[0;32m   1461\u001b[0m \u001b[43m                             \u001b[49m\u001b[43menv\u001b[49m\u001b[43m,\u001b[49m\n\u001b[0;32m   1462\u001b[0m \u001b[43m                             \u001b[49m\u001b[43mcwd\u001b[49m\u001b[43m,\u001b[49m\n\u001b[0;32m   1463\u001b[0m \u001b[43m                             \u001b[49m\u001b[43mstartupinfo\u001b[49m\u001b[43m)\u001b[49m\n\u001b[0;32m   1464\u001b[0m \u001b[38;5;28;01mfinally\u001b[39;00m:\n\u001b[0;32m   1465\u001b[0m     \u001b[38;5;66;03m# Child is launched. Close the parent's copy of those pipe\u001b[39;00m\n\u001b[0;32m   1466\u001b[0m     \u001b[38;5;66;03m# handles that only the child should have open.  You need\u001b[39;00m\n\u001b[1;32m   (...)\u001b[0m\n\u001b[0;32m   1469\u001b[0m     \u001b[38;5;66;03m# pipe will not close when the child process exits and the\u001b[39;00m\n\u001b[0;32m   1470\u001b[0m     \u001b[38;5;66;03m# ReadFile will hang.\u001b[39;00m\n\u001b[0;32m   1471\u001b[0m     \u001b[38;5;28mself\u001b[39m\u001b[38;5;241m.\u001b[39m_close_pipe_fds(p2cread, p2cwrite,\n\u001b[0;32m   1472\u001b[0m                          c2pread, c2pwrite,\n\u001b[0;32m   1473\u001b[0m                          errread, errwrite)\n",
      "\u001b[1;31mFileNotFoundError\u001b[0m: [WinError 2] The system cannot find the file specified"
     ]
    }
   ],
   "source": [
    "subprocess.run([\"ls\", \"-l\"]) "
   ]
  },
  {
   "cell_type": "code",
   "execution_count": 4,
   "metadata": {},
   "outputs": [
    {
     "data": {
      "text/plain": [
       "CompletedProcess(args='echo Hello World', returncode=0)"
      ]
     },
     "execution_count": 4,
     "metadata": {},
     "output_type": "execute_result"
    }
   ],
   "source": [
    "subprocess.run(\"echo Hello World\", shell=True)"
   ]
  },
  {
   "cell_type": "code",
   "execution_count": null,
   "metadata": {},
   "outputs": [],
   "source": [
    "response= subprocess.call([\"ping\", \"-c\", \"1\", hostname], "
   ]
  },
  {
   "cell_type": "code",
   "execution_count": 3,
   "metadata": {},
   "outputs": [
    {
     "data": {
      "text/plain": [
       "CompletedProcess(args=['cmd', '/c', 'dir'], returncode=0)"
      ]
     },
     "execution_count": 3,
     "metadata": {},
     "output_type": "execute_result"
    }
   ],
   "source": [
    "import subprocess\n",
    "subprocess.run(['cmd', '/c', 'dir'])"
   ]
  },
  {
   "cell_type": "code",
   "execution_count": 8,
   "metadata": {},
   "outputs": [
    {
     "name": "stdout",
     "output_type": "stream",
     "text": [
      "0\n",
      "The human body needs sleep to function properly. Sleep is the time when the body repairs and regenerates itself. It is also a time when the mind and body can rest and recharge. A lack of sleep can have serious consequences, both physically and mentally. Lack of sleep can lead to a number of problems, including decreased alertness, decreased ability to concentrate, and increased stress levels. It can also lead to physical problems such as headaches, heart disease, and obesity.\n",
      "1\n",
      "Studies have also shown that lack of sleep can affect memory and decision-making abilities. In order to get the most out of sleep, it is important to have a consistent sleep schedule. This means going to bed and waking up at the same time every day, even on weekends. It is also important to create a sleep environment that is conducive to sleep, such as a quiet, dark room with a comfortable bed and pillows. The amount of sleep needed\n",
      "2\n",
      "varies from person to person, but most adults need between 7 and 8 hours of sleep each night. It is important to listen to your body and pay attention to how you feel after different amounts of sleep. If you feel well-rested and energetic, then you are probably getting enough sleep. In conclusion, sleep is an essential part of our lives and plays a crucial role in our overall health and well-being. It is important to prioritize sleep and make\n",
      "3\n",
      "sure that we are getting enough of it every day.\n"
     ]
    }
   ],
   "source": [
    "sentences = []\n",
    "word_count = 80\n",
    "start = 0\n",
    "end = 0\n",
    "\n",
    "num_pages =  int(len(full_text)/ word_count)  if len(full_text) % word_count ==0 else int(len(full_text)/ word_count)  +1\n",
    "\n",
    "for i in range(0, num_pages):\n",
    "    print(i)\n",
    "    end = end + word_count if end + word_count < len(full_text) else len(full_text)\n",
    "    text_range = full_text[start: end ]\n",
    "    sentence = ' '.join(text_range)\n",
    "    sentences.append(sentence)\n",
    "    print(sentence)\n",
    "    start =  end"
   ]
  },
  {
   "cell_type": "code",
   "execution_count": 5,
   "metadata": {},
   "outputs": [],
   "source": [
    "def format_text(text, line_length=38, lines_per_page=9):\n",
    "    words = text.split()\n",
    "    pages = []\n",
    "    current_page = []\n",
    "    current_line = \"\"\n",
    "\n",
    "    for word in words:\n",
    "        # Check if adding the next word would exceed the line length\n",
    "        if len(current_line) + len(word) + 1 <= line_length:\n",
    "            if current_line:\n",
    "                current_line += \" \"\n",
    "            current_line += word\n",
    "        else:\n",
    "            # Add the current line to the current page\n",
    "            current_line += ' /n'  \n",
    "            current_page.append(current_line)\n",
    "            current_line = word\n",
    "            # Check if the current page has enough lines\n",
    "            if len(current_page) == lines_per_page:\n",
    "                pages.append(current_page)\n",
    "                current_page = []\n",
    "\n",
    "    # Add any remaining text to the current page\n",
    "    if current_line:\n",
    "        current_page.append(current_line)\n",
    "    if current_page:\n",
    "        pages.append(current_page)\n",
    "\n",
    "    return pages\n"
   ]
  },
  {
   "cell_type": "code",
   "execution_count": 10,
   "metadata": {},
   "outputs": [],
   "source": [
    "def format_text(text, line_length=38, lines_per_page=9):\n",
    "    words = text.split()\n",
    "    pages = []\n",
    "    current_page = \"\"\n",
    "    current_line = \"\"\n",
    "    line_count = 0\n",
    "\n",
    "    for word in words:\n",
    "        # Check if adding the next word would exceed the line length\n",
    "        if len(current_line) + len(word) + 1 <= line_length:\n",
    "            # if current_line:\n",
    "            current_line += \" \"\n",
    "            current_line += word\n",
    "        else:\n",
    "            # Add the current line to the current page\n",
    "            current_line += ' \\n '  \n",
    "            current_page += current_line\n",
    "            current_line = word\n",
    "            line_count += 1\n",
    "            # Check if the current page has enough lines\n",
    "            if line_count == lines_per_page:\n",
    "                line_count = 0\n",
    "                pages.append(current_page)\n",
    "                current_page = \" \"\n",
    "\n",
    "    # Add any remaining text to the current page\n",
    "    if current_line:\n",
    "        current_page += current_line\n",
    "    if current_page:\n",
    "        pages.append(current_page)\n",
    "\n",
    "    return pages"
   ]
  },
  {
   "cell_type": "code",
   "execution_count": 8,
   "metadata": {},
   "outputs": [],
   "source": [
    "def print_pages(pages):\n",
    "    for page_num, page in enumerate(pages):\n",
    "        print(f\"Page {page_num + 1}:\")\n",
    "        print(page)\n",
    "        print()"
   ]
  },
  {
   "cell_type": "code",
   "execution_count": 11,
   "metadata": {},
   "outputs": [
    {
     "name": "stdout",
     "output_type": "stream",
     "text": [
      "Page 1:\n",
      " What you see is a kind of cultural \n",
      " unity, first of all, within the \n",
      " Mycenaean world itself. It is evident \n",
      " that these different Mycenaean towns, \n",
      " all throughout the Greek world, on \n",
      " both sides of the Aegean Sea, were in \n",
      " touch with each other. One of the \n",
      " things thatâ€™s interesting about that \n",
      " is you can see pottery styles that you \n",
      " \n",
      "\n",
      "Page 2:\n",
      " can hardly tell whether they came from \n",
      " one end of the Mediterranean or \n",
      " another, if theyâ€™re of the Mycenaean \n",
      " variety, because it was a single \n",
      " culture. I donâ€™t mean there were no \n",
      " local variations, but there was this \n",
      " general unity. Iâ€™m going to contrast \n",
      " that with the situation in Greece \n",
      " after the fall of the Mycenaean world, \n",
      " \n",
      "\n",
      "Page 3:\n",
      " and I was going to say not just in the \n",
      " Mycenaean towns themselves, but over \n",
      " the entire Aegean Sea and indeed \n",
      " across the Mediterranean. In the years \n",
      " of the Mycenaean Period, roughly from \n",
      " 1600 to 1100 or so B.C., you are \n",
      " dealing with a largely unified \n",
      " culture. What is it? What do we talk \n",
      " about the world like these days? \n",
      " \n",
      "\n",
      "Page 4:\n",
      " Whatâ€™s the clichÃ©? Globalized \n",
      " world; it was a globalized world, \n",
      " except it was a little piece of the \n",
      " globe. But they didnâ€™t really know \n",
      " or care about very much outside of the \n",
      " Mediterranean area.Now, in the \n",
      " respects that I have spelled out, and \n",
      " I mean chiefly the fact that they were \n",
      " engaged in commerce and industry to \n",
      " \n",
      "\n",
      "Page 5:\n",
      " some degree and that they were a \n",
      " trading people and that they were in \n",
      " touch with one another and so on, they \n",
      " were already similar to the \n",
      " civilizations that came before them in \n",
      " the ancient Mediterranean Near East. \n",
      " In those places, in Egypt, the \n",
      " Pharaoh, and in Mesopotamia at first \n",
      " individual city states were ruled in \n",
      " \n",
      "\n",
      "Page 6:\n",
      " the same way as everybody else Iâ€™m \n",
      " going to be talking about now, by \n",
      " somebody who is a king, a monarch, a \n",
      " one-man ruler who is the warlord, \n",
      " commander of the armies, who has the \n",
      " control of the power in the state, but \n",
      " more than that, all the economic \n",
      " activity that we find â€” and our best \n",
      " example of what Iâ€™m about to say is \n",
      " \n",
      "\n",
      "Page 7:\n",
      " in Mesopotamia â€” in the cities of \n",
      " Tigress-Euphrates Valley. The ruler \n",
      " there, from his palace, assisted by \n",
      " vast groups of bureaucrats directed \n",
      " the economy of his land entirely and \n",
      " fully. Agriculture was overwhelmingly \n",
      " the activity, the most important \n",
      " activity of the people of that area, \n",
      " of any area. So, we have evidence that \n",
      " \n",
      "\n",
      "Page 8:\n",
      " the king doled out seed for planting, \n",
      " instructed people just exactly when to \n",
      " plant, where to plant, what to plant \n",
      " there, when to fertilize it if they \n",
      " did. In Mesopotamia they usually \n",
      " didnâ€™t need to because the richness \n",
      " of the soil and so on. In other words, \n",
      " you have a degree of centralized \n",
      " control of true, monarchical power, of \n",
      " \n",
      "\n",
      "Page 9:\n",
      " a wealthy monarchical power. Already \n",
      " the model is there in Asia.\n",
      "\n"
     ]
    }
   ],
   "source": [
    "pages = format_text(text)\n",
    "print_pages(pages)"
   ]
  }
 ],
 "metadata": {
  "kernelspec": {
   "display_name": "psychopy",
   "language": "python",
   "name": "python3"
  },
  "language_info": {
   "codemirror_mode": {
    "name": "ipython",
    "version": 3
   },
   "file_extension": ".py",
   "mimetype": "text/x-python",
   "name": "python",
   "nbconvert_exporter": "python",
   "pygments_lexer": "ipython3",
   "version": "3.10.11"
  }
 },
 "nbformat": 4,
 "nbformat_minor": 2
}
