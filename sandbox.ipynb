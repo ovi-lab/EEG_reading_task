{
 "cells": [
  {
   "cell_type": "code",
   "execution_count": 3,
   "metadata": {},
   "outputs": [],
   "source": [
    "full_text = []\n",
    "\n",
    "with open('passages/R1.txt') as f:\n",
    "    for line in f:\n",
    "        for word in line.split():\n",
    "            full_text.append(word)\n",
    "            "
   ]
  },
  {
   "cell_type": "code",
   "execution_count": 8,
   "metadata": {},
   "outputs": [
    {
     "name": "stdout",
     "output_type": "stream",
     "text": [
      "0\n",
      "The human body needs sleep to function properly. Sleep is the time when the body repairs and regenerates itself. It is also a time when the mind and body can rest and recharge. A lack of sleep can have serious consequences, both physically and mentally. Lack of sleep can lead to a number of problems, including decreased alertness, decreased ability to concentrate, and increased stress levels. It can also lead to physical problems such as headaches, heart disease, and obesity.\n",
      "1\n",
      "Studies have also shown that lack of sleep can affect memory and decision-making abilities. In order to get the most out of sleep, it is important to have a consistent sleep schedule. This means going to bed and waking up at the same time every day, even on weekends. It is also important to create a sleep environment that is conducive to sleep, such as a quiet, dark room with a comfortable bed and pillows. The amount of sleep needed\n",
      "2\n",
      "varies from person to person, but most adults need between 7 and 8 hours of sleep each night. It is important to listen to your body and pay attention to how you feel after different amounts of sleep. If you feel well-rested and energetic, then you are probably getting enough sleep. In conclusion, sleep is an essential part of our lives and plays a crucial role in our overall health and well-being. It is important to prioritize sleep and make\n",
      "3\n",
      "sure that we are getting enough of it every day.\n"
     ]
    }
   ],
   "source": [
    "sentences = []\n",
    "word_count = 80\n",
    "start = 0\n",
    "end = 0\n",
    "\n",
    "num_pages =  int(len(full_text)/ word_count)  if len(full_text) % word_count ==0 else int(len(full_text)/ word_count)  +1\n",
    "\n",
    "for i in range(0, num_pages):\n",
    "    print(i)\n",
    "    end = end + word_count if end + word_count < len(full_text) else len(full_text)\n",
    "    text_range = full_text[start: end ]\n",
    "    sentence = ' '.join(text_range)\n",
    "    sentences.append(sentence)\n",
    "    print(sentence)\n",
    "    start =  end"
   ]
  },
  {
   "cell_type": "code",
   "execution_count": 6,
   "metadata": {},
   "outputs": [
    {
     "data": {
      "text/plain": [
       "3"
      ]
     },
     "execution_count": 6,
     "metadata": {},
     "output_type": "execute_result"
    }
   ],
   "source": [
    "len(sentences)"
   ]
  }
 ],
 "metadata": {
  "kernelspec": {
   "display_name": "psychopy",
   "language": "python",
   "name": "python3"
  },
  "language_info": {
   "codemirror_mode": {
    "name": "ipython",
    "version": 3
   },
   "file_extension": ".py",
   "mimetype": "text/x-python",
   "name": "python",
   "nbconvert_exporter": "python",
   "pygments_lexer": "ipython3",
   "version": "3.10.11"
  }
 },
 "nbformat": 4,
 "nbformat_minor": 2
}
